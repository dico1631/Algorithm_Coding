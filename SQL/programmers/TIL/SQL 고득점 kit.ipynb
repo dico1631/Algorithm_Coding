{
 "cells": [
  {
   "cell_type": "markdown",
   "metadata": {},
   "source": [
    "# 1. 상위 n개 추출\n",
    "- mySQL\n",
    "```\n",
    "SELECT A\n",
    "FROM B\n",
    "LIMIT n\n",
    "```\n",
    "- Oracle\n",
    "```\n",
    "SELECT A\n",
    "FROM B\n",
    "WHERE ROWNUM <= n\n",
    "```\n",
    "- SQL Server\n",
    "```\n",
    "SELECT TOP n A\n",
    "FROM B\n",
    "```"
   ]
  },
  {
   "cell_type": "markdown",
   "metadata": {},
   "source": [
    "# 2. MIN/MAX\n",
    "## 1) 전체의 MIN/MAX 값 찾기 : GROUP BY 사용X\n",
    "- mySQL\n",
    "```\n",
    "SELECT MAX(A)\n",
    "FROM B\n",
    "```\n",
    "- Oracle : AS 안쓰기, \"\" 사용\n",
    "```\n",
    "SELECT MAX(DATETIME) \"시간\"\n",
    "FROM ANIMAL_INS\n",
    "```\n",
    "\n",
    "## 2) 각 그룹에서 MIN/MAX 값 찾기 : GROUP BY 사용O\n",
    "- mySQL\n",
    "```\n",
    "SELECT MAX(A) AS '시간'\n",
    "FROM B\n",
    "GROUP BY A\n",
    "```\n",
    "- Oracle\n",
    "```\n",
    "SELECT MAX(DATETIME) \"시간\"\n",
    "FROM ANIMAL_INS\n",
    "GROUP BY A\n",
    "```"
   ]
  },
  {
   "cell_type": "markdown",
   "metadata": {},
   "source": [
    "# 3. DISTINCT\n",
    "- mySQL\n",
    "```\n",
    "SELECT COUNT(DISTINCT(A))\n",
    "```\n",
    "- Oracle\n",
    "```\n",
    "SELECT COUNT(DISTINCT A)\n",
    "```"
   ]
  },
  {
   "cell_type": "code",
   "execution_count": null,
   "metadata": {},
   "outputs": [],
   "source": []
  }
 ],
 "metadata": {
  "kernelspec": {
   "display_name": "Python 3",
   "language": "python",
   "name": "python3"
  },
  "language_info": {
   "codemirror_mode": {
    "name": "ipython",
    "version": 3
   },
   "file_extension": ".py",
   "mimetype": "text/x-python",
   "name": "python",
   "nbconvert_exporter": "python",
   "pygments_lexer": "ipython3",
   "version": "3.7.6"
  }
 },
 "nbformat": 4,
 "nbformat_minor": 4
}
