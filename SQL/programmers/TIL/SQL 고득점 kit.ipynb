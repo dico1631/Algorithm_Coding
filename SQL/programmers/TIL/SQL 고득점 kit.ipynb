{
 "cells": [
  {
   "cell_type": "markdown",
   "metadata": {},
   "source": [
    "# 1. 상위 n개 추출\n",
    "- mySQL\n",
    "```\n",
    "SELECT A\n",
    "FROM B\n",
    "LIMIT n\n",
    "```\n",
    "- Oracle\n",
    "```\n",
    "SELECT A\n",
    "FROM B\n",
    "WHERE ROWNUM <= n\n",
    "```\n",
    "- SQL Server\n",
    "```\n",
    "SELECT TOP n A\n",
    "FROM B\n",
    "```"
   ]
  }
 ],
 "metadata": {
  "kernelspec": {
   "display_name": "Python 3",
   "language": "python",
   "name": "python3"
  },
  "language_info": {
   "codemirror_mode": {
    "name": "ipython",
    "version": 3
   },
   "file_extension": ".py",
   "mimetype": "text/x-python",
   "name": "python",
   "nbconvert_exporter": "python",
   "pygments_lexer": "ipython3",
   "version": "3.7.6"
  }
 },
 "nbformat": 4,
 "nbformat_minor": 4
}
