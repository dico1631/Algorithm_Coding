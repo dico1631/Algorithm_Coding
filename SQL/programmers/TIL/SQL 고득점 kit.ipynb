{
 "cells": [
  {
   "cell_type": "markdown",
   "metadata": {},
   "source": [
    "# 상위 n개 추출\n",
    "- mySQL\n",
    "```\n",
    "SELECT A\n",
    "FROM B\n",
    "LIMIT n\n",
    "```\n",
    "- Oracle\n",
    "```\n",
    "SELECT A\n",
    "FROM B\n",
    "WHERE ROWNUM <= n\n",
    "```\n",
    "- SQL Server\n",
    "```\n",
    "SELECT TOP n A\n",
    "FROM B\n",
    "```"
   ]
  },
  {
   "cell_type": "markdown",
   "metadata": {},
   "source": [
    "# MIN/MAX\n",
    "## 전체의 MIN/MAX 값 찾기 : GROUP BY 사용X\n",
    "- mySQL\n",
    "```\n",
    "SELECT MAX(A)\n",
    "FROM B\n",
    "```\n",
    "- Oracle : AS 안쓰기, \"\" 사용\n",
    "```\n",
    "SELECT MAX(DATETIME) \"시간\"\n",
    "FROM ANIMAL_INS\n",
    "```\n",
    "\n",
    "## 각 그룹에서 MIN/MAX 값 찾기 : GROUP BY 사용O\n",
    "- mySQL\n",
    "```\n",
    "SELECT MAX(A) AS '시간'\n",
    "FROM B\n",
    "GROUP BY A\n",
    "```\n",
    "- Oracle\n",
    "```\n",
    "SELECT MAX(DATETIME) \"시간\"\n",
    "FROM ANIMAL_INS\n",
    "GROUP BY A\n",
    "```"
   ]
  },
  {
   "cell_type": "markdown",
   "metadata": {},
   "source": [
    "# DISTINCT\n",
    "- mySQL\n",
    "```\n",
    "SELECT COUNT(DISTINCT(A))\n",
    "```\n",
    "- Oracle\n",
    "```\n",
    "SELECT COUNT(DISTINCT A)\n",
    "```"
   ]
  },
  {
   "cell_type": "markdown",
   "metadata": {},
   "source": [
    "# BETWEEN, IN, LIKE, IS NULL, IS NOT NULL\n",
    "- WHERE AGE BETWEEN a AND b\n",
    "- WHERE NAME IN ('A','B','C')\n",
    "- WHERE NAME LIKE '%검색어\n",
    "- WHERE NAME IS (NOT) NULL"
   ]
  },
  {
   "cell_type": "markdown",
   "metadata": {},
   "source": [
    "# DATETIME 함수\n",
    "- dayofweek(date) : 날짜를 한 주의 몇 번째 (1 = 일요일, 2 = 월요일, ... 7 = 토요일)\n",
    "- weekday(date) : 날짜를 한 주의 몇 번째 (0 = 월요일, 1=화요일 ... 6 = 일요일)\n",
    "- HOUR(DATETIME 형식인 컬럼) : DATETIME 중 HOUR만 사용\n",
    "\n",
    "출처 : https://jang8584.tistory.com/7"
   ]
  },
  {
   "cell_type": "code",
   "execution_count": null,
   "metadata": {},
   "outputs": [],
   "source": []
  }
 ],
 "metadata": {
  "kernelspec": {
   "display_name": "Python 3",
   "language": "python",
   "name": "python3"
  },
  "language_info": {
   "codemirror_mode": {
    "name": "ipython",
    "version": 3
   },
   "file_extension": ".py",
   "mimetype": "text/x-python",
   "name": "python",
   "nbconvert_exporter": "python",
   "pygments_lexer": "ipython3",
   "version": "3.7.6"
  },
  "toc": {
   "base_numbering": 1,
   "nav_menu": {},
   "number_sections": true,
   "sideBar": true,
   "skip_h1_title": false,
   "title_cell": "Table of Contents",
   "title_sidebar": "Contents",
   "toc_cell": false,
   "toc_position": {},
   "toc_section_display": true,
   "toc_window_display": false
  },
  "varInspector": {
   "cols": {
    "lenName": 16,
    "lenType": 16,
    "lenVar": 40
   },
   "kernels_config": {
    "python": {
     "delete_cmd_postfix": "",
     "delete_cmd_prefix": "del ",
     "library": "var_list.py",
     "varRefreshCmd": "print(var_dic_list())"
    },
    "r": {
     "delete_cmd_postfix": ") ",
     "delete_cmd_prefix": "rm(",
     "library": "var_list.r",
     "varRefreshCmd": "cat(var_dic_list()) "
    }
   },
   "types_to_exclude": [
    "module",
    "function",
    "builtin_function_or_method",
    "instance",
    "_Feature"
   ],
   "window_display": false
  }
 },
 "nbformat": 4,
 "nbformat_minor": 4
}
