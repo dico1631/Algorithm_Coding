{
 "cells": [
  {
   "cell_type": "markdown",
   "metadata": {},
   "source": [
    "# 프로그래머스 문제\n",
    "## 1. 완주하지 못한 선수\n",
    "- 참가자(participant) 중 완주자(completion) 명단이 있을 때 완주하지 못한 선수명을 출력해라.\n",
    "\n",
    "### 제한사항\n",
    "- 완주하지 못한 선수는 1명\n",
    "- 참가자 중에 동명이인 존재"
   ]
  },
  {
   "cell_type": "markdown",
   "metadata": {},
   "source": [
    "1) 나의 풀이\n",
    "\n",
    "- 정확성 만족, 효율성 만족"
   ]
  },
  {
   "cell_type": "code",
   "execution_count": 1,
   "metadata": {},
   "outputs": [],
   "source": [
    "def solution(participant, completion):\n",
    "    answer = ''\n",
    "    participant = sorted(participant)\n",
    "    completion = sorted(completion)\n",
    "    num = len(participant)\n",
    "    for i in range(num):\n",
    "        if i is (num-1):\n",
    "            answer = participant[i]\n",
    "            break\n",
    "        elif participant[i] != completion[i]:\n",
    "            answer = participant[i]\n",
    "            break\n",
    "    \n",
    "    return answer"
   ]
  },
  {
   "cell_type": "markdown",
   "metadata": {},
   "source": [
    "2) 파이썬 모듈을 이용한 풀이 (다른 사람의 풀이)"
   ]
  },
  {
   "cell_type": "code",
   "execution_count": 3,
   "metadata": {},
   "outputs": [],
   "source": [
    "import collections"
   ]
  },
  {
   "cell_type": "code",
   "execution_count": 4,
   "metadata": {},
   "outputs": [],
   "source": [
    "def solution(participant, completion):\n",
    "    answer = collection.Counter(participant) - collection.Counter(completion)\n",
    "    \n",
    "    return list(answer.keys())[0]"
   ]
  }
 ],
 "metadata": {
  "kernelspec": {
   "display_name": "Python 3",
   "language": "python",
   "name": "python3"
  },
  "language_info": {
   "codemirror_mode": {
    "name": "ipython",
    "version": 3
   },
   "file_extension": ".py",
   "mimetype": "text/x-python",
   "name": "python",
   "nbconvert_exporter": "python",
   "pygments_lexer": "ipython3",
   "version": "3.7.6"
  }
 },
 "nbformat": 4,
 "nbformat_minor": 4
}
