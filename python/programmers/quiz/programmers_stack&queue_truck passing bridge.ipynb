{
 "cells": [
  {
   "cell_type": "markdown",
   "metadata": {},
   "source": [
    "# 프로그래머스 문제\n",
    "\n",
    "## 13. 다리를 지나는 트럭\n",
    " \n",
    "### 제한사항\n",
    "- 가격이 유지 혹은 상승할 동안의 초를 구하는 것이다.\n",
    "<br>\n",
    "<br>\n",
    "\n",
    "#### 효율성 통과가 관건인 문제였음!"
   ]
  },
  {
   "cell_type": "code",
   "execution_count": 1,
   "metadata": {},
   "outputs": [],
   "source": [
    "bridge_length = 2\n",
    "weight = 10\n",
    "truck_weights = [7,4,5,6]"
   ]
  },
  {
   "cell_type": "code",
   "execution_count": 4,
   "metadata": {},
   "outputs": [],
   "source": [
    "def time_to_exit(truck_dict, passing, time, bridge_length):\n",
    "    if truck_dict[passing[0]]%bridge_length == 0:\n",
    "        print(\"나옴\", time%bridge_length)\n",
    "        passing.popleft()\n",
    "        return True\n",
    "    else: return False"
   ]
  },
  {
   "cell_type": "code",
   "execution_count": 2,
   "metadata": {},
   "outputs": [
    {
     "data": {
      "text/plain": [
       "{7: 0, 4: 0, 5: 0, 6: 0}"
      ]
     },
     "execution_count": 2,
     "metadata": {},
     "output_type": "execute_result"
    }
   ],
   "source": [
    "truck_dict = {t:0 for t in truck_weights}\n",
    "truck_dict"
   ]
  },
  {
   "cell_type": "code",
   "execution_count": 5,
   "metadata": {
    "scrolled": true
   },
   "outputs": [
    {
     "name": "stdout",
     "output_type": "stream",
     "text": [
      "{7: 1, 4: 1, 5: 0, 6: 0}\n",
      "deque([4]) 1\n",
      "{7: 1, 4: 1, 5: 1, 6: 0}\n",
      "deque([4, 5]) 2\n",
      "{7: 1, 4: 1, 5: 1, 6: 1}\n",
      "deque([6]) 3\n"
     ]
    },
    {
     "data": {
      "text/plain": [
       "4"
      ]
     },
     "execution_count": 5,
     "metadata": {},
     "output_type": "execute_result"
    }
   ],
   "source": [
    "from collections import deque\n",
    "\n",
    "passing = deque()\n",
    "time = 0\n",
    "\n",
    "truck_weights = deque(truck_weights)\n",
    "for i in range(len(truck_weights)):\n",
    "    time += 1\n",
    "    enter = truck_weights.popleft()\n",
    "    passing.append(enter)\n",
    "    truck_dict[enter] += 1\n",
    "    print(truck_dict)\n",
    "    print(passing, time)\n",
    "    time_to_exit(truck_dict, passing, time, bridge_length)\n",
    "    while (truck_weights) and (sum(passing)+truck_weights[0] > weight):\n",
    "        while(time_to_exit(truck_dict, passing, time, bridge_length)):\n",
    "            print(\"시간 더함\", time)\n",
    "            time += 1\n",
    "        passing.popleft()\n",
    "        \n",
    "        \n",
    "time += time%bridge_length\n",
    "        \n",
    "time"
   ]
  },
  {
   "cell_type": "code",
   "execution_count": 23,
   "metadata": {},
   "outputs": [],
   "source": [
    "bridge_length = 2\n",
    "weight = 10\n",
    "truck_weights = [7,4,5,6]"
   ]
  },
  {
   "cell_type": "code",
   "execution_count": 24,
   "metadata": {},
   "outputs": [
    {
     "name": "stdout",
     "output_type": "stream",
     "text": [
      "{7: 0, 4: 0, 5: 0, 6: 0}\n",
      "{7: 1, 4: 0, 5: 0, 6: 0}\n",
      "{7: 2, 4: 1, 5: 0, 6: 0}\n"
     ]
    }
   ],
   "source": [
    "from collections import deque\n",
    "\n",
    "truck_dict = {t:0 for t in truck_weights}\n",
    "truck_weights = deque(truck_weights)\n",
    "in_bridge = deque()\n",
    "total_time = 0\n",
    "\n",
    "while (len(truck_weights) != 1):\n",
    "    total_time += 1\n",
    "    print(truck_dict)\n",
    "    for truck in truck_dict:\n",
    "        if truck_dict[truck] >= 1:\n",
    "            truck_dict[truck] += 1\n",
    "    if in_bridge and (truck_dict[in_bridge[0]] >= bridge_length):\n",
    "        in_bridge.popleft()\n",
    "    \n",
    "    if sum(in_bridge) + truck_weights[0] <= weight:\n",
    "        next_truck = truck_weights.popleft()\n",
    "        truck_dict[next_truck] += 1\n",
    "        in_bridge.append(next_truck)"
   ]
  },
  {
   "cell_type": "code",
   "execution_count": 25,
   "metadata": {},
   "outputs": [
    {
     "data": {
      "text/plain": [
       "3"
      ]
     },
     "execution_count": 25,
     "metadata": {},
     "output_type": "execute_result"
    }
   ],
   "source": [
    "total_time"
   ]
  },
  {
   "cell_type": "code",
   "execution_count": null,
   "metadata": {},
   "outputs": [],
   "source": []
  }
 ],
 "metadata": {
  "kernelspec": {
   "display_name": "Python 3",
   "language": "python",
   "name": "python3"
  },
  "language_info": {
   "codemirror_mode": {
    "name": "ipython",
    "version": 3
   },
   "file_extension": ".py",
   "mimetype": "text/x-python",
   "name": "python",
   "nbconvert_exporter": "python",
   "pygments_lexer": "ipython3",
   "version": "3.7.6"
  }
 },
 "nbformat": 4,
 "nbformat_minor": 4
}
