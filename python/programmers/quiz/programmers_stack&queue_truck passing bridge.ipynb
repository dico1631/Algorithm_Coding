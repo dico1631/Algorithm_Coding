{
 "cells": [
  {
   "cell_type": "markdown",
   "metadata": {},
   "source": [
    "# 프로그래머스 문제\n",
    "\n",
    "## 13. 다리를 지나는 트럭\n",
    " \n",
    "### 제한사항\n",
    "- 가격이 유지 혹은 상승할 동안의 초를 구하는 것이다.\n",
    "<br>\n",
    "<br>\n",
    "\n",
    "#### 효율성 통과가 관건인 문제였음!"
   ]
  },
  {
   "cell_type": "code",
   "execution_count": 11,
   "metadata": {
    "ExecuteTime": {
     "end_time": "2020-12-18T08:03:40.316401Z",
     "start_time": "2020-12-18T08:03:35.396557Z"
    }
   },
   "outputs": [
    {
     "name": "stdout",
     "output_type": "stream",
     "text": [
      "2\n",
      "10\n",
      "7 4 5 6\n"
     ]
    }
   ],
   "source": [
    "bridge_length = int(input())\n",
    "weight = int(input())\n",
    "truck_weights = list(map(int, input().split()))"
   ]
  },
  {
   "cell_type": "code",
   "execution_count": 35,
   "metadata": {
    "ExecuteTime": {
     "end_time": "2020-12-18T09:00:33.181774Z",
     "start_time": "2020-12-18T09:00:33.165816Z"
    }
   },
   "outputs": [
    {
     "name": "stdout",
     "output_type": "stream",
     "text": [
      "시작 {0: 0, 1: 0, 2: 0, 3: 0}, passing deque([])\n",
      "1번 if\n",
      "2번 else\n",
      "시작 {0: 1, 1: 0, 2: 0, 3: 0}, passing deque([(0, 7)])\n",
      "1번 else\n",
      "2번 if\n",
      "while\n",
      "나감\n",
      "시작 {0: 2, 1: 0, 2: 0, 3: 0}, passing deque([])\n",
      "1번 if\n",
      "2번 else\n",
      "시작 {0: 2, 1: 0, 2: 1, 3: 0}, passing deque([(2, 5)])\n",
      "1번 else\n",
      "2번 if\n",
      "while\n",
      "나감\n",
      "결과 4\n"
     ]
    }
   ],
   "source": [
    "from collections import deque\n",
    "\n",
    "time = 0\n",
    "passing = deque()\n",
    "truck_time = {i:0 for i in range(len(truck_weights))}\n",
    "truck_weights = deque(truck_weights)\n",
    "isAppend = True\n",
    "passing_sum = 0\n",
    "\n",
    "for idx, t in enumerate(truck_weights):\n",
    "    print(f\"시작 {truck_time}, passing {passing}\")\n",
    "    # 들어갈 수 있는지 체크\n",
    "    if passing_sum + t <= weight:\n",
    "        print(\"1번 if\")\n",
    "        passing.append((idx, t))\n",
    "        passing_sum += t\n",
    "        isAppend = True\n",
    "    else:\n",
    "        print(\"1번 else\")\n",
    "        isAppend = False\n",
    "        \n",
    "    if not isAppend:\n",
    "        print(\"2번 if\")\n",
    "        while truck_time[passing[0][0]] != bridge_length:\n",
    "            print(\"while\")\n",
    "            time += 1\n",
    "            for i in passing:\n",
    "                truck_time[i[0]] += 1\n",
    "    else:\n",
    "        print(\"2번 else\")\n",
    "        time += 1\n",
    "        for i in passing:\n",
    "            truck_time[i[0]] += 1\n",
    "    if truck_time[passing[0][0]] == bridge_length:\n",
    "        print(\"나감\")\n",
    "        out = passing.popleft()\n",
    "        passing_sum -= out[1]\n",
    "print(\"결과\", time)"
   ]
  },
  {
   "cell_type": "code",
   "execution_count": 24,
   "metadata": {
    "ExecuteTime": {
     "end_time": "2020-12-18T08:47:35.465621Z",
     "start_time": "2020-12-18T08:47:35.458641Z"
    }
   },
   "outputs": [
    {
     "data": {
      "text/plain": [
       "{0: 5, 1: 0, 2: 0, 3: 0}"
      ]
     },
     "execution_count": 24,
     "metadata": {},
     "output_type": "execute_result"
    }
   ],
   "source": [
    "truck_time"
   ]
  },
  {
   "cell_type": "code",
   "execution_count": null,
   "metadata": {},
   "outputs": [],
   "source": [
    "sum + t <= w 면 들어감\n",
    "\n",
    "1. 들어갔고, 안나옴 > 다음 체크 > 다음 for\n",
    "\n",
    "2. 안들어갔고, 안나옴 > 시간 더 흐르기 > while 나올 때까지 시간 ++\n",
    "\n",
    "3. 들어갔고, 나옴 > 다음 체크 > 다음 for\n",
    "\n",
    "4. 안들어갔고, 나옴 > 다시 체크 > "
   ]
  }
 ],
 "metadata": {
  "kernelspec": {
   "display_name": "Python 3",
   "language": "python",
   "name": "python3"
  },
  "language_info": {
   "codemirror_mode": {
    "name": "ipython",
    "version": 3
   },
   "file_extension": ".py",
   "mimetype": "text/x-python",
   "name": "python",
   "nbconvert_exporter": "python",
   "pygments_lexer": "ipython3",
   "version": "3.7.6"
  },
  "toc": {
   "base_numbering": 1,
   "nav_menu": {},
   "number_sections": true,
   "sideBar": true,
   "skip_h1_title": false,
   "title_cell": "Table of Contents",
   "title_sidebar": "Contents",
   "toc_cell": false,
   "toc_position": {},
   "toc_section_display": true,
   "toc_window_display": false
  },
  "varInspector": {
   "cols": {
    "lenName": 16,
    "lenType": 16,
    "lenVar": 40
   },
   "kernels_config": {
    "python": {
     "delete_cmd_postfix": "",
     "delete_cmd_prefix": "del ",
     "library": "var_list.py",
     "varRefreshCmd": "print(var_dic_list())"
    },
    "r": {
     "delete_cmd_postfix": ") ",
     "delete_cmd_prefix": "rm(",
     "library": "var_list.r",
     "varRefreshCmd": "cat(var_dic_list()) "
    }
   },
   "types_to_exclude": [
    "module",
    "function",
    "builtin_function_or_method",
    "instance",
    "_Feature"
   ],
   "window_display": false
  }
 },
 "nbformat": 4,
 "nbformat_minor": 4
}
