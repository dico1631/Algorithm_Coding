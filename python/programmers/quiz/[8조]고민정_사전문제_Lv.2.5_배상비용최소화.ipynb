{
 "cells": [
  {
   "cell_type": "markdown",
   "metadata": {},
   "source": [
    "# 배상비용 최소화\n",
    "- 풀이 여부 : 성공"
   ]
  },
  {
   "cell_type": "markdown",
   "metadata": {},
   "source": [
    "## 1. 실패한 풀이\n",
    "- 아이디어 : 제곱합을 구하므로, 큰 숫자가 적을수록 값이 작아진다.\n",
    "    1. works를 오름차순 정렬\n",
    "    2. 왼쪽에서부터 n번 아래를 반복한다.<br><br>\n",
    "    3. target 값이 바로 뒤에 값보다 작아질 때까지 1씩 뺀다.\n",
    "    4. 뒤에 값보다 target 값이 작아지면 target을 오른쪽으로 1칸 이동\n",
    "    5. 3을 다시 진행\n",
    "    6. target이 제일 마지막 위치라면 0 번째 값과 비교하며, target을 옮길 땐 0 위치로 옮긴다.\n",
    "    6. 단, 값이 0이라면 빼지 않는다.\n",
    "    \n",
    "- 문제 : 바로 뒤에 값만 비교하므로 지엽적인 비교가 이루어진다.\n",
    "- 반례 : 값들이 2 이상 차이가 나는 경우 (works=[10, 7, 5, 3, 1])"
   ]
  },
  {
   "cell_type": "code",
   "execution_count": 12,
   "metadata": {
    "ExecuteTime": {
     "end_time": "2021-01-06T03:32:43.827003Z",
     "start_time": "2021-01-06T03:32:43.810051Z"
    },
    "scrolled": true
   },
   "outputs": [
    {
     "name": "stdout",
     "output_type": "stream",
     "text": [
      "[9, 7, 5, 3, 1, 1]\n",
      "[8, 7, 5, 3, 1, 1]\n",
      "[7, 7, 5, 3, 1, 1]\n",
      "[7, 6, 5, 3, 1, 1]\n",
      "[7, 5, 5, 3, 1, 1]\n",
      "[7, 5, 4, 3, 1, 1]\n",
      "[7, 5, 3, 3, 1, 1]\n",
      "[7, 5, 3, 2, 1, 1]\n",
      "[7, 5, 3, 1, 1, 1]\n",
      "[7, 5, 3, 1, 0, 1]\n",
      "[7, 5, 3, 1, 0, 0]\n",
      "[6, 5, 3, 1, 0, 0]\n",
      "[5, 5, 3, 1, 0, 0]\n",
      "[5, 4, 3, 1, 0, 0]\n",
      "[5, 3, 3, 1, 0, 0]\n",
      "[5, 3, 2, 1, 0, 0]\n",
      "[5, 3, 1, 1, 0, 0]\n",
      "[5, 3, 1, 0, 0, 0]\n",
      "[5, 3, 1, 0, 0, 0]\n",
      "[5, 3, 1, 0, 0, 0]\n",
      "[4, 3, 1, 0, 0, 0]\n",
      "[3, 3, 1, 0, 0, 0]\n",
      "[3, 2, 1, 0, 0, 0]\n",
      "[3, 1, 1, 0, 0, 0]\n",
      "[3, 1, 0, 0, 0, 0]\n",
      "[3, 1, 0, 0, 0, 0]\n",
      "[3, 1, 0, 0, 0, 0]\n",
      "[3, 1, 0, 0, 0, 0]\n"
     ]
    },
    {
     "data": {
      "text/plain": [
       "10"
      ]
     },
     "execution_count": 12,
     "metadata": {},
     "output_type": "execute_result"
    }
   ],
   "source": [
    "# 정답례\n",
    "# works = [4, 3, 3]\n",
    "# n = 4\n",
    "\n",
    "# 반례\n",
    "works = [10, 7, 5, 3, 1, 1]\n",
    "n = sum(works)\n",
    "\n",
    "\n",
    "works = sorted(works, reverse=True) \n",
    "dec = 0 \n",
    "\n",
    "for i in range(n):\n",
    "    if dec != len(works)-1: \n",
    "        if works[dec] <= works[dec+1]: dec += 1 \n",
    "    else: \n",
    "        if works[dec] <= works[0]: dec = 0 \n",
    "            \n",
    "    if works[dec] > 0: \n",
    "        works[dec] -= 1 \n",
    "    print(works)\n",
    "    \n",
    "\n",
    "\n",
    "print(works)\n",
    "sum(map(lambda x: x**2, works))"
   ]
  },
  {
   "cell_type": "markdown",
   "metadata": {},
   "source": [
    "## 성공한 풀이\n",
    "- 아이디어 : heap을 이용해 매번 제일 큰 값을 줄이자"
   ]
  },
  {
   "cell_type": "code",
   "execution_count": 13,
   "metadata": {
    "ExecuteTime": {
     "end_time": "2021-01-06T03:34:38.936141Z",
     "start_time": "2021-01-06T03:34:38.915198Z"
    }
   },
   "outputs": [
    {
     "data": {
      "text/plain": [
       "0"
      ]
     },
     "execution_count": 13,
     "metadata": {},
     "output_type": "execute_result"
    }
   ],
   "source": [
    "import heapq\n",
    "\n",
    "def solution(n, works):\n",
    "    if len(works) == 1:\n",
    "        return (max(0, works[0]-n))**2\n",
    "    \n",
    "    \n",
    "    heap = []\n",
    "    leftN = min(n, sum(works))\n",
    "    for work in works:\n",
    "        heapq.heappush(heap, (-work, work))\n",
    "\n",
    "    while True:\n",
    "        fst = heapq.heappop(heap)[1]\n",
    "        nxt = heap[0][1]\n",
    "        dec = fst-nxt+1\n",
    "        if dec < leftN:\n",
    "            fst -= dec\n",
    "            heapq.heappush(heap, (-fst, fst))\n",
    "            leftN -= dec\n",
    "        else:\n",
    "            fst -= leftN\n",
    "            heapq.heappush(heap, (-fst, fst))\n",
    "            break\n",
    "\n",
    "    return sum(map(lambda x: x[1]**2, heap))\n",
    "\n",
    "\n",
    "works = [10, 7, 5, 3, 1, 1]\n",
    "n = sum(works)\n",
    "solution(n, works)"
   ]
  }
 ],
 "metadata": {
  "kernelspec": {
   "display_name": "Python 3",
   "language": "python",
   "name": "python3"
  },
  "language_info": {
   "codemirror_mode": {
    "name": "ipython",
    "version": 3
   },
   "file_extension": ".py",
   "mimetype": "text/x-python",
   "name": "python",
   "nbconvert_exporter": "python",
   "pygments_lexer": "ipython3",
   "version": "3.7.6"
  },
  "toc": {
   "base_numbering": 1,
   "nav_menu": {},
   "number_sections": true,
   "sideBar": true,
   "skip_h1_title": false,
   "title_cell": "Table of Contents",
   "title_sidebar": "Contents",
   "toc_cell": false,
   "toc_position": {},
   "toc_section_display": true,
   "toc_window_display": false
  },
  "varInspector": {
   "cols": {
    "lenName": 16,
    "lenType": 16,
    "lenVar": 40
   },
   "kernels_config": {
    "python": {
     "delete_cmd_postfix": "",
     "delete_cmd_prefix": "del ",
     "library": "var_list.py",
     "varRefreshCmd": "print(var_dic_list())"
    },
    "r": {
     "delete_cmd_postfix": ") ",
     "delete_cmd_prefix": "rm(",
     "library": "var_list.r",
     "varRefreshCmd": "cat(var_dic_list()) "
    }
   },
   "types_to_exclude": [
    "module",
    "function",
    "builtin_function_or_method",
    "instance",
    "_Feature"
   ],
   "window_display": false
  }
 },
 "nbformat": 4,
 "nbformat_minor": 4
}
