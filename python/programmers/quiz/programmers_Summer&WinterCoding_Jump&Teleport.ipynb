{
 "cells": [
  {
   "cell_type": "markdown",
   "metadata": {},
   "source": [
    "# 프로그래머스 문제\n",
    "\n",
    "## 11. 점프와 순간이동\n",
    "- 점프하면 에너지 1 사용, 순간이동은 에너지를 사용하지 않을 때 가장 적은 에너지로 목적지 n만큼 이동할 경우 에너지 사용량을 출력하라.\n",
    " \n",
    "### 제한사항\n",
    "- 점프는 1칸에 1 에너지 사용\n",
    "- 순간이동은 현 위치X2 위치로 이동한다."
   ]
  },
  {
   "cell_type": "code",
   "execution_count": 1,
   "metadata": {},
   "outputs": [],
   "source": [
    "n = 5"
   ]
  },
  {
   "cell_type": "code",
   "execution_count": 2,
   "metadata": {},
   "outputs": [
    {
     "data": {
      "text/plain": [
       "2"
      ]
     },
     "execution_count": 2,
     "metadata": {},
     "output_type": "execute_result"
    }
   ],
   "source": [
    "ans = 1\n",
    "while(n!=1):\n",
    "    if n%2 != 0:\n",
    "        ans += 1\n",
    "    n = n//2\n",
    "ans"
   ]
  }
 ],
 "metadata": {
  "kernelspec": {
   "display_name": "Python 3",
   "language": "python",
   "name": "python3"
  },
  "language_info": {
   "codemirror_mode": {
    "name": "ipython",
    "version": 3
   },
   "file_extension": ".py",
   "mimetype": "text/x-python",
   "name": "python",
   "nbconvert_exporter": "python",
   "pygments_lexer": "ipython3",
   "version": "3.7.6"
  }
 },
 "nbformat": 4,
 "nbformat_minor": 4
}
