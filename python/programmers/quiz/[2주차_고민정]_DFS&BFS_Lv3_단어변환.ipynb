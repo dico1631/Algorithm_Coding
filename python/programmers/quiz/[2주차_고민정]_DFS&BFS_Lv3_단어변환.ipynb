{
 "cells": [
  {
   "cell_type": "code",
   "execution_count": 10,
   "metadata": {},
   "outputs": [],
   "source": [
    "from collections import deque\n",
    "\n",
    "def check_diff(preword, nextword):\n",
    "    count_diff = 0\n",
    "    for pre_letter, next_letter in zip(preword, nextword):\n",
    "        if pre_letter != next_letter:\n",
    "            if count_diff == 0:\n",
    "                count_diff += 1\n",
    "            else:\n",
    "                return False\n",
    "    return True\n",
    "        \n",
    "\n",
    "def bfs(begin, target, visited, words):\n",
    "    que = deque()\n",
    "    que.append((0, begin))\n",
    "    \n",
    "    while que:\n",
    "        stage, now = que.popleft()\n",
    "        for idx, word in enumerate(words):\n",
    "            if not visited[idx] and check_diff(now, word):\n",
    "                if word == target:\n",
    "                    return stage + 1\n",
    "                que.append((stage + 1, word))\n",
    "                visited[idx] = True\n",
    "                \n",
    "    return 0\n",
    "\n",
    "def solution(begin, target, words):\n",
    "    words = set(words)\n",
    "    visited = [False] * len(words)\n",
    "\n",
    "    if target not in words:\n",
    "        return 0\n",
    "    \n",
    "    \n",
    "    return bfs(begin, target, visited, words)"
   ]
  }
 ],
 "metadata": {
  "kernelspec": {
   "display_name": "Python 3",
   "language": "python",
   "name": "python3"
  },
  "language_info": {
   "codemirror_mode": {
    "name": "ipython",
    "version": 3
   },
   "file_extension": ".py",
   "mimetype": "text/x-python",
   "name": "python",
   "nbconvert_exporter": "python",
   "pygments_lexer": "ipython3",
   "version": "3.8.5"
  }
 },
 "nbformat": 4,
 "nbformat_minor": 4
}
