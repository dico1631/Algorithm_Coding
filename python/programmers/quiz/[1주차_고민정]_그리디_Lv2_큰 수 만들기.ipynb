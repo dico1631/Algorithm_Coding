{
 "cells": [
  {
   "cell_type": "code",
   "execution_count": null,
   "metadata": {},
   "outputs": [],
   "source": [
    "def solution(number, k):\n",
    "    left_num_count = len(number) - k\n",
    "    answer = \"\"\n",
    "    start = 0\n",
    "        \n",
    "    for left_len in range(left_num_count, 0, -1):\n",
    "        candidate = number[start:] if left_len == 1 else number[start:-(left_len - 1)]\n",
    "        now_max = \"9\" if \"9\" in candidate else max(candidate)\n",
    "        answer += now_max\n",
    "        start = number.find(now_max, start) + 1\n",
    "        \n",
    "    return answer"
   ]
  }
 ],
 "metadata": {
  "kernelspec": {
   "display_name": "Python 3",
   "language": "python",
   "name": "python3"
  },
  "language_info": {
   "codemirror_mode": {
    "name": "ipython",
    "version": 3
   },
   "file_extension": ".py",
   "mimetype": "text/x-python",
   "name": "python",
   "nbconvert_exporter": "python",
   "pygments_lexer": "ipython3",
   "version": "3.8.5"
  }
 },
 "nbformat": 4,
 "nbformat_minor": 4
}
