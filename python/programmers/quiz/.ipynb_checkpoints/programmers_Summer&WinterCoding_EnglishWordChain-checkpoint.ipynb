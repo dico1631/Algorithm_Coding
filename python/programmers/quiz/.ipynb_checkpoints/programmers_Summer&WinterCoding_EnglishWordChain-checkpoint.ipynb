{
 "cells": [
  {
   "cell_type": "markdown",
   "metadata": {},
   "source": [
    "# 프로그래머스 문제\n",
    "\n",
    "## 6. 영어 끝말잇기\n",
    "- 영어 끝말잇기 단어들이 들어있는 리스트 words와 게임을 하는 사람의 수 n이 주어질 때 몇 번째 사람이, 자신의 몇 번째 순서에 틀렸는지 출력하시오.\n",
    " \n",
    "### 제한사항\n",
    "1. 1번부터 번호 순서대로 한 사람씩 차례대로 단어를 말합니다.\n",
    "2. 마지막 사람이 단어를 말한 다음에는 다시 1번부터 시작합니다.\n",
    "3. 앞사람이 말한 단어의 마지막 문자로 시작하는 단어를 말해야 합니다.\n",
    "4. 이전에 등장했던 단어는 사용할 수 없습니다.\n",
    "5. 한 글자인 단어는 인정되지 않습니다.\n",
    "\n",
    "### 출력방식\n",
    "- 출력은 [번호, 차례]로 출력한다.\n",
    "- 틀린 사람이 없을 경우엔 [0,0]을 출력한다."
   ]
  },
  {
   "cell_type": "markdown",
   "metadata": {},
   "source": [
    "### <풀이법>\n",
    "#### 상황 예시\n",
    "0 1 2 > 차례 1 <br>\n",
    "3 4 5 > 차례 2 <br>\n",
    "6 7 8 > 차례 3 <br>\n",
    "- idx%n+1 = 번호\n",
    "- idx//n+1 = 차례"
   ]
  },
  {
   "cell_type": "code",
   "execution_count": 8,
   "metadata": {},
   "outputs": [],
   "source": [
    "# 한 글자인 단어를 말할 경우\n",
    "words = [\"tank\", \"kick\", \"know\", \"wheel\", \"l\", \"lam\", \"mother\", \"robot\"]\n",
    "\n",
    "# 앞 글자와 다른 말을 한 경우\n",
    "# words = [\"tank\", \"nick\", \"know\"] \n",
    "\n",
    "# 말했던 단어를 말한 경우\n",
    "# words = [\"tank\", \"kick\", \"know\", \"wheel\", \"land\", \"dream\", \"mother\", \"robot\", \"tank\"]\n",
    "\n",
    "n = 2"
   ]
  },
  {
   "cell_type": "code",
   "execution_count": 9,
   "metadata": {},
   "outputs": [
    {
     "data": {
      "text/plain": [
       "[0, 0]"
      ]
     },
     "execution_count": 9,
     "metadata": {},
     "output_type": "execute_result"
    }
   ],
   "source": [
    "answer = [0,0]\n",
    "called = []\n",
    "before = words[0][0]\n",
    "for idx, word in enumerate(words):\n",
    "    if (word[0] != before[-1]) or (word in called):\n",
    "        answer = [idx%n+1, idx//n+1]\n",
    "        break\n",
    "    else:\n",
    "        called.append(word)\n",
    "        before = word\n",
    "answer"
   ]
  },
  {
   "cell_type": "markdown",
   "metadata": {},
   "source": [
    "위의 코드만 실행해도 통과하였으나, 위 코드에는 단어의 길이가 1일 경우가 배제되어 있다. 이 경우까지 넣으면 아래 코드와 같다"
   ]
  },
  {
   "cell_type": "code",
   "execution_count": 10,
   "metadata": {},
   "outputs": [
    {
     "data": {
      "text/plain": [
       "[1, 3]"
      ]
     },
     "execution_count": 10,
     "metadata": {},
     "output_type": "execute_result"
    }
   ],
   "source": [
    "answer = [0,0]\n",
    "called = []\n",
    "before = words[0][0]\n",
    "for idx, word in enumerate(words):\n",
    "    if (len(word) <= 1) or (word[0] != before[-1]) or (word in called):\n",
    "        answer = [idx%n+1, idx//n+1]\n",
    "        break\n",
    "    else:\n",
    "        called.append(word)\n",
    "        before = word\n",
    "answer"
   ]
  }
 ],
 "metadata": {
  "kernelspec": {
   "display_name": "Python 3",
   "language": "python",
   "name": "python3"
  },
  "language_info": {
   "codemirror_mode": {
    "name": "ipython",
    "version": 3
   },
   "file_extension": ".py",
   "mimetype": "text/x-python",
   "name": "python",
   "nbconvert_exporter": "python",
   "pygments_lexer": "ipython3",
   "version": "3.7.6"
  }
 },
 "nbformat": 4,
 "nbformat_minor": 4
}
