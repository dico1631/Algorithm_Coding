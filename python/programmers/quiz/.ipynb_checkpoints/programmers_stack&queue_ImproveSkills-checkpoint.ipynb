{
 "cells": [
  {
   "cell_type": "markdown",
   "metadata": {},
   "source": [
    "# 프로그래머스 문제\n",
    "\n",
    "## 12. 기능개발\n",
    "- 먼저 배포되어야 하는 순서대로 작업의 진도가 적힌 정수 배열 progresses와 각 작업의 개발 속도가 적힌 정수 배열 speeds가 주어질 때 각 배포마다 몇 개의 기능이 배포되는지를 출력하시오\n",
    "- 각 기능은 진도가 100%일 때 서비스에 반영할 수 있습니다.\n",
    "- 뒤에 있는 기능이 앞에 있는 기능보다 먼저 개발될 수 있으며, 이때 뒤에 있는 기능은 앞에 있는 기능이 배포될 때 함께 배포됩니다."
   ]
  },
  {
   "cell_type": "code",
   "execution_count": 143,
   "metadata": {},
   "outputs": [],
   "source": [
    "progresses = [93, 30, 55]\n",
    "speeds = [1, 30, 5]"
   ]
  },
  {
   "cell_type": "code",
   "execution_count": 144,
   "metadata": {},
   "outputs": [],
   "source": [
    "import numpy as np"
   ]
  },
  {
   "cell_type": "code",
   "execution_count": 146,
   "metadata": {},
   "outputs": [
    {
     "data": {
      "text/plain": [
       "[2, 1]"
      ]
     },
     "execution_count": 146,
     "metadata": {},
     "output_type": "execute_result"
    }
   ],
   "source": [
    "left_progresses = 100 - np.array(progresses)\n",
    "speeds = np.array(speeds)\n",
    "days = list(np.ceil(left_progresses / speeds))\n",
    "start = i = count = 0\n",
    "answer = list()\n",
    "while i < len(days):\n",
    "    if (days[start] >= days[i]):\n",
    "        i += 1\n",
    "        count += 1\n",
    "    else:\n",
    "        answer.append(count)\n",
    "        count = 0\n",
    "        start = i\n",
    "answer.append(count)\n",
    "\n",
    "answer"
   ]
  }
 ],
 "metadata": {
  "kernelspec": {
   "display_name": "Python 3",
   "language": "python",
   "name": "python3"
  },
  "language_info": {
   "codemirror_mode": {
    "name": "ipython",
    "version": 3
   },
   "file_extension": ".py",
   "mimetype": "text/x-python",
   "name": "python",
   "nbconvert_exporter": "python",
   "pygments_lexer": "ipython3",
   "version": "3.7.6"
  }
 },
 "nbformat": 4,
 "nbformat_minor": 4
}
