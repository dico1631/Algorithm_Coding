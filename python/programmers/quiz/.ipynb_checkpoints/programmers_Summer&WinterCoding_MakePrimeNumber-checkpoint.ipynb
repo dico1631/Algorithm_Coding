{
 "cells": [
  {
   "cell_type": "markdown",
   "metadata": {},
   "source": [
    "# 프로그래머스 문제\n",
    "\n",
    "## 9. 소수만들기\n",
    "- 여러 숫자가 들어있는 배열 nums가 주어질 때, nums 내에서 나올 수 있는 3개의 숫자 조합의 합이 소수가 되는 경우의 수를 구하시오.\n",
    " \n",
    "### 제한사항\n",
    "- nums에는 중복된 숫자가 들어가지 않습니다."
   ]
  },
  {
   "cell_type": "markdown",
   "metadata": {},
   "source": [
    "홀 짝 (개수)<br>\n",
    "0 | 3 > 2로 나눠짐 > 소수 불가<br>\n",
    "1 | 2 > 가능<br>\n",
    "2 | 1 > 2로 나눠짐 > 소수 불가<br>\n",
    "3 | 0 > 가능<br>"
   ]
  },
  {
   "cell_type": "code",
   "execution_count": 41,
   "metadata": {},
   "outputs": [],
   "source": [
    "nums = [1,2,7,6,4]"
   ]
  },
  {
   "cell_type": "code",
   "execution_count": 51,
   "metadata": {},
   "outputs": [],
   "source": [
    "def primeNums():\n",
    "    prime_numbers = []\n",
    "    for i in range(1, 1000):\n",
    "        for j in range(2, i):\n",
    "            if i%j==0:\n",
    "                break\n",
    "        else:\n",
    "            prime_numbers.append(i)\n",
    "    return prime_numbers\n",
    "\n",
    "def solution(nums):\n",
    "    answer = 0\n",
    "    odds = [n for n in nums if n%2!=0]\n",
    "    evens = [n for n in nums if n%2==0]\n",
    "    prime_numbers = primeNums()\n",
    "    \n",
    "    # 짝수 2개, 홀수 1개\n",
    "    for i in range(len(evens)-1):\n",
    "        for j in range(i+1, len(evens)):\n",
    "            for o in odds:\n",
    "                pair = sum([o, evens[i], evens[j]])\n",
    "                if pair in prime_numbers:\n",
    "                    answer += 1\n",
    "    \n",
    "    # 홀수 3개\n",
    "    for i in range(len(odds)-2):\n",
    "        for j in range(i+1, len(odds)-1):\n",
    "            for p in range(j+1, len(odds)):\n",
    "                pair = sum([odds[i], odds[j], odds[p]])\n",
    "                if pair in prime_numbers:\n",
    "                    answer += 1\n",
    "    return answer"
   ]
  },
  {
   "cell_type": "code",
   "execution_count": 52,
   "metadata": {},
   "outputs": [
    {
     "data": {
      "text/plain": [
       "4"
      ]
     },
     "execution_count": 52,
     "metadata": {},
     "output_type": "execute_result"
    }
   ],
   "source": [
    "solution(nums)"
   ]
  },
  {
   "cell_type": "code",
   "execution_count": null,
   "metadata": {},
   "outputs": [],
   "source": []
  }
 ],
 "metadata": {
  "kernelspec": {
   "display_name": "Python 3",
   "language": "python",
   "name": "python3"
  },
  "language_info": {
   "codemirror_mode": {
    "name": "ipython",
    "version": 3
   },
   "file_extension": ".py",
   "mimetype": "text/x-python",
   "name": "python",
   "nbconvert_exporter": "python",
   "pygments_lexer": "ipython3",
   "version": "3.7.6"
  }
 },
 "nbformat": 4,
 "nbformat_minor": 4
}
