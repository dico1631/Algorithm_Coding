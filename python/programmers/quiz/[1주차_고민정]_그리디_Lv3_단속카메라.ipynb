{
 "cells": [
  {
   "cell_type": "code",
   "execution_count": null,
   "metadata": {},
   "outputs": [],
   "source": [
    "def solution(routes):\n",
    "    START, END = 0, 1\n",
    "    routes.sort()\n",
    "    answer = 1\n",
    "    candidate = routes[0]\n",
    "\n",
    "    for route in routes:\n",
    "        if route[START] > candidate[END]:\n",
    "            answer += 1\n",
    "            candidate[START] = route[START]\n",
    "            candidate[END] = route[END]\n",
    "            continue\n",
    "        candidate[START] = route[START]\n",
    "        candidate[END] = min(candidate[END], route[END])\n",
    "    return answer"
   ]
  }
 ],
 "metadata": {
  "kernelspec": {
   "display_name": "Python 3",
   "language": "python",
   "name": "python3"
  },
  "language_info": {
   "codemirror_mode": {
    "name": "ipython",
    "version": 3
   },
   "file_extension": ".py",
   "mimetype": "text/x-python",
   "name": "python",
   "nbconvert_exporter": "python",
   "pygments_lexer": "ipython3",
   "version": "3.8.5"
  }
 },
 "nbformat": 4,
 "nbformat_minor": 4
}
