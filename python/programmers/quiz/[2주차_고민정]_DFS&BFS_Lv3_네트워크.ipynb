{
 "cells": [
  {
   "cell_type": "markdown",
   "metadata": {},
   "source": [
    "- 정답"
   ]
  },
  {
   "cell_type": "code",
   "execution_count": null,
   "metadata": {},
   "outputs": [],
   "source": [
    "from collections import deque\n",
    "\n",
    "def bfs(start, visited, computers):\n",
    "    que = deque()\n",
    "    que.append(start)\n",
    "    \n",
    "    while que:\n",
    "        now = que.popleft()\n",
    "        visited[now] = True\n",
    "        for idx, computer in enumerate(computers[now]):\n",
    "            if not visited[idx] and computer == 1:\n",
    "                que.append(idx)\n",
    "\n",
    "def solution(n, computers):\n",
    "    visited = [False] * n\n",
    "    answer = 0\n",
    "    \n",
    "    for idx in range(n):\n",
    "        if not visited[idx]:\n",
    "            answer += 1\n",
    "            bfs(idx, visited, computers)\n",
    "            \n",
    "    return answer"
   ]
  },
  {
   "cell_type": "markdown",
   "metadata": {},
   "source": [
    "- 디버깅용"
   ]
  },
  {
   "cell_type": "code",
   "execution_count": null,
   "metadata": {},
   "outputs": [],
   "source": [
    "from collections import deque\n",
    "\n",
    "def bfs(start, visited, computers):\n",
    "    que = deque()\n",
    "    que.append(start)\n",
    "    \n",
    "    while que:\n",
    "        now = que.popleft()\n",
    "        visited[now] = True\n",
    "        for idx, computer in enumerate(computers[now]):\n",
    "            if not visited[idx] and computer == 1:\n",
    "                que.append(idx)\n",
    "        print(now, que, visited)"
   ]
  },
  {
   "cell_type": "code",
   "execution_count": 15,
   "metadata": {
    "scrolled": true
   },
   "outputs": [
    {
     "name": "stdout",
     "output_type": "stream",
     "text": [
      "0 [1, 1, 0]\n",
      "0 deque([1]) [True, False, False]\n",
      "1 deque([]) [True, True, False]\n",
      "1 [True, True, False]\n",
      "2 [1, 1, 0]\n",
      "2 deque([]) [True, True, True]\n",
      "2 [True, True, True]\n"
     ]
    },
    {
     "data": {
      "text/plain": [
       "2"
      ]
     },
     "execution_count": 15,
     "metadata": {},
     "output_type": "execute_result"
    }
   ],
   "source": [
    "n = 3\n",
    "computers = [[1, 1, 0], [1, 1, 0], [0, 0, 1]]\n",
    "\n",
    "visited = [False] * n\n",
    "answer = 0\n",
    "\n",
    "for idx in range(n):\n",
    "    if not visited[idx]:\n",
    "        print(idx, computer)\n",
    "        answer += 1\n",
    "        bfs(idx, visited, computers)\n",
    "        print(answer, visited)\n",
    "        \n",
    "answer"
   ]
  }
 ],
 "metadata": {
  "kernelspec": {
   "display_name": "Python 3",
   "language": "python",
   "name": "python3"
  },
  "language_info": {
   "codemirror_mode": {
    "name": "ipython",
    "version": 3
   },
   "file_extension": ".py",
   "mimetype": "text/x-python",
   "name": "python",
   "nbconvert_exporter": "python",
   "pygments_lexer": "ipython3",
   "version": "3.8.5"
  }
 },
 "nbformat": 4,
 "nbformat_minor": 4
}
