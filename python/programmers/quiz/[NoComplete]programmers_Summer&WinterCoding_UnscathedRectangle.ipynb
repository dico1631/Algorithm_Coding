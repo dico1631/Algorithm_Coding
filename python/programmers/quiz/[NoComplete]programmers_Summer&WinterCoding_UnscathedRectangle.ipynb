{
 "cells": [
  {
   "cell_type": "markdown",
   "metadata": {},
   "source": [
    "# 프로그래머스 문제\n",
    "\n",
    "## 9. 소수만들기\n",
    "- 여러 숫자가 들어있는 배열 nums가 주어질 때, nums 내에서 나올 수 있는 3개의 숫자 조합의 합이 소수가 되는 경우의 수를 구하시오.\n",
    " \n",
    "### 제한사항\n",
    "- nums에는 중복된 숫자가 들어가지 않습니다."
   ]
  },
  {
   "cell_type": "markdown",
   "metadata": {},
   "source": [
    "홀 짝 (개수)<br>\n",
    "0 | 3 > 2로 나눠짐 > 소수 불가<br>\n",
    "1 | 2 > 가능<br>\n",
    "2 | 1 > 2로 나눠짐 > 소수 불가<br>\n",
    "3 | 0 > 가능<br>"
   ]
  },
  {
   "cell_type": "code",
   "execution_count": 2,
   "metadata": {},
   "outputs": [],
   "source": [
    "w = 4\n",
    "h = 4"
   ]
  },
  {
   "cell_type": "code",
   "execution_count": 3,
   "metadata": {},
   "outputs": [
    {
     "data": {
      "text/plain": [
       "12"
      ]
     },
     "execution_count": 3,
     "metadata": {},
     "output_type": "execute_result"
    }
   ],
   "source": [
    "if w == h:\n",
    "    answer = w*h-w\n",
    "answer"
   ]
  },
  {
   "cell_type": "code",
   "execution_count": null,
   "metadata": {},
   "outputs": [],
   "source": [
    "if (w%2 == 0):\n",
    "    if (h%2 == 0):\n",
    "        answer = w*h-min(w, h)*2\n",
    "\n",
    "    "
   ]
  }
 ],
 "metadata": {
  "kernelspec": {
   "display_name": "Python 3",
   "language": "python",
   "name": "python3"
  },
  "language_info": {
   "codemirror_mode": {
    "name": "ipython",
    "version": 3
   },
   "file_extension": ".py",
   "mimetype": "text/x-python",
   "name": "python",
   "nbconvert_exporter": "python",
   "pygments_lexer": "ipython3",
   "version": "3.7.6"
  }
 },
 "nbformat": 4,
 "nbformat_minor": 4
}
