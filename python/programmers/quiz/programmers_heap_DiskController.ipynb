{
 "cells": [
  {
   "cell_type": "markdown",
   "metadata": {},
   "source": [
    "# 프로그래머스 문제\n",
    "\n",
    "## 디스크 컨트롤러"
   ]
  },
  {
   "cell_type": "code",
   "execution_count": 44,
   "metadata": {
    "ExecuteTime": {
     "end_time": "2020-12-24T08:03:48.367300Z",
     "start_time": "2020-12-24T08:03:48.346357Z"
    }
   },
   "outputs": [
    {
     "name": "stdout",
     "output_type": "stream",
     "text": [
      "jobs [[0, 3], [1, 9], [2, 6]]\n",
      "3번째: [(3, 0)] /  (3, 0) answer 3 timer 3\n",
      "jobs [[1, 9], [2, 6]]\n",
      "3번째: [(6, 2), (9, 1)] /  (6, 2) answer 10 timer 9\n",
      "jobs []\n",
      "3번째: [(9, 1)] /  (9, 1) answer 27 timer 18\n"
     ]
    },
    {
     "data": {
      "text/plain": [
       "9.0"
      ]
     },
     "execution_count": 44,
     "metadata": {},
     "output_type": "execute_result"
    }
   ],
   "source": [
    "import heapq\n",
    "\n",
    "jobs = [[0, 3], [1, 9], [2, 6]]\n",
    "\n",
    "answer = 0\n",
    "heap = []\n",
    "timer = 0\n",
    "jobs_len = len(jobs)\n",
    "done = 0\n",
    "\n",
    "while done < jobs_len:\n",
    "    print(\"jobs\", jobs)\n",
    "    for job in jobs[:]:\n",
    "        if job[0] <= timer:\n",
    "            jobs.remove(job)\n",
    "            heapq.heappush(heap, (job[1], job[0]))\n",
    "            \n",
    "    print(f\"{i}번째: {heap} / \", end=\" \")\n",
    "    if heap:\n",
    "        now = heapq.heappop(heap)\n",
    "        answer = answer + (timer-now[1]+now[0]) \n",
    "        timer += now[0]\n",
    "        done += 1\n",
    "    else:\n",
    "        timer += 1\n",
    "    print(now, \"answer\", answer,\"timer\", timer)\n",
    "    \n",
    "answer /= jobs_len\n",
    "\n",
    "answer"
   ]
  }
 ],
 "metadata": {
  "kernelspec": {
   "display_name": "Python 3",
   "language": "python",
   "name": "python3"
  },
  "language_info": {
   "codemirror_mode": {
    "name": "ipython",
    "version": 3
   },
   "file_extension": ".py",
   "mimetype": "text/x-python",
   "name": "python",
   "nbconvert_exporter": "python",
   "pygments_lexer": "ipython3",
   "version": "3.7.6"
  },
  "toc": {
   "base_numbering": 1,
   "nav_menu": {},
   "number_sections": true,
   "sideBar": true,
   "skip_h1_title": false,
   "title_cell": "Table of Contents",
   "title_sidebar": "Contents",
   "toc_cell": false,
   "toc_position": {},
   "toc_section_display": true,
   "toc_window_display": false
  },
  "varInspector": {
   "cols": {
    "lenName": 16,
    "lenType": 16,
    "lenVar": 40
   },
   "kernels_config": {
    "python": {
     "delete_cmd_postfix": "",
     "delete_cmd_prefix": "del ",
     "library": "var_list.py",
     "varRefreshCmd": "print(var_dic_list())"
    },
    "r": {
     "delete_cmd_postfix": ") ",
     "delete_cmd_prefix": "rm(",
     "library": "var_list.r",
     "varRefreshCmd": "cat(var_dic_list()) "
    }
   },
   "types_to_exclude": [
    "module",
    "function",
    "builtin_function_or_method",
    "instance",
    "_Feature"
   ],
   "window_display": false
  }
 },
 "nbformat": 4,
 "nbformat_minor": 4
}
