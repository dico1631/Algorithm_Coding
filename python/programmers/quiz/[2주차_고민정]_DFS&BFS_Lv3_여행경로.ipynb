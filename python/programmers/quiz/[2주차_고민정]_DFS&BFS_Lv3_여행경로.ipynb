{
 "cells": [
  {
   "cell_type": "markdown",
   "metadata": {},
   "source": [
    "- 정답"
   ]
  },
  {
   "cell_type": "code",
   "execution_count": 8,
   "metadata": {},
   "outputs": [],
   "source": [
    "DEPARTURE, DESTINATION = 0, 1\n",
    "\n",
    "def func(answer, visited, tickets, count_route, now):\n",
    "    if count_route == len(tickets):\n",
    "        return True\n",
    "    else:\n",
    "        for idx, ticket in enumerate(tickets):\n",
    "            if not visited[idx] and ticket[DEPARTURE] == now:\n",
    "                answer[count_route] = ticket[DESTINATION]\n",
    "                next_one = ticket[DESTINATION]\n",
    "                visited[idx] = True\n",
    "                finished = func(answer, visited, tickets, count_route + 1, next_one)\n",
    "                if finished:\n",
    "                    return True\n",
    "                else:\n",
    "                    func(answer, visited, tickets, count_route, now)\n",
    "                    visited[idx] = False\n",
    "\n",
    "def solution(tickets):\n",
    "    tickets.sort()\n",
    "    answer = [0] * len(tickets)\n",
    "    visited = [False] * len(tickets)\n",
    "    func(answer, visited, tickets, 0, \"ICN\")\n",
    "    return [\"ICN\"] + answer"
   ]
  },
  {
   "cell_type": "markdown",
   "metadata": {},
   "source": [
    "- 디버깅"
   ]
  },
  {
   "cell_type": "code",
   "execution_count": 51,
   "metadata": {},
   "outputs": [],
   "source": [
    "DEPARTURE, DESTINATION = 0, 1\n",
    "\n",
    "def func(answer, visited, tickets, count_route, now):\n",
    "    print(\"count_route\", count_route)\n",
    "    if count_route == len(tickets):\n",
    "        print(\"끝\")\n",
    "        return True\n",
    "    else:\n",
    "        for idx, ticket in enumerate(tickets):\n",
    "#             print(idx, ticket)\n",
    "            if not visited[idx] and ticket[DEPARTURE] == now:\n",
    "                answer[count_route] = ticket[DESTINATION]\n",
    "                next_one = ticket[DESTINATION]\n",
    "                visited[idx] = True\n",
    "                print(ticket[DEPARTURE], answer, count_route, visited)\n",
    "                finished = func(answer, visited, tickets, count_route + 1, next_one)\n",
    "                if finished:\n",
    "                    return True\n",
    "                else:\n",
    "                    func(answer, visited, tickets, count_route, now)\n",
    "                    visited[idx] = False"
   ]
  },
  {
   "cell_type": "code",
   "execution_count": 54,
   "metadata": {
    "scrolled": false
   },
   "outputs": [
    {
     "name": "stdout",
     "output_type": "stream",
     "text": [
      "5 [['ATL', 'ICN'], ['ATL', 'SFO'], ['ICN', 'ATL'], ['ICN', 'SFO'], ['SFO', 'ATL']]\n",
      "count_route 0\n",
      "ICN ['ATL', 0, 0, 0, 0] 0 [False, False, True, False, False]\n",
      "count_route 1\n",
      "ATL ['ATL', 'ICN', 0, 0, 0] 1 [True, False, True, False, False]\n",
      "count_route 2\n",
      "ICN ['ATL', 'ICN', 'SFO', 0, 0] 2 [True, False, True, True, False]\n",
      "count_route 3\n",
      "SFO ['ATL', 'ICN', 'SFO', 'ATL', 0] 3 [True, False, True, True, True]\n",
      "count_route 4\n",
      "ATL ['ATL', 'ICN', 'SFO', 'ATL', 'SFO'] 4 [True, True, True, True, True]\n",
      "count_route 5\n",
      "끝\n",
      "답:  ['ICN', 'ATL', 'ICN', 'SFO', 'ATL', 'SFO']\n"
     ]
    }
   ],
   "source": [
    "# tickets = [[\"ICN\", \"JFK\"], [\"HND\", \"IAD\"], [\"JFK\", \"HND\"]]\n",
    "tickets = [[\"ICN\", \"SFO\"], [\"ICN\", \"ATL\"], [\"SFO\", \"ATL\"], [\"ATL\", \"ICN\"], [\"ATL\", \"SFO\"]]\n",
    "# tickets = [[\"ICN\", \"B\"], [\"B\", \"ICN\"], [\"ICN\",\"A\"]]\n",
    "\n",
    "\n",
    "tickets.sort()\n",
    "print(len(tickets), tickets)\n",
    "answer = [0] * len(tickets)\n",
    "visited = [False] * len(tickets)\n",
    "func(answer, visited, tickets, 0, \"ICN\")\n",
    "print(\"답: \", [\"ICN\"] + answer)"
   ]
  },
  {
   "cell_type": "code",
   "execution_count": null,
   "metadata": {},
   "outputs": [],
   "source": []
  }
 ],
 "metadata": {
  "kernelspec": {
   "display_name": "Python 3",
   "language": "python",
   "name": "python3"
  },
  "language_info": {
   "codemirror_mode": {
    "name": "ipython",
    "version": 3
   },
   "file_extension": ".py",
   "mimetype": "text/x-python",
   "name": "python",
   "nbconvert_exporter": "python",
   "pygments_lexer": "ipython3",
   "version": "3.8.5"
  }
 },
 "nbformat": 4,
 "nbformat_minor": 4
}
