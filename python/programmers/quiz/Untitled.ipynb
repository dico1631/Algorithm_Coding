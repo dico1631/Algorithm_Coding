{
 "cells": [
  {
   "cell_type": "code",
   "execution_count": 52,
   "metadata": {},
   "outputs": [],
   "source": [
    "n = 7\n",
    "delivery = [[5,6,0],[1,3,1],[1,5,0],[7,6,0],[3,7,1],[2,5,0]]"
   ]
  },
  {
   "cell_type": "code",
   "execution_count": 65,
   "metadata": {},
   "outputs": [],
   "source": [
    "stock = dict()\n",
    "\n",
    "for d in delivery:\n",
    "    checkstock(d, stock)"
   ]
  },
  {
   "cell_type": "code",
   "execution_count": 66,
   "metadata": {},
   "outputs": [
    {
     "name": "stdout",
     "output_type": "stream",
     "text": [
      "6 -1\n",
      "2번 [5, 6, 0]\n",
      "2번 [7, 6, 0]\n",
      "2번 들어감\n",
      "2 -1\n",
      "1번 [2, 5, 0]\n"
     ]
    }
   ],
   "source": [
    "for key, value in stock.items():\n",
    "    if value == -1:\n",
    "        print(key, value)\n",
    "        for d in delivery:\n",
    "            if (d[0] == key):\n",
    "                print(\"1번\", d)\n",
    "                if stock[d[1]] == 1:\n",
    "                    print(\"2번 들어감\")\n",
    "                    stock[d[0]] = 0\n",
    "                \n",
    "            elif (d[1] == key):\n",
    "                print(\"2번\", d)\n",
    "                if stock[d[0]] == 1:\n",
    "                    print(\"2번 들어감\")\n",
    "                    stock[d[1]] = 0"
   ]
  },
  {
   "cell_type": "code",
   "execution_count": 35,
   "metadata": {},
   "outputs": [],
   "source": [
    "def checkstock(d, stock):\n",
    "    if d[2] == 1: #배송함\n",
    "        stock[d[0]] = 1\n",
    "        stock[d[1]] = 1\n",
    "        \n",
    "    else: #배송안함\n",
    "        stock_keys = stock.keys()\n",
    "\n",
    "        # 1개는 재고 파악 되어있음\n",
    "        if (d[0] in stock_keys):\n",
    "            if stock[d[0]] == 1:\n",
    "                stock[d[1]] = 0\n",
    "            else:\n",
    "                stock[d[1]] = -1\n",
    "        elif (d[1] in stock_keys):\n",
    "            if stock[d[1]] == 1:\n",
    "                stock[d[0]] = 0\n",
    "            else:\n",
    "                stock[d[0]] = -1\n",
    "\n",
    "        # 2개 다 모름\n",
    "        else:\n",
    "            stock[d[0]] = -1\n",
    "            stock[d[1]] = -1"
   ]
  },
  {
   "cell_type": "code",
   "execution_count": 54,
   "metadata": {},
   "outputs": [
    {
     "data": {
      "text/plain": [
       "{5: 0, 6: -1, 1: 1, 3: 1, 7: 1, 2: -1}"
      ]
     },
     "execution_count": 54,
     "metadata": {},
     "output_type": "execute_result"
    }
   ],
   "source": [
    "stock"
   ]
  },
  {
   "cell_type": "code",
   "execution_count": 67,
   "metadata": {},
   "outputs": [
    {
     "data": {
      "text/plain": [
       "{5: 0, 6: 0, 1: 1, 3: 1, 7: 1, 2: -1}"
      ]
     },
     "execution_count": 67,
     "metadata": {},
     "output_type": "execute_result"
    }
   ],
   "source": [
    "stock"
   ]
  },
  {
   "cell_type": "code",
   "execution_count": 70,
   "metadata": {},
   "outputs": [
    {
     "data": {
      "text/plain": [
       "{5: 0, 6: 0, 1: 1, 3: 1, 7: 1, 2: -1, 4: -1}"
      ]
     },
     "execution_count": 70,
     "metadata": {},
     "output_type": "execute_result"
    }
   ],
   "source": [
    "stock_keys = stock.keys()\n",
    "for i in range(1, n+1):\n",
    "    if i not in stock_keys:\n",
    "        stock[i] = -1\n",
    "stock"
   ]
  },
  {
   "cell_type": "code",
   "execution_count": 75,
   "metadata": {},
   "outputs": [
    {
     "data": {
      "text/plain": [
       "'O?O?XXO'"
      ]
     },
     "execution_count": 75,
     "metadata": {},
     "output_type": "execute_result"
    }
   ],
   "source": [
    "sorted_stock = sorted(stock.items())\n",
    "ans = \"\"\n",
    "for j in sorted_stock:\n",
    "    if j[1] == 0:\n",
    "        ans += \"X\"\n",
    "    elif j[1] == 1:\n",
    "        ans += \"O\"\n",
    "    else:\n",
    "        ans += \"?\"\n",
    "ans"
   ]
  },
  {
   "cell_type": "code",
   "execution_count": 78,
   "metadata": {},
   "outputs": [
    {
     "data": {
      "text/plain": [
       "'bcda'"
      ]
     },
     "execution_count": 78,
     "metadata": {},
     "output_type": "execute_result"
    }
   ],
   "source": [
    "a = \"abcd\"\n",
    "n = -3\n",
    "a[n:] + a[:n]"
   ]
  },
  {
   "cell_type": "code",
   "execution_count": null,
   "metadata": {},
   "outputs": [],
   "source": []
  },
  {
   "cell_type": "code",
   "execution_count": 136,
   "metadata": {},
   "outputs": [],
   "source": [
    "encrypted_text = \"acey\"\n",
    "key = \"xyza\"\n",
    "rotation = -1"
   ]
  },
  {
   "cell_type": "code",
   "execution_count": 137,
   "metadata": {},
   "outputs": [
    {
     "data": {
      "text/plain": [
       "'abcd'"
      ]
     },
     "execution_count": 137,
     "metadata": {},
     "output_type": "execute_result"
    }
   ],
   "source": [
    "answer = \"\"\n",
    "before_rotation = encrypted_text[rotation:] + encrypted_text[:rotation]\n",
    "num_key = [ord(k)-ord(\"a\")+1 for k in key]\n",
    "\n",
    "for idx, ch in enumerate(before_rotation):\n",
    "    origin = ord(ch)-num_key[idx]\n",
    "    if origin > 122:\n",
    "        origin = origin - 26\n",
    "    elif origin < 97:\n",
    "        origin = origin + 26\n",
    "    answer += chr(origin)\n",
    "\n",
    "answer"
   ]
  },
  {
   "cell_type": "code",
   "execution_count": 100,
   "metadata": {},
   "outputs": [
    {
     "data": {
      "text/plain": [
       "'igoptvfbqyy'"
      ]
     },
     "execution_count": 100,
     "metadata": {},
     "output_type": "execute_result"
    }
   ],
   "source": [
    "before_rotation = encrypted_text[rotation:] + encrypted_text[:rotation]\n",
    "before_rotation"
   ]
  },
  {
   "cell_type": "code",
   "execution_count": 101,
   "metadata": {},
   "outputs": [
    {
     "data": {
      "text/plain": [
       "[1, 2, 3, 4, 5, 6, 7, 8, 9, 10, 11]"
      ]
     },
     "execution_count": 101,
     "metadata": {},
     "output_type": "execute_result"
    }
   ],
   "source": [
    "num_key = [ord(k)-96 for k in key]\n",
    "num_key"
   ]
  },
  {
   "cell_type": "code",
   "execution_count": 113,
   "metadata": {},
   "outputs": [
    {
     "name": "stdout",
     "output_type": "stream",
     "text": [
      "104\n",
      "101\n",
      "108\n",
      "108\n",
      "111\n",
      "112\n",
      "95\n",
      "90\n",
      "104\n",
      "111\n",
      "110\n"
     ]
    },
    {
     "data": {
      "text/plain": [
       "'hellopython'"
      ]
     },
     "execution_count": 113,
     "metadata": {},
     "output_type": "execute_result"
    }
   ],
   "source": [
    "answer = \"\"\n",
    "for idx, ch in enumerate(before_rotation):\n",
    "    origin = ord(ch)-num_key[idx]\n",
    "    if origin > 122:\n",
    "        origin = origin - 25\n",
    "    elif origin < 97:\n",
    "        origin = origin + 26\n",
    "    answer += chr(origin)\n",
    "answer"
   ]
  },
  {
   "cell_type": "code",
   "execution_count": 133,
   "metadata": {},
   "outputs": [
    {
     "data": {
      "text/plain": [
       "125"
      ]
     },
     "execution_count": 133,
     "metadata": {},
     "output_type": "execute_result"
    }
   ],
   "source": [
    "ord(\"c\") + (ord(\"z\")-96)"
   ]
  },
  {
   "cell_type": "code",
   "execution_count": null,
   "metadata": {},
   "outputs": [],
   "source": [
    "chr(ord(\"b\") + (ord(\"y\")-96))"
   ]
  },
  {
   "cell_type": "code",
   "execution_count": 131,
   "metadata": {},
   "outputs": [
    {
     "data": {
      "text/plain": [
       "122"
      ]
     },
     "execution_count": 131,
     "metadata": {},
     "output_type": "execute_result"
    }
   ],
   "source": [
    "ord(\"z\")"
   ]
  },
  {
   "cell_type": "code",
   "execution_count": 138,
   "metadata": {},
   "outputs": [],
   "source": [
    "v = [[0,0,1,1],[1,1,1,1],[2,2,2,1],[0,0,0,2]]"
   ]
  },
  {
   "cell_type": "code",
   "execution_count": 142,
   "metadata": {},
   "outputs": [
    {
     "name": "stdout",
     "output_type": "stream",
     "text": [
      "0 0\n",
      "0 1\n",
      "0 2\n",
      "0 3\n",
      "1 0\n",
      "1 1\n",
      "1 2\n",
      "1 3\n",
      "2 0\n",
      "2 1\n",
      "2 2\n",
      "2 3\n",
      "3 0\n",
      "3 1\n",
      "3 2\n",
      "3 3\n"
     ]
    }
   ],
   "source": [
    "answer = {0:0, 1:0, 2:0}\n",
    "n = len(v)\n",
    "\n",
    "for idx_row, row in enumerate(v):\n",
    "    for idx_p, p in enumerate(row):\n",
    "        if (idx_row == n-1) or (idx_p == n-1): #아래나 오른쪽이 없음\n",
    "            \n",
    "        else:\n",
    "            right = v[idx_row][idx_p + 1]\n",
    "            below = v[idx_row + 1][idx_p]\n",
    "            if p != right:\n",
    "                answer[right] += 1\n",
    "            "
   ]
  },
  {
   "cell_type": "code",
   "execution_count": null,
   "metadata": {},
   "outputs": [],
   "source": []
  }
 ],
 "metadata": {
  "kernelspec": {
   "display_name": "Python 3",
   "language": "python",
   "name": "python3"
  },
  "language_info": {
   "codemirror_mode": {
    "name": "ipython",
    "version": 3
   },
   "file_extension": ".py",
   "mimetype": "text/x-python",
   "name": "python",
   "nbconvert_exporter": "python",
   "pygments_lexer": "ipython3",
   "version": "3.7.6"
  }
 },
 "nbformat": 4,
 "nbformat_minor": 4
}
