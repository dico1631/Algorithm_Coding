{
 "cells": [
  {
   "cell_type": "markdown",
   "metadata": {},
   "source": [
    "# 프로그래머스 문제\n",
    "## 3. 위장\n",
    "- 스파이가 가진 의상들이 담긴 2차원 배열 clothes가 주어질 때 서로 다른 옷의 조합의 수를 return 하도록 solution 함수를 작성해주세요.\n",
    "\n",
    "### 제한사항\n",
    "- clothes의 각 행은 [의상의 이름, 의상의 종류]로 이루어져 있습니다.\n",
    "- 같은 이름을 가진 의상은 존재하지 않습니다."
   ]
  },
  {
   "cell_type": "code",
   "execution_count": 4,
   "metadata": {},
   "outputs": [
    {
     "name": "stdout",
     "output_type": "stream",
     "text": [
      "5\n",
      "2 4\n",
      "1 3 5\n",
      "5 [2, 4] [1, 3, 5]\n"
     ]
    }
   ],
   "source": [
    "n = int(input())\n",
    "lost = list(map(int, input().split()))\n",
    "reserve = list(map(int, input().split()))\n",
    "print(n, lost, reserve)"
   ]
  },
  {
   "cell_type": "code",
   "execution_count": 45,
   "metadata": {
    "scrolled": true
   },
   "outputs": [
    {
     "name": "stdout",
     "output_type": "stream",
     "text": [
      "5\n",
      "1 3 5\n",
      "1 2\n",
      "1\n",
      "[3, 5] [2]\n",
      "[5] 4\n"
     ]
    }
   ],
   "source": [
    "n = int(input())\n",
    "lost = list(map(int, input().split()))\n",
    "reserve = list(map(int, input().split()))\n",
    "\n",
    "answer = n - len(lost)\n",
    "removed = []\n",
    "\n",
    "for i in lost:\n",
    "    if i in reserve:\n",
    "        print(i)\n",
    "        answer += 1\n",
    "        removed.append(i)\n",
    "\n",
    "lost = [i for i in lost if i not in removed]\n",
    "reserve = [i for i in reserve if i not in removed]\n",
    "print(lost, reserve)\n",
    "\n",
    "\n",
    "for i in reserve:\n",
    "    if i+1 in lost:\n",
    "        answer += 1\n",
    "        lost.remove(i+1)\n",
    "    elif i-1 in lost:\n",
    "        answer += 1\n",
    "        lost.remove(i-1)\n",
    "print(lost, answer)"
   ]
  },
  {
   "cell_type": "code",
   "execution_count": 27,
   "metadata": {},
   "outputs": [
    {
     "data": {
      "text/plain": [
       "[3, 5]"
      ]
     },
     "execution_count": 27,
     "metadata": {},
     "output_type": "execute_result"
    }
   ],
   "source": [
    "l = [1, 3, 5]\n",
    "l.remove(1)\n",
    "l"
   ]
  },
  {
   "cell_type": "code",
   "execution_count": 37,
   "metadata": {},
   "outputs": [
    {
     "name": "stdout",
     "output_type": "stream",
     "text": [
      "5\n",
      "2 4\n",
      "1 3 5\n",
      "5 [2, 4] [1, 3, 5]\n",
      "2 3 1\n",
      "4 5 3\n",
      "[2, 4]\n",
      "3\n"
     ]
    }
   ],
   "source": [
    "n = int(input())\n",
    "lost = list(map(int, input().split()))\n",
    "reserve = list(map(int, input().split()))\n",
    "print(n, lost, reserve)\n",
    "removed = list()\n",
    "\n",
    "for i in lost:\n",
    "    if i in reserve:\n",
    "        removed.append(i)\n",
    "    elif i+1 in reserve:\n",
    "         removed.append(i+1)\n",
    "    elif i-1 in reserve:\n",
    "         removed.append(i-1)\n",
    "\n",
    "lost = [i for i in lost if i not in removed]\n",
    "print(lost)\n",
    "answer = n - len(lost)\n",
    "print(answer)"
   ]
  },
  {
   "cell_type": "code",
   "execution_count": 1,
   "metadata": {
    "scrolled": false
   },
   "outputs": [
    {
     "name": "stdout",
     "output_type": "stream",
     "text": [
      "30\n",
      "10 16 19 20 24 26 27\n",
      "4 7 8 10 13 14 16 17 18 19 21 22 23 24 25 26 27\n",
      "4 [10, 16, 19, 20, 24, 26, 27]\n",
      "7 [10, 16, 19, 20, 24, 26, 27]\n",
      "8 [10, 16, 19, 20, 24, 26, 27]\n",
      "10 [10, 16, 19, 20, 24, 26, 27]\n",
      "13 [16, 19, 20, 24, 26, 27]\n",
      "14 [16, 19, 20, 24, 26, 27]\n",
      "16 [16, 19, 20, 24, 26, 27]\n",
      "17 [19, 20, 24, 26, 27]\n",
      "18 [19, 20, 24, 26, 27]\n",
      "19 [20, 24, 26, 27]\n",
      "21 [24, 26, 27]\n",
      "22 [24, 26, 27]\n",
      "23 [24, 26, 27]\n",
      "24 [26, 27]\n",
      "25 [26, 27]\n",
      "26 [27]\n",
      "27 []\n",
      "[] 30\n"
     ]
    }
   ],
   "source": [
    "n = int(input())\n",
    "lost = list(map(int, input().split()))\n",
    "reserve = list(map(int, input().split()))\n",
    "\n",
    "for i in reserve:\n",
    "    print(i, lost)\n",
    "    if i in lost:\n",
    "        lost.remove(i)\n",
    "    elif i+1 in lost:\n",
    "        lost.remove(i+1)\n",
    "    elif i-1 in lost:\n",
    "        lost.remove(i-1)\n",
    "\n",
    "answer = n - len(lost)\n",
    "print(lost, answer)"
   ]
  },
  {
   "cell_type": "code",
   "execution_count": null,
   "metadata": {},
   "outputs": [],
   "source": [
    "[4, 7, 8, 10, 13, 14, 16, 17, 18, 19, 21, 22, 23, 24, 25, 26, 27]"
   ]
  },
  {
   "cell_type": "code",
   "execution_count": 3,
   "metadata": {},
   "outputs": [
    {
     "data": {
      "text/plain": [
       "{1}"
      ]
     },
     "execution_count": 3,
     "metadata": {},
     "output_type": "execute_result"
    }
   ],
   "source": [
    "a = [1, 2, 3]\n",
    "b = [2, 3, 4, 5]\n",
    "set(a) - set(b)"
   ]
  },
  {
   "cell_type": "code",
   "execution_count": null,
   "metadata": {},
   "outputs": [],
   "source": []
  }
 ],
 "metadata": {
  "kernelspec": {
   "display_name": "Python 3",
   "language": "python",
   "name": "python3"
  },
  "language_info": {
   "codemirror_mode": {
    "name": "ipython",
    "version": 3
   },
   "file_extension": ".py",
   "mimetype": "text/x-python",
   "name": "python",
   "nbconvert_exporter": "python",
   "pygments_lexer": "ipython3",
   "version": "3.7.6"
  }
 },
 "nbformat": 4,
 "nbformat_minor": 4
}
