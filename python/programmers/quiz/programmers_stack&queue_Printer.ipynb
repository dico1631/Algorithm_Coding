{
 "cells": [
  {
   "cell_type": "markdown",
   "metadata": {},
   "source": [
    "# 프로그래머스 문제\n",
    "\n",
    "## 프린터"
   ]
  },
  {
   "cell_type": "code",
   "execution_count": 36,
   "metadata": {
    "ExecuteTime": {
     "end_time": "2020-12-18T10:03:25.597497Z",
     "start_time": "2020-12-18T10:03:25.575554Z"
    }
   },
   "outputs": [
    {
     "name": "stdout",
     "output_type": "stream",
     "text": [
      "2 deque([2, 1, 3, 2])\n",
      "우선 프린트 3\n",
      "now_print 2\n",
      "1 deque([1, 2, 2])\n",
      "우선 프린트 2\n",
      "now_print 0\n",
      "2 deque([2, 1])\n",
      "pop 프린트 2\n",
      "now_print 0\n",
      "1 deque([1])\n",
      "pop 프린트 1\n",
      "now_print 1\n"
     ]
    },
    {
     "data": {
      "text/plain": [
       "4"
      ]
     },
     "execution_count": 36,
     "metadata": {},
     "output_type": "execute_result"
    }
   ],
   "source": [
    "# priorities=[0, 1, 2, 3]\n",
    "priorities = [2, 1, 3, 2]\n",
    "location = 3\n",
    "\n",
    "from collections import deque\n",
    "\n",
    "q = [(idx, i) for idx, i in enumerate(priorities)]\n",
    "answer = 0\n",
    "\n",
    "while q:\n",
    "    now = q[0]\n",
    "    first_p = max(priorities)\n",
    "    if now[1] < first_p:\n",
    "        q.append(now)\n",
    "        now_print = priorities.index(first_p)\n",
    "        q.remove(first_p)\n",
    "    else:\n",
    "        now_print = priorities.index(now)\n",
    "    q.popleft()\n",
    "    answer += 1\n",
    "    if now_print == location:\n",
    "        break\n",
    "answer"
   ]
  },
  {
   "cell_type": "code",
   "execution_count": 37,
   "metadata": {
    "ExecuteTime": {
     "end_time": "2020-12-18T10:05:34.783847Z",
     "start_time": "2020-12-18T10:05:34.773878Z"
    }
   },
   "outputs": [
    {
     "data": {
      "text/plain": [
       "[(0, 2), (1, 1), (2, 3), (3, 2)]"
      ]
     },
     "execution_count": 37,
     "metadata": {},
     "output_type": "execute_result"
    }
   ],
   "source": [
    "priorities = [2, 1, 3, 2]\n",
    "\n",
    "q = [(idx, i) for idx, i in enumerate(priorities)]\n",
    "q"
   ]
  },
  {
   "cell_type": "code",
   "execution_count": null,
   "metadata": {},
   "outputs": [],
   "source": []
  }
 ],
 "metadata": {
  "kernelspec": {
   "display_name": "Python 3",
   "language": "python",
   "name": "python3"
  },
  "language_info": {
   "codemirror_mode": {
    "name": "ipython",
    "version": 3
   },
   "file_extension": ".py",
   "mimetype": "text/x-python",
   "name": "python",
   "nbconvert_exporter": "python",
   "pygments_lexer": "ipython3",
   "version": "3.7.6"
  },
  "toc": {
   "base_numbering": 1,
   "nav_menu": {},
   "number_sections": true,
   "sideBar": true,
   "skip_h1_title": false,
   "title_cell": "Table of Contents",
   "title_sidebar": "Contents",
   "toc_cell": false,
   "toc_position": {},
   "toc_section_display": true,
   "toc_window_display": false
  },
  "varInspector": {
   "cols": {
    "lenName": 16,
    "lenType": 16,
    "lenVar": 40
   },
   "kernels_config": {
    "python": {
     "delete_cmd_postfix": "",
     "delete_cmd_prefix": "del ",
     "library": "var_list.py",
     "varRefreshCmd": "print(var_dic_list())"
    },
    "r": {
     "delete_cmd_postfix": ") ",
     "delete_cmd_prefix": "rm(",
     "library": "var_list.r",
     "varRefreshCmd": "cat(var_dic_list()) "
    }
   },
   "types_to_exclude": [
    "module",
    "function",
    "builtin_function_or_method",
    "instance",
    "_Feature"
   ],
   "window_display": false
  }
 },
 "nbformat": 4,
 "nbformat_minor": 4
}
