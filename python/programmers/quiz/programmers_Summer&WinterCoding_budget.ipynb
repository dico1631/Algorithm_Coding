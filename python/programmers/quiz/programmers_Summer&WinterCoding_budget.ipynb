{
 "cells": [
  {
   "cell_type": "markdown",
   "metadata": {},
   "source": [
    "# 프로그래머스 문제\n",
    "\n",
    "## 5. 예산\n",
    "- 각 부서에서 신청한 예산 금액이 든 리스트 d와 총 사용 가능한 예산 budget이 있을 때, 최대한 많은 부서에게 지원할 경우 몇 개의 부서에 지원이 가능한 지 개수를 출력하라.\n",
    " \n",
    "### 제한사항\n",
    "- 부서에 예산은 주거나, 말거나 2가지 뿐이다. 일부만 주는 경우는 없다."
   ]
  },
  {
   "cell_type": "code",
   "execution_count": 2,
   "metadata": {},
   "outputs": [],
   "source": [
    "d = [1, 3, 2, 5, 4]\n",
    "budget = 9"
   ]
  },
  {
   "cell_type": "code",
   "execution_count": 4,
   "metadata": {},
   "outputs": [
    {
     "data": {
      "text/plain": [
       "3"
      ]
     },
     "execution_count": 4,
     "metadata": {},
     "output_type": "execute_result"
    }
   ],
   "source": [
    "answer = 0\n",
    "\n",
    "if sum(d) <= budget:\n",
    "    answer = len(d)\n",
    "else:\n",
    "    d = sorted(d)\n",
    "    sum_d = 0\n",
    "    count = 0\n",
    "    for i in d:\n",
    "        count += 1\n",
    "        sum_d += i\n",
    "        if sum_d > budget:\n",
    "            answer = count - 1\n",
    "            break\n",
    "answer"
   ]
  }
 ],
 "metadata": {
  "kernelspec": {
   "display_name": "Python 3",
   "language": "python",
   "name": "python3"
  },
  "language_info": {
   "codemirror_mode": {
    "name": "ipython",
    "version": 3
   },
   "file_extension": ".py",
   "mimetype": "text/x-python",
   "name": "python",
   "nbconvert_exporter": "python",
   "pygments_lexer": "ipython3",
   "version": "3.7.6"
  }
 },
 "nbformat": 4,
 "nbformat_minor": 4
}
