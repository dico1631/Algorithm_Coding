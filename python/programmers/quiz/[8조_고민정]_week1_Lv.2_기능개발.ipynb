{
 "cells": [
  {
   "cell_type": "markdown",
   "metadata": {},
   "source": [
    "# 기능개발\n",
    "- 풀이 여부 : 성공\n",
    "- 아이디어 : progresses와 speeds를 더한 다음 100프로가 넘으면 pop을 한다."
   ]
  },
  {
   "cell_type": "code",
   "execution_count": 34,
   "metadata": {
    "ExecuteTime": {
     "end_time": "2021-01-07T11:16:17.857073Z",
     "start_time": "2021-01-07T11:16:17.842115Z"
    }
   },
   "outputs": [
    {
     "data": {
      "text/plain": [
       "[2, 1]"
      ]
     },
     "execution_count": 34,
     "metadata": {},
     "output_type": "execute_result"
    }
   ],
   "source": [
    "progresses = [93,30,55]\n",
    "speeds = [1,30,5]\n",
    "\n",
    "from collections import deque\n",
    "\n",
    "progresses = deque(progresses)\n",
    "speeds = deque(speeds)\n",
    "answer = []\n",
    "isSameDay = False\n",
    "\n",
    "\n",
    "while progresses:\n",
    "    progresses = deque([p+s for p, s in zip(progresses, speeds)])\n",
    "    for i in range(len(progresses)):\n",
    "        if progresses[0] >= 100:\n",
    "            if not isSameDay:\n",
    "                isSameDay = True\n",
    "                answer.append(1)\n",
    "            else:\n",
    "                answer[-1] += 1\n",
    "            progresses.popleft()\n",
    "            speeds.popleft()\n",
    "        else:\n",
    "            break\n",
    "    isSameDay = False\n",
    "answer"
   ]
  }
 ],
 "metadata": {
  "kernelspec": {
   "display_name": "Python 3",
   "language": "python",
   "name": "python3"
  },
  "language_info": {
   "codemirror_mode": {
    "name": "ipython",
    "version": 3
   },
   "file_extension": ".py",
   "mimetype": "text/x-python",
   "name": "python",
   "nbconvert_exporter": "python",
   "pygments_lexer": "ipython3",
   "version": "3.7.6"
  },
  "toc": {
   "base_numbering": 1,
   "nav_menu": {},
   "number_sections": true,
   "sideBar": true,
   "skip_h1_title": false,
   "title_cell": "Table of Contents",
   "title_sidebar": "Contents",
   "toc_cell": false,
   "toc_position": {},
   "toc_section_display": true,
   "toc_window_display": false
  },
  "varInspector": {
   "cols": {
    "lenName": 16,
    "lenType": 16,
    "lenVar": 40
   },
   "kernels_config": {
    "python": {
     "delete_cmd_postfix": "",
     "delete_cmd_prefix": "del ",
     "library": "var_list.py",
     "varRefreshCmd": "print(var_dic_list())"
    },
    "r": {
     "delete_cmd_postfix": ") ",
     "delete_cmd_prefix": "rm(",
     "library": "var_list.r",
     "varRefreshCmd": "cat(var_dic_list()) "
    }
   },
   "types_to_exclude": [
    "module",
    "function",
    "builtin_function_or_method",
    "instance",
    "_Feature"
   ],
   "window_display": false
  }
 },
 "nbformat": 4,
 "nbformat_minor": 4
}
