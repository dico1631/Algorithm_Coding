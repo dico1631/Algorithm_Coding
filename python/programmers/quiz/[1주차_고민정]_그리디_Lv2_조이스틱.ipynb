{
 "cells": [
  {
   "cell_type": "code",
   "execution_count": null,
   "metadata": {},
   "outputs": [],
   "source": [
    "def solution(name):\n",
    "    m = [min(ord(alphabat)-65, 91-ord(alphabat)) for alphabat in name]\n",
    "    answer = 0\n",
    "    now = 0\n",
    "    \n",
    "    while True:\n",
    "        answer += m[now]\n",
    "        m[now] = 0\n",
    "        \n",
    "        if sum(m) == 0:\n",
    "            break\n",
    "        \n",
    "        left, right = 1, 1\n",
    "        \n",
    "        while m[now-left] == 0:\n",
    "            left += 1\n",
    "        while m[now+right] == 0:\n",
    "            right += 1\n",
    "            \n",
    "        answer += min(left, right)\n",
    "        now += -left if left <= right else right\n",
    "        \n",
    "    return answer"
   ]
  }
 ],
 "metadata": {
  "kernelspec": {
   "display_name": "Python 3",
   "language": "python",
   "name": "python3"
  },
  "language_info": {
   "codemirror_mode": {
    "name": "ipython",
    "version": 3
   },
   "file_extension": ".py",
   "mimetype": "text/x-python",
   "name": "python",
   "nbconvert_exporter": "python",
   "pygments_lexer": "ipython3",
   "version": "3.8.5"
  }
 },
 "nbformat": 4,
 "nbformat_minor": 4
}
