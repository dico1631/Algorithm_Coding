{
 "cells": [
  {
   "cell_type": "markdown",
   "metadata": {},
   "source": [
    "# 프로그래머스 문제\n",
    "## 2. 전화번호 등록\n",
    "- 전화번호부(phone_book)에 적힌 전화번호 중, 한 번호가 다른 번호의 접두어인 경우가 있는지 확인\n",
    "- 1개라도 접두어인 경우 False, 아닌 경우 True"
   ]
  },
  {
   "cell_type": "markdown",
   "metadata": {},
   "source": [
    "1) 나의 풀이\n",
    "\n",
    "- 정확성 만족, 효율성 만족"
   ]
  },
  {
   "cell_type": "code",
   "execution_count": 29,
   "metadata": {},
   "outputs": [],
   "source": [
    "def solution(phone_book):\n",
    "    answer = True\n",
    "    phone_book = sorted(phone_book)\n",
    "    for standard_idx in range(len(phone_book)):\n",
    "        for compare_idx in range(standard_idx+1, len(phone_book)):\n",
    "            print('n은', phone_book[standard_idx])\n",
    "            s_len = len(phone_book[standard_idx])\n",
    "            if phone_book[standard_idx] == phone_book[compare_idx][:s_len]:\n",
    "                print('대상은', phone_book[compare_idx][:s_len])\n",
    "                answer = False\n",
    "                return answer\n",
    "    \n",
    "    return answer"
   ]
  },
  {
   "cell_type": "markdown",
   "metadata": {},
   "source": [
    "2) 파이썬 모듈을 이용한 풀이 (다른 사람의 풀이)"
   ]
  },
  {
   "cell_type": "code",
   "execution_count": 43,
   "metadata": {},
   "outputs": [],
   "source": [
    "def solution(phoneBook):\n",
    "    phoneBook = sorted(phoneBook)\n",
    "\n",
    "    for p1, p2 in zip(phoneBook, phoneBook[1:]):\n",
    "        if p2.startswith(p1):\n",
    "            return False\n",
    "    return True"
   ]
  }
 ],
 "metadata": {
  "kernelspec": {
   "display_name": "Python 3",
   "language": "python",
   "name": "python3"
  },
  "language_info": {
   "codemirror_mode": {
    "name": "ipython",
    "version": 3
   },
   "file_extension": ".py",
   "mimetype": "text/x-python",
   "name": "python",
   "nbconvert_exporter": "python",
   "pygments_lexer": "ipython3",
   "version": "3.7.6"
  }
 },
 "nbformat": 4,
 "nbformat_minor": 4
}
