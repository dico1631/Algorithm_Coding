{
 "cells": [
  {
   "cell_type": "markdown",
   "metadata": {},
   "source": [
    "# 프로그래머스 문제\n",
    "## 4. 베스트앨범\n",
    "- 장르 별로 2개를 뽑아 베스트 앨범을 출시하려 한다. 노래 수록 기준은 아래와 같다.\n",
    "1) 가장 많이 재생된 장르\n",
    "2) 장르 내에선 가장 많이 재생된 노래\n",
    "3) 재생 횟수가 같으면 고유 번호가 낮은 곡 우선\n",
    "\n",
    "### input\n",
    "- 노래의 장르를 나타내는 문자열 배열 genres\n",
    "- 노래별 재생 횟수를 나타내는 정수 배열 plays\n",
    "\n",
    "### 제한사항\n",
    "- 노래의 고유 번호는 배열의 index 번호와 동일\n",
    "- 장르에 곡이 1개면 1개만 선택\n",
    "- 모든 장르는 재생 횟수가 다름"
   ]
  },
  {
   "cell_type": "markdown",
   "metadata": {},
   "source": [
    "1) 나의 풀이\n",
    "\n",
    "- 정확성 만족, 효율성 체크 안함"
   ]
  },
  {
   "cell_type": "code",
   "execution_count": 1,
   "metadata": {},
   "outputs": [],
   "source": [
    "import collections\n",
    "import numpy as np\n",
    "\n",
    "def solution(genres, plays):\n",
    "    genres = np.array(genres)\n",
    "    plays = np.array(plays)\n",
    "    genres_kind = list(collections.Counter(genres).keys())\n",
    "    total = {}\n",
    "    for gk in genres_kind:\n",
    "        total[gk] = plays[genres == gk].sum()\n",
    "    genres_order = np.array(sorted(total.items(), key = lambda x: x[1], reverse=True))[:,0]\n",
    "\n",
    "    ingenres = {}\n",
    "    pre_answer = []\n",
    "    for go in genres_order:\n",
    "        music_num = np.where(genres == go)\n",
    "        for i in music_num[0]:\n",
    "            ingenres[i] = plays[i]\n",
    "        pre_answer.append(np.array(sorted(ingenres.items(), key = lambda x: x[1], reverse=True))[:2,0])\n",
    "        ingenres = {}\n",
    "\n",
    "    answer = []\n",
    "    for a in pre_answer:\n",
    "        for i in a:\n",
    "            answer.append(i)\n",
    "    return answer"
   ]
  }
 ],
 "metadata": {
  "kernelspec": {
   "display_name": "Python 3",
   "language": "python",
   "name": "python3"
  },
  "language_info": {
   "codemirror_mode": {
    "name": "ipython",
    "version": 3
   },
   "file_extension": ".py",
   "mimetype": "text/x-python",
   "name": "python",
   "nbconvert_exporter": "python",
   "pygments_lexer": "ipython3",
   "version": "3.7.6"
  }
 },
 "nbformat": 4,
 "nbformat_minor": 4
}
