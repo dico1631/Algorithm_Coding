{
 "cells": [
  {
   "cell_type": "code",
   "execution_count": 14,
   "metadata": {
    "scrolled": true
   },
   "outputs": [],
   "source": [
    "from collections import deque\n",
    "\n",
    "def solution(people, limit):\n",
    "    people = deque(sorted(people))\n",
    "    in_boat = 0\n",
    "    answer = 0\n",
    "    while people:\n",
    "        if len(people) >= 2 and people[0] + people[-1] <= limit:\n",
    "            people.pop()\n",
    "            people.popleft()\n",
    "        else:\n",
    "            people.pop()\n",
    "        answer += 1\n",
    "        in_boat = 0\n",
    "        \n",
    "    return answer"
   ]
  }
 ],
 "metadata": {
  "kernelspec": {
   "display_name": "Python 3",
   "language": "python",
   "name": "python3"
  },
  "language_info": {
   "codemirror_mode": {
    "name": "ipython",
    "version": 3
   },
   "file_extension": ".py",
   "mimetype": "text/x-python",
   "name": "python",
   "nbconvert_exporter": "python",
   "pygments_lexer": "ipython3",
   "version": "3.8.5"
  }
 },
 "nbformat": 4,
 "nbformat_minor": 4
}
