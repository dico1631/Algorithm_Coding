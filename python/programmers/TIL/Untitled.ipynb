{
 "cells": [
  {
   "cell_type": "code",
   "execution_count": 46,
   "metadata": {},
   "outputs": [],
   "source": [
    "# \"(()())()\"\n",
    "# # \"(()())()\"\n",
    "# \")(\"\n",
    "# # \"()\"\n",
    "p = \"()))((()\"\n",
    "# # \"()(())()\""
   ]
  },
  {
   "cell_type": "code",
   "execution_count": 47,
   "metadata": {},
   "outputs": [
    {
     "name": "stdout",
     "output_type": "stream",
     "text": [
      "()\n",
      "))((()\n"
     ]
    }
   ],
   "source": [
    "global answer = \"\"\n",
    "right_seq = right_seqence(p)  \n",
    "            \n",
    "if right_seq:\n",
    "#     return p\n",
    "    print(\"출력\")\n",
    "else:\n",
    "    change_str(p)"
   ]
  },
  {
   "cell_type": "code",
   "execution_count": 43,
   "metadata": {},
   "outputs": [],
   "source": [
    "def change_str(p):\n",
    "    global answer\n",
    "    len_open = 0\n",
    "    len_close = 0\n",
    "    u = \"\"\n",
    "    v = \"\"\n",
    "    temp = \"\"\n",
    "    if len(p) == 0:\n",
    "        return p\n",
    "    else:\n",
    "        for i in range(len(p)):\n",
    "            if p[i] == \"(\":\n",
    "                len_open += 1\n",
    "            else:\n",
    "                len_close += 1\n",
    "            if len_open == len_close:\n",
    "                u = p[:i+1]\n",
    "                v = p[i+1:]\n",
    "                break\n",
    "                \n",
    "    right_seq = right_seqence(u)\n",
    "    if right_seq:\n",
    "        answer += u\n",
    "        change_str(v)\n",
    "    else:\n",
    "        temp += \"(\"\n",
    "        temp += change_str(v)\n",
    "        temp += \")\"\n",
    "        temp += u[1:-1].replace(\"(\", \"0\").replace(\")\", \"(\").replace(\"0\", \")\")"
   ]
  },
  {
   "cell_type": "code",
   "execution_count": 45,
   "metadata": {},
   "outputs": [],
   "source": [
    "def right_seqence(s):\n",
    "    s_list = list(s)\n",
    "    opens = []\n",
    "    closes = []\n",
    "    right_seq = True\n",
    "\n",
    "    for i in range(len(s_list)):\n",
    "        now = s_list.pop()\n",
    "        if now == \")\":\n",
    "            closes.append(now)\n",
    "        else:\n",
    "            if not closes:\n",
    "                right_seq = False\n",
    "                break\n",
    "            else:\n",
    "                closes.pop()\n",
    "    return right_seq"
   ]
  },
  {
   "cell_type": "code",
   "execution_count": 48,
   "metadata": {},
   "outputs": [
    {
     "data": {
      "text/plain": [
       "'023'"
      ]
     },
     "execution_count": 48,
     "metadata": {},
     "output_type": "execute_result"
    }
   ],
   "source": [
    "s = \"123\"\n",
    "s.replace(\"1\", \"0\")"
   ]
  },
  {
   "cell_type": "code",
   "execution_count": null,
   "metadata": {},
   "outputs": [],
   "source": []
  }
 ],
 "metadata": {
  "kernelspec": {
   "display_name": "Python 3",
   "language": "python",
   "name": "python3"
  },
  "language_info": {
   "codemirror_mode": {
    "name": "ipython",
    "version": 3
   },
   "file_extension": ".py",
   "mimetype": "text/x-python",
   "name": "python",
   "nbconvert_exporter": "python",
   "pygments_lexer": "ipython3",
   "version": "3.7.6"
  }
 },
 "nbformat": 4,
 "nbformat_minor": 4
}
