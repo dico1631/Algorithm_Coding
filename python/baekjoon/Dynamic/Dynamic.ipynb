{
 "cells": [
  {
   "cell_type": "code",
   "execution_count": 6,
   "metadata": {},
   "outputs": [
    {
     "name": "stdout",
     "output_type": "stream",
     "text": [
      "10\n",
      "3\n"
     ]
    }
   ],
   "source": [
    "n = int(input())\n",
    "dp = [0] * (n+1)\n",
    "dp[0]=dp[1]=0\n",
    "for i in range(2,n+1):\n",
    "    dp[i] = dp[i-1] +1\n",
    "    if i%2 == 0:\n",
    "        dp[i] = min(dp[i], dp[i//2]+1)\n",
    "    if i%3 == 0:\n",
    "        dp[i] = min(dp[i], dp[i//3]+1)\n",
    "print(dp[-1])"
   ]
  },
  {
   "cell_type": "code",
   "execution_count": 5,
   "metadata": {},
   "outputs": [
    {
     "name": "stdout",
     "output_type": "stream",
     "text": [
      "3\n",
      "1\n",
      "2\n",
      "3\n",
      "1\n",
      "2\n",
      "4\n"
     ]
    }
   ],
   "source": [
    "T = int(input())\n",
    "ns = [int(input()) for t in range(T)]\n",
    "answer = list()\n",
    "dp = list()\n",
    "\n",
    "for n in ns:\n",
    "    dp = [0] * (n+1)\n",
    "    dp[1]=1\n",
    "    if n >= 2:\n",
    "        dp[2]=2\n",
    "    if n >= 3:\n",
    "        dp[3]=4\n",
    "\n",
    "    for i in range(4, n+1):\n",
    "        dp[i] = dp[i-1] + dp[i-2] + dp[i-3]\n",
    "    answer.append(dp[-1])\n",
    "    \n",
    "    \n",
    "\n",
    "for j in answer:\n",
    "    print(j) "
   ]
  },
  {
   "cell_type": "code",
   "execution_count": null,
   "metadata": {},
   "outputs": [],
   "source": []
  }
 ],
 "metadata": {
  "kernelspec": {
   "display_name": "Python 3",
   "language": "python",
   "name": "python3"
  },
  "language_info": {
   "codemirror_mode": {
    "name": "ipython",
    "version": 3
   },
   "file_extension": ".py",
   "mimetype": "text/x-python",
   "name": "python",
   "nbconvert_exporter": "python",
   "pygments_lexer": "ipython3",
   "version": "3.7.6"
  }
 },
 "nbformat": 4,
 "nbformat_minor": 4
}
