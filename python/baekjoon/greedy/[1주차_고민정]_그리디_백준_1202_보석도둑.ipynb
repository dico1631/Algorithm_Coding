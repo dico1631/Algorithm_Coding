{
 "cells": [
  {
   "cell_type": "code",
   "execution_count": null,
   "metadata": {
    "scrolled": false
   },
   "outputs": [],
   "source": [
    "import sys\n",
    "import heapq\n",
    "from collections import deque\n",
    "\n",
    "\n",
    "n, k = map(int, input().split())\n",
    "gems = []\n",
    "for _ in range(n):\n",
    "    weight, value = map(int, sys.stdin.readline().split())\n",
    "    gems.append((weight, value))\n",
    "bag_max_weights = [int(sys.stdin.readline()) for _ in range(k)]\n",
    "\n",
    "bag_max_weights.sort()\n",
    "WEIGHT, VALUE = 0, 1\n",
    "gems.sort(key=lambda x: x[WEIGHT])\n",
    "gems = deque(gems)\n",
    "\n",
    "candidates = []\n",
    "answer = 0\n",
    "for bag_weight in bag_max_weights:\n",
    "    while gems and gems[0][WEIGHT] <= bag_weight:\n",
    "        gem = gems.popleft()\n",
    "        heapq.heappush(candidates, (-gem[VALUE]))\n",
    "        \n",
    "    if candidates:\n",
    "        answer += heapq.heappop(candidates)\n",
    "        \n",
    "print(-answer)"
   ]
  },
  {
   "cell_type": "markdown",
   "metadata": {},
   "source": [
    "백준의 input으로 인해 시간초과가 날 경우\n",
    "import sys\n",
    "input() > sys.stdin.readline() 로 바꾼다."
   ]
  },
  {
   "cell_type": "code",
   "execution_count": null,
   "metadata": {},
   "outputs": [],
   "source": [
    "n, k = map(int, input().split())\n",
    "gems = []\n",
    "for _ in range(n):\n",
    "    weight, value = map(int, input().split())\n",
    "    gems.append((weight, value))\n",
    "bag_max_weights = [int(input()) for _ in range(k)]"
   ]
  },
  {
   "cell_type": "code",
   "execution_count": null,
   "metadata": {},
   "outputs": [],
   "source": [
    "import sys\n",
    "\n",
    "n, k = map(int, input().split())\n",
    "gems = []\n",
    "for _ in range(n):\n",
    "    weight, value = map(int, sys.stdin.readline().split())\n",
    "    gems.append((weight, value))\n",
    "bag_max_weights = [int(sys.stdin.readline()) for _ in range(k)]"
   ]
  }
 ],
 "metadata": {
  "kernelspec": {
   "display_name": "Python 3",
   "language": "python",
   "name": "python3"
  },
  "language_info": {
   "codemirror_mode": {
    "name": "ipython",
    "version": 3
   },
   "file_extension": ".py",
   "mimetype": "text/x-python",
   "name": "python",
   "nbconvert_exporter": "python",
   "pygments_lexer": "ipython3",
   "version": "3.8.5"
  }
 },
 "nbformat": 4,
 "nbformat_minor": 4
}
