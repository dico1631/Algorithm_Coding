{
 "cells": [
  {
   "cell_type": "markdown",
   "metadata": {},
   "source": [
    "# 설탕배달\n",
    "- 4, 7 외의 모든 숫자는 3과 5로 만들 수 있다."
   ]
  },
  {
   "cell_type": "code",
   "execution_count": 40,
   "metadata": {},
   "outputs": [
    {
     "name": "stdout",
     "output_type": "stream",
     "text": [
      "14\n",
      "4\n"
     ]
    }
   ],
   "source": [
    "n = int(input())\n",
    "\n",
    "count = 0\n",
    "if n == 4 or n == 7:\n",
    "    count = -1\n",
    "elif n == 3:\n",
    "    count = 1\n",
    "else:\n",
    "    temp = n\n",
    "    count = n//5\n",
    "    n = n%5\n",
    "    if n == 3:\n",
    "        count += 1\n",
    "    elif n != 0:\n",
    "        while n <= temp:\n",
    "            n += 5\n",
    "            count -= 1\n",
    "            if n%3 == 0:\n",
    "                count += n//3\n",
    "                break\n",
    "print(count)"
   ]
  }
 ],
 "metadata": {
  "kernelspec": {
   "display_name": "Python 3",
   "language": "python",
   "name": "python3"
  },
  "language_info": {
   "codemirror_mode": {
    "name": "ipython",
    "version": 3
   },
   "file_extension": ".py",
   "mimetype": "text/x-python",
   "name": "python",
   "nbconvert_exporter": "python",
   "pygments_lexer": "ipython3",
   "version": "3.7.6"
  }
 },
 "nbformat": 4,
 "nbformat_minor": 4
}
