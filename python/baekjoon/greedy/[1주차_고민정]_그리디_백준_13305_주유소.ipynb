{
 "cells": [
  {
   "cell_type": "code",
   "execution_count": 12,
   "metadata": {
    "scrolled": true
   },
   "outputs": [
    {
     "name": "stdout",
     "output_type": "stream",
     "text": [
      "4\n",
      "3 3 4\n",
      "1 1 1 1\n"
     ]
    },
    {
     "data": {
      "text/plain": [
       "10"
      ]
     },
     "execution_count": 12,
     "metadata": {},
     "output_type": "execute_result"
    }
   ],
   "source": [
    "n = int(input())\n",
    "lengths = list(map(int, input().split()))\n",
    "prices = list(map(int, input().split()))\n",
    "\n",
    "from collections import deque\n",
    "\n",
    "answer = 0\n",
    "min_oil_price = prices[0]\n",
    "prices = deque(prices)\n",
    "\n",
    "for length in lengths:\n",
    "    now_oil_price = prices.popleft()\n",
    "    min_oil_price = min(min_oil_price, now_oil_price)\n",
    "    answer += length * min_oil_price\n",
    "\n",
    "answer"
   ]
  }
 ],
 "metadata": {
  "kernelspec": {
   "display_name": "Python 3",
   "language": "python",
   "name": "python3"
  },
  "language_info": {
   "codemirror_mode": {
    "name": "ipython",
    "version": 3
   },
   "file_extension": ".py",
   "mimetype": "text/x-python",
   "name": "python",
   "nbconvert_exporter": "python",
   "pygments_lexer": "ipython3",
   "version": "3.8.5"
  }
 },
 "nbformat": 4,
 "nbformat_minor": 4
}
