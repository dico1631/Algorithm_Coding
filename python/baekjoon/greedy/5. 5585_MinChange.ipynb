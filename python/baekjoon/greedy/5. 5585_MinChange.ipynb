{
 "cells": [
  {
   "cell_type": "code",
   "execution_count": 4,
   "metadata": {},
   "outputs": [
    {
     "name": "stdout",
     "output_type": "stream",
     "text": [
      "380\n",
      "4\n"
     ]
    }
   ],
   "source": [
    "price = int(input())\n",
    "coins = [500, 100, 50, 10, 5, 1]\n",
    "change = 1000 - price\n",
    "\n",
    "count = 0\n",
    "for i in coins:\n",
    "    count += change//i\n",
    "    change = change%i\n",
    "print(count)"
   ]
  }
 ],
 "metadata": {
  "kernelspec": {
   "display_name": "Python 3",
   "language": "python",
   "name": "python3"
  },
  "language_info": {
   "codemirror_mode": {
    "name": "ipython",
    "version": 3
   },
   "file_extension": ".py",
   "mimetype": "text/x-python",
   "name": "python",
   "nbconvert_exporter": "python",
   "pygments_lexer": "ipython3",
   "version": "3.7.6"
  }
 },
 "nbformat": 4,
 "nbformat_minor": 4
}
