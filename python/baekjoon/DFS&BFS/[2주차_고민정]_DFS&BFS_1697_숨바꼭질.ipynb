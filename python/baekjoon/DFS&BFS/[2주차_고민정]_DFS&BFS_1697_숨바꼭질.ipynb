{
 "cells": [
  {
   "cell_type": "code",
   "execution_count": 3,
   "metadata": {},
   "outputs": [
    {
     "name": "stdout",
     "output_type": "stream",
     "text": [
      "10 1\n"
     ]
    }
   ],
   "source": [
    "def dfs(subin, sister, pre_subin, answer):\n",
    "    if subin == sister:\n",
    "        return answer\n",
    "    if subin > sister:\n",
    "        \n",
    "    dfs(subin+1, sister, subin, answer+1)\n",
    "    dfs(subin-1, sister, subin, answer+1)   \n",
    "    dfs(subin*2, sister, subin, answer+1)\n",
    "    \n",
    "    \n",
    "subin = 5\n",
    "sister = 17\n",
    "answer = 0\n",
    "\n",
    "while subin * 2 <= sister:\n",
    "    subin *= 2\n",
    "    answer += 1\n",
    "        \n",
    "print(subin, answer)\n",
    "answer = dfs(subin, sister, 0, 0)\n",
    "# answer"
   ]
  }
 ],
 "metadata": {
  "kernelspec": {
   "display_name": "Python 3",
   "language": "python",
   "name": "python3"
  },
  "language_info": {
   "codemirror_mode": {
    "name": "ipython",
    "version": 3
   },
   "file_extension": ".py",
   "mimetype": "text/x-python",
   "name": "python",
   "nbconvert_exporter": "python",
   "pygments_lexer": "ipython3",
   "version": "3.8.5"
  }
 },
 "nbformat": 4,
 "nbformat_minor": 4
}
