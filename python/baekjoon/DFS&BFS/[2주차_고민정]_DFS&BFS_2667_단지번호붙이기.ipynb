{
 "cells": [
  {
   "cell_type": "code",
   "execution_count": null,
   "metadata": {
    "scrolled": true
   },
   "outputs": [],
   "source": [
    "n = int(input())\n",
    "maps = list(list(map(int, input())) for i in range(n))\n",
    "\n",
    "from collections import deque\n",
    "\n",
    "def bfs(graph, visited, n, i, j, dx, dy, seq):\n",
    "    que = deque([(i, j)])\n",
    "    visited[i][j] = True\n",
    "    graph[i][j] = seq\n",
    "    \n",
    "    while que:\n",
    "        v = que.popleft()\n",
    "        i = v[0]\n",
    "        j = v[1]\n",
    "        \n",
    "        for p in range(len(dx)):\n",
    "            ni = i + dx[p]\n",
    "            nj = j + dy[p]\n",
    "            if 0 <= ni < n and 0 <= nj < n:\n",
    "                if graph[ni][nj] == 1 and not visited[ni][nj]:\n",
    "                    visited[ni][nj] = True\n",
    "                    que.append((ni, nj))\n",
    "                    graph[ni][nj] = seq\n",
    "visited = [[False] * n for i in range(n)]\n",
    "dx = [-1, 1, 0, 0]\n",
    "dy = [0, 0, -1, 1]\n",
    "seq = 0\n",
    "\n",
    "for row in range(n):\n",
    "    for nd in range(n):\n",
    "        if maps[row][nd] == 1 and not visited[row][nd]:\n",
    "            seq += 1\n",
    "            bfs(maps, visited, n, row, nd, dx, dy, seq)\n",
    "\n",
    "print(seq)\n",
    "count_house = 0\n",
    "result = list()\n",
    "for s in range(1, seq+1):\n",
    "    for t in maps:\n",
    "        count_house += t.count(s)\n",
    "    result.append(count_house)\n",
    "    count_house = 0\n",
    "\n",
    "result.sort()       \n",
    "for c in result:\n",
    "    print(c) "
   ]
  }
 ],
 "metadata": {
  "kernelspec": {
   "display_name": "Python 3",
   "language": "python",
   "name": "python3"
  },
  "language_info": {
   "codemirror_mode": {
    "name": "ipython",
    "version": 3
   },
   "file_extension": ".py",
   "mimetype": "text/x-python",
   "name": "python",
   "nbconvert_exporter": "python",
   "pygments_lexer": "ipython3",
   "version": "3.8.5"
  }
 },
 "nbformat": 4,
 "nbformat_minor": 4
}
