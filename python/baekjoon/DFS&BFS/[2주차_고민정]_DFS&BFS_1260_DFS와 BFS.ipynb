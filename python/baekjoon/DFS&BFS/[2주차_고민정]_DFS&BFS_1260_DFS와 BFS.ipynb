{
 "cells": [
  {
   "cell_type": "code",
   "execution_count": null,
   "metadata": {},
   "outputs": [],
   "source": [
    "from collections import deque\n",
    "\n",
    "def dfs(graph, visited, start):\n",
    "    visited[start] = True\n",
    "    print(start, end = \" \")\n",
    "    \n",
    "    for node in graph[start]:\n",
    "        if not visited[node]:\n",
    "            dfs(graph, visited, node)\n",
    "            \n",
    "def bfs(graph, visited, start):\n",
    "    que = deque()\n",
    "    que.append(start)\n",
    "    visited[start] = True\n",
    "    \n",
    "    while que:\n",
    "        now = que.popleft()\n",
    "        print(now, end = \" \")\n",
    "        for node in graph[now]:\n",
    "            if not visited[node]:\n",
    "                que.append(node)\n",
    "                visited[node] = True\n",
    "\n",
    "n, m, v = map(int, input().split())\n",
    "graph = [[] for _ in range(n+1)]\n",
    "\n",
    "for _ in range(m):\n",
    "    start, target = map(int, input().split())\n",
    "    graph[start].append(target)\n",
    "    graph[target].append(start)\n",
    "graph = list(map(lambda node: sorted(node), graph))\n",
    "    \n",
    "dfs(graph, [False] * (n+1), v)\n",
    "print()\n",
    "bfs(graph, [False] * (n+1), v)   "
   ]
  }
 ],
 "metadata": {
  "kernelspec": {
   "display_name": "Python 3",
   "language": "python",
   "name": "python3"
  },
  "language_info": {
   "codemirror_mode": {
    "name": "ipython",
    "version": 3
   },
   "file_extension": ".py",
   "mimetype": "text/x-python",
   "name": "python",
   "nbconvert_exporter": "python",
   "pygments_lexer": "ipython3",
   "version": "3.8.5"
  }
 },
 "nbformat": 4,
 "nbformat_minor": 4
}
