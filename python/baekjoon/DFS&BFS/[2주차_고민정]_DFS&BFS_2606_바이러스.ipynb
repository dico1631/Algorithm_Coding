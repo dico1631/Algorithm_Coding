{
 "cells": [
  {
   "cell_type": "code",
   "execution_count": null,
   "metadata": {},
   "outputs": [],
   "source": [
    "from collections import deque\n",
    "\n",
    "def bfs(graph, visited, start):\n",
    "    que = deque()\n",
    "    que.append(start)\n",
    "    visited[start] = True\n",
    "    answer = 0\n",
    "    \n",
    "    while que:\n",
    "        now = que.popleft()\n",
    "        for node in graph[now]:\n",
    "            if not visited[node]:\n",
    "                que.append(node)\n",
    "                visited[node] = True\n",
    "                answer += 1\n",
    "    return answer\n",
    "\n",
    "len_node = int(input())\n",
    "len_edge = int(input())\n",
    "graph = [[] for _ in range(len_node + 1)]\n",
    "visited = [False] * (len_node + 1)\n",
    "\n",
    "for _ in range(len_edge):\n",
    "    start, target = map(int, input().split())\n",
    "    graph[start].append(target)\n",
    "    graph[target].append(start)\n",
    "    \n",
    "print(bfs(graph, visited, 1))"
   ]
  }
 ],
 "metadata": {
  "kernelspec": {
   "display_name": "Python 3",
   "language": "python",
   "name": "python3"
  },
  "language_info": {
   "codemirror_mode": {
    "name": "ipython",
    "version": 3
   },
   "file_extension": ".py",
   "mimetype": "text/x-python",
   "name": "python",
   "nbconvert_exporter": "python",
   "pygments_lexer": "ipython3",
   "version": "3.8.5"
  }
 },
 "nbformat": 4,
 "nbformat_minor": 4
}
