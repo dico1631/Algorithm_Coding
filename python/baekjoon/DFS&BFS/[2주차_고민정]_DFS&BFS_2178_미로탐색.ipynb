{
 "cells": [
  {
   "cell_type": "code",
   "execution_count": null,
   "metadata": {
    "scrolled": true
   },
   "outputs": [],
   "source": [
    "from collections import deque\n",
    "\n",
    "n, m = map(int, input().split())\n",
    "maze = list(list(map(int, input())) for i in range(n))\n",
    "\n",
    "def bfs(graph, visited, i, j, dx, dy, n, m):\n",
    "    que = deque([(i, j)])\n",
    "    visited[i][j] = True\n",
    "    \n",
    "    while que:\n",
    "        v = que.popleft()\n",
    "        pre_y = i = v[0]\n",
    "        pre_x = j = v[1]\n",
    "        \n",
    "        for p in range(len(dx)):\n",
    "            y = i + dy[p]\n",
    "            x = j + dx[p]\n",
    "\n",
    "            if 0 <= x < m and 0 <= y < n:\n",
    "                if graph[y][x] == 1 and not visited[y][x]:\n",
    "                    visited[y][x] = True\n",
    "                    graph[y][x] = graph[pre_y][pre_x] + 1\n",
    "                    que.append((y, x))\n",
    "                    \n",
    "visited = [[False] * m for i in range(n)]\n",
    "# 상하좌우\n",
    "dy = [-1, 1, 0, 0]\n",
    "dx = [0, 0, -1, 1]\n",
    "bfs(maze, visited, 0, 0, dx, dy, n, m)\n",
    "print(maze[n-1][m-1])"
   ]
  }
 ],
 "metadata": {
  "kernelspec": {
   "display_name": "Python 3",
   "language": "python",
   "name": "python3"
  },
  "language_info": {
   "codemirror_mode": {
    "name": "ipython",
    "version": 3
   },
   "file_extension": ".py",
   "mimetype": "text/x-python",
   "name": "python",
   "nbconvert_exporter": "python",
   "pygments_lexer": "ipython3",
   "version": "3.8.5"
  }
 },
 "nbformat": 4,
 "nbformat_minor": 4
}
