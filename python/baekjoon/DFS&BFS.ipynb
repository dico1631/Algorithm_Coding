{
 "cells": [
  {
   "cell_type": "code",
   "execution_count": 33,
   "metadata": {},
   "outputs": [
    {
     "name": "stdout",
     "output_type": "stream",
     "text": [
      "3\n",
      "[[1, 0, 1], [1, 0, 1], [0, 1, 0]]\n",
      "[[1, 0, 1], [1, 0, 1], [0, 1, 0]]\n"
     ]
    }
   ],
   "source": [
    "from copy import deepcopy\n",
    "n = int(input())\n",
    "data = list(list(map(int, input())) for i in range(n))\n",
    "maps = deepcopy(data)\n",
    "print(n)\n",
    "print(data)\n",
    "print(maps)"
   ]
  },
  {
   "cell_type": "code",
   "execution_count": 34,
   "metadata": {},
   "outputs": [],
   "source": [
    "from collections import deque\n",
    "\n",
    "def bfs(graph, visited, n, i, j, dx, dy, seq):\n",
    "    que = deque([(i, j)])\n",
    "    visited[i][j] = True\n",
    "    graph[i][j] = seq\n",
    "    \n",
    "    while que:\n",
    "        v = que.popleft()\n",
    "        i = v[0]\n",
    "        j = v[1]\n",
    "        \n",
    "        for p in range(len(dx)):\n",
    "            ni = i + dx[p]\n",
    "            nj = j + dy[p]\n",
    "            if 0 <= ni < n and 0 <= nj < n:\n",
    "                if graph[ni][nj] == 1 and not visited[ni][nj]:\n",
    "                    visited[ni][nj] = True\n",
    "                    que.append((ni, nj))\n",
    "                    graph[ni][nj] = seq"
   ]
  },
  {
   "cell_type": "code",
   "execution_count": 35,
   "metadata": {},
   "outputs": [
    {
     "name": "stdout",
     "output_type": "stream",
     "text": [
      "3\n",
      "2\n",
      "2\n",
      "1\n"
     ]
    }
   ],
   "source": [
    "visited = [[False] * n for i in range(n)]\n",
    "dx = [-1, 1, 0, 0]\n",
    "dy = [0, 0, -1, 1]\n",
    "seq = 0\n",
    "\n",
    "for row in range(n):\n",
    "    for nd in range(n):\n",
    "        if maps[row][nd] == 1 and not visited[row][nd]:\n",
    "            seq += 1\n",
    "            bfs(maps, visited, n, row, nd, dx, dy, seq)\n",
    "\n",
    "print(seq)\n",
    "count_house = 0\n",
    "for s in range(1, seq+1):\n",
    "    for t in maps:\n",
    "        count_house += t.count(s)\n",
    "    print(count_house)\n",
    "    count_house = 0"
   ]
  },
  {
   "cell_type": "code",
   "execution_count": 36,
   "metadata": {
    "scrolled": true
   },
   "outputs": [
    {
     "data": {
      "text/plain": [
       "[[1, 0, 2], [1, 0, 2], [0, 3, 0]]"
      ]
     },
     "execution_count": 36,
     "metadata": {},
     "output_type": "execute_result"
    }
   ],
   "source": [
    "maps"
   ]
  },
  {
   "cell_type": "code",
   "execution_count": 12,
   "metadata": {},
   "outputs": [
    {
     "name": "stdout",
     "output_type": "stream",
     "text": [
      "5\n",
      "10101\n",
      "00000\n",
      "10101\n",
      "10101\n",
      "01010\n",
      "8\n",
      "1\n",
      "1\n",
      "1\n",
      "1\n",
      "1\n",
      "2\n",
      "2\n",
      "2\n"
     ]
    }
   ],
   "source": [
    "n = int(input())\n",
    "maps = list(list(map(int, input())) for i in range(n))\n",
    "\n",
    "from collections import deque\n",
    "\n",
    "def bfs(graph, visited, n, i, j, dx, dy, seq):\n",
    "    que = deque([(i, j)])\n",
    "    visited[i][j] = True\n",
    "    graph[i][j] = seq\n",
    "    \n",
    "    while que:\n",
    "        v = que.popleft()\n",
    "        i = v[0]\n",
    "        j = v[1]\n",
    "        \n",
    "        for p in range(len(dx)):\n",
    "            ni = i + dx[p]\n",
    "            nj = j + dy[p]\n",
    "            if 0 <= ni < n and 0 <= nj < n:\n",
    "                if graph[ni][nj] == 1 and not visited[ni][nj]:\n",
    "                    visited[ni][nj] = True\n",
    "                    que.append((ni, nj))\n",
    "                    graph[ni][nj] = seq\n",
    "visited = [[False] * n for i in range(n)]\n",
    "dx = [-1, 1, 0, 0]\n",
    "dy = [0, 0, -1, 1]\n",
    "seq = 0\n",
    "\n",
    "for row in range(n):\n",
    "    for nd in range(n):\n",
    "        if maps[row][nd] == 1 and not visited[row][nd]:\n",
    "            seq += 1\n",
    "            bfs(maps, visited, n, row, nd, dx, dy, seq)\n",
    "\n",
    "print(seq)\n",
    "count_house = 0\n",
    "result = list()\n",
    "for s in range(1, seq+1):\n",
    "    for t in maps:\n",
    "        count_house += t.count(s)\n",
    "    result.append(count_house)\n",
    "    count_house = 0\n",
    "\n",
    "result.sort()       \n",
    "for c in result:\n",
    "    print(c)"
   ]
  },
  {
   "cell_type": "code",
   "execution_count": null,
   "metadata": {},
   "outputs": [],
   "source": []
  }
 ],
 "metadata": {
  "kernelspec": {
   "display_name": "Python 3",
   "language": "python",
   "name": "python3"
  },
  "language_info": {
   "codemirror_mode": {
    "name": "ipython",
    "version": 3
   },
   "file_extension": ".py",
   "mimetype": "text/x-python",
   "name": "python",
   "nbconvert_exporter": "python",
   "pygments_lexer": "ipython3",
   "version": "3.7.6"
  }
 },
 "nbformat": 4,
 "nbformat_minor": 4
}
