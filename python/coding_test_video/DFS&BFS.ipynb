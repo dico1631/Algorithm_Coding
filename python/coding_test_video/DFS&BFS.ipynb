{
 "cells": [
  {
   "cell_type": "markdown",
   "metadata": {},
   "source": [
    "# DFS : 깊이 우선 탐색\n",
    "\n",
    "- 탐색 순서 (우선순위 : 숫자가 낮은 노드부터)\n",
    "    1. 시작 노드를 설정한다.\n",
    "    2. 시작 노드를 방문 처리 후, 스택에 넣는다.\n",
    "    3. 인접 노드 중 방문하지 않은 노드 하나를 스택에 넣고, 방문처리 한다.\n",
    "    4. 인접 노드 중 방문하지 않은 노드가 없을 때 까지 3을 반복한다.\n",
    "    5. 인접 노드 중 방문하지 않은 노드가 없을 경우 스택에 있는 노드를 하나 pop 한 후 3을 다시 확인한다.\n",
    "    6. 스택에 노드가 없을 때까지 탐색을 진행한다."
   ]
  },
  {
   "cell_type": "code",
   "execution_count": 1,
   "metadata": {},
   "outputs": [],
   "source": [
    "graph = [\n",
    "    [],\n",
    "    [2,3,8],\n",
    "    [1,7],\n",
    "    [1,4,5],\n",
    "    [3,5],\n",
    "    [3, 4],\n",
    "    [7],\n",
    "    [2,6,8],\n",
    "    [1,7]\n",
    "]"
   ]
  },
  {
   "cell_type": "code",
   "execution_count": 2,
   "metadata": {},
   "outputs": [],
   "source": [
    "visited = [False] * len(graph)"
   ]
  },
  {
   "cell_type": "code",
   "execution_count": 3,
   "metadata": {},
   "outputs": [],
   "source": [
    "def dfs(graph, visited, v):\n",
    "    visited[v] = True\n",
    "    print(v, end=\" \")\n",
    "    \n",
    "    for i in graph[v]:\n",
    "        if not visited[i]:\n",
    "            dfs(graph, visited, i)"
   ]
  },
  {
   "cell_type": "code",
   "execution_count": 4,
   "metadata": {},
   "outputs": [
    {
     "name": "stdout",
     "output_type": "stream",
     "text": [
      "1 2 7 6 8 3 4 5 "
     ]
    }
   ],
   "source": [
    "dfs(graph, visited, 1)"
   ]
  },
  {
   "cell_type": "markdown",
   "metadata": {},
   "source": [
    "# BFS : 너비 우선 탐색\n",
    "- 탐색 순서 (우선순위 : 숫자가 낮은 노드부터)\n",
    " 1. 시작 노드를 설정한다.\n",
    " 2. 시작 노드를 방문처리 후, 큐에 넣는다.\n",
    " 3. 큐에서 1개를 빼서 인접한 노드 중 방문처리가 되지 않은 노드를 전부 큐에 넣고, 방문처리 한다.\n",
    " 4. 인접 노드 중 방문처리가 되지 않은 노드가 없을 경우, 무시한다.\n",
    " 5. 3, 4를 큐에 노드가 없을 때까지 반복한다."
   ]
  },
  {
   "cell_type": "code",
   "execution_count": 5,
   "metadata": {},
   "outputs": [],
   "source": [
    "graph = [\n",
    "    [],\n",
    "    [2,3,8],\n",
    "    [1,7],\n",
    "    [1,4,5],\n",
    "    [3,5],\n",
    "    [3, 4],\n",
    "    [7],\n",
    "    [2,6,8],\n",
    "    [1,7]\n",
    "]"
   ]
  },
  {
   "cell_type": "code",
   "execution_count": 6,
   "metadata": {},
   "outputs": [],
   "source": [
    "visited = [False] * 9"
   ]
  },
  {
   "cell_type": "code",
   "execution_count": 7,
   "metadata": {},
   "outputs": [],
   "source": [
    "from collections import deque\n",
    "\n",
    "def bfs(graph, visited, v):\n",
    "    que = deque()\n",
    "    que.append(v)\n",
    "    visited[v] = True\n",
    "    \n",
    "    while que:\n",
    "        v = que.popleft()\n",
    "        print(v, end=\" \")\n",
    "        for i in graph[v]:\n",
    "            if not visited[i]:\n",
    "                que.append(i)\n",
    "                visited[i] = True"
   ]
  },
  {
   "cell_type": "code",
   "execution_count": 8,
   "metadata": {},
   "outputs": [
    {
     "name": "stdout",
     "output_type": "stream",
     "text": [
      "1 2 3 8 7 4 5 6 "
     ]
    }
   ],
   "source": [
    "bfs(graph, visited, 1)"
   ]
  },
  {
   "cell_type": "markdown",
   "metadata": {},
   "source": [
    "# 문제 풀이"
   ]
  },
  {
   "cell_type": "markdown",
   "metadata": {},
   "source": [
    "## 1. 음료수 얼려먹기\n",
    "- 0이면 뚫린 것, 1이면 벽으로 막힌 것\n",
    "- 0끼리 이어진 묶음이 몇 개인가를 출력하는 문제"
   ]
  },
  {
   "cell_type": "code",
   "execution_count": 9,
   "metadata": {},
   "outputs": [
    {
     "name": "stdout",
     "output_type": "stream",
     "text": [
      "3 3\n",
      "001\n",
      "010\n",
      "101\n"
     ]
    }
   ],
   "source": [
    "# 입력 받기\n",
    "n, m = map(int, input().split())\n",
    "box = list(list(map(int, input())) for i in range(n))"
   ]
  },
  {
   "cell_type": "code",
   "execution_count": 10,
   "metadata": {},
   "outputs": [],
   "source": [
    "from collections import deque\n",
    "\n",
    "def bsf(dx, dy, box, visited, i, j, n, m):\n",
    "    que = deque([(i,j)])\n",
    "    visited[i][j] = True\n",
    "    \n",
    "    while que:\n",
    "        v = que.popleft()\n",
    "        i = v[0]\n",
    "        j = v[1]\n",
    "        for p in range(4):\n",
    "            y = i+dy[p]\n",
    "            x = j+dx[p]\n",
    "            if 0 <= x < m and 0 <= y < n:\n",
    "                if box[y][x] == 0 and not visited[y][x]:\n",
    "                    que.append((y,x))\n",
    "                    visited[y][x] = True"
   ]
  },
  {
   "cell_type": "code",
   "execution_count": 11,
   "metadata": {},
   "outputs": [
    {
     "name": "stdout",
     "output_type": "stream",
     "text": [
      "3\n"
     ]
    }
   ],
   "source": [
    "count = 0\n",
    "visited = [[False]*m for i in range(n)]\n",
    "dx = [0, 0, -1, 1]\n",
    "dy = [-1, 1, 0, 0]\n",
    "\n",
    "for row in range(n):\n",
    "    for node in range(m):\n",
    "        if box[row][node] == 0 and not visited[row][node]:\n",
    "            count += 1\n",
    "            bsf(dx, dy, box, visited, row, node, n, m)\n",
    "print(count)"
   ]
  },
  {
   "cell_type": "markdown",
   "metadata": {},
   "source": [
    "## 2. 미로 탈출"
   ]
  },
  {
   "cell_type": "code",
   "execution_count": 94,
   "metadata": {},
   "outputs": [
    {
     "name": "stdout",
     "output_type": "stream",
     "text": [
      "3 3\n",
      "101\n",
      "111\n",
      "001\n",
      "3 3\n",
      "[[1, 0, 1], [1, 1, 1], [0, 0, 1]]\n",
      "[[1, 0, 1], [1, 1, 1], [0, 0, 1]]\n"
     ]
    }
   ],
   "source": [
    "from copy import deepcopy\n",
    "n, m = map(int, input().split())\n",
    "maze_ori = list(list(map(int, input())) for i in range(n))\n",
    "maze = deepcopy(maze_ori)\n",
    "print(n, m)\n",
    "print(maze)\n",
    "print(maze_ori)"
   ]
  },
  {
   "cell_type": "code",
   "execution_count": 95,
   "metadata": {},
   "outputs": [],
   "source": [
    "from collections import deque\n",
    "\n",
    "def bfs(graph, visited, i, j, dx, dy, n, m):\n",
    "    que = deque([(i, j)])\n",
    "    visited[i][j] = True\n",
    "    \n",
    "    while que:\n",
    "        print(que)\n",
    "        v = que.popleft()\n",
    "        pre_y = i = v[0]\n",
    "        pre_x = j = v[1]\n",
    "        \n",
    "        for p in range(len(dx)):\n",
    "            y = i + dy[p]\n",
    "            x = j + dx[p]\n",
    "            \n",
    "            print(f\"이전: {i},{j}, 벡터: {dy[p]},{dx[p]}, 이후: {y},{x}\")\n",
    "            if 0 <= x < m and 0 <= y < n:\n",
    "                print(f\"전 y,x:{pre_y},{pre_x} / 후 y,x:{y},{x}\")\n",
    "                if graph[y][x] == 1 and not visited[y][x]:\n",
    "                    visited[y][x] = True\n",
    "                    print(f\"{graph[y][x]} > {graph[pre_y][pre_x] + 1}\")\n",
    "                    graph[y][x] = graph[pre_y][pre_x] + 1\n",
    "                    print(graph[y][x])\n",
    "                    que.append((y, x))"
   ]
  },
  {
   "cell_type": "code",
   "execution_count": 96,
   "metadata": {},
   "outputs": [
    {
     "name": "stdout",
     "output_type": "stream",
     "text": [
      "deque([(0, 0)])\n",
      "이전: 0,0, 벡터: -1,0, 이후: -1,0\n",
      "이전: 0,0, 벡터: 1,0, 이후: 1,0\n",
      "전 y,x:0,0 / 후 y,x:1,0\n",
      "1 > 2\n",
      "2\n",
      "이전: 0,0, 벡터: 0,-1, 이후: 0,-1\n",
      "이전: 0,0, 벡터: 0,1, 이후: 0,1\n",
      "전 y,x:0,0 / 후 y,x:0,1\n",
      "deque([(1, 0)])\n",
      "이전: 1,0, 벡터: -1,0, 이후: 0,0\n",
      "전 y,x:1,0 / 후 y,x:0,0\n",
      "이전: 1,0, 벡터: 1,0, 이후: 2,0\n",
      "전 y,x:1,0 / 후 y,x:2,0\n",
      "이전: 1,0, 벡터: 0,-1, 이후: 1,-1\n",
      "이전: 1,0, 벡터: 0,1, 이후: 1,1\n",
      "전 y,x:1,0 / 후 y,x:1,1\n",
      "1 > 3\n",
      "3\n",
      "deque([(1, 1)])\n",
      "이전: 1,1, 벡터: -1,0, 이후: 0,1\n",
      "전 y,x:1,1 / 후 y,x:0,1\n",
      "이전: 1,1, 벡터: 1,0, 이후: 2,1\n",
      "전 y,x:1,1 / 후 y,x:2,1\n",
      "이전: 1,1, 벡터: 0,-1, 이후: 1,0\n",
      "전 y,x:1,1 / 후 y,x:1,0\n",
      "이전: 1,1, 벡터: 0,1, 이후: 1,2\n",
      "전 y,x:1,1 / 후 y,x:1,2\n",
      "1 > 4\n",
      "4\n",
      "deque([(1, 2)])\n",
      "이전: 1,2, 벡터: -1,0, 이후: 0,2\n",
      "전 y,x:1,2 / 후 y,x:0,2\n",
      "1 > 5\n",
      "5\n",
      "이전: 1,2, 벡터: 1,0, 이후: 2,2\n",
      "전 y,x:1,2 / 후 y,x:2,2\n",
      "1 > 5\n",
      "5\n",
      "이전: 1,2, 벡터: 0,-1, 이후: 1,1\n",
      "전 y,x:1,2 / 후 y,x:1,1\n",
      "이전: 1,2, 벡터: 0,1, 이후: 1,3\n",
      "deque([(0, 2), (2, 2)])\n",
      "이전: 0,2, 벡터: -1,0, 이후: -1,2\n",
      "이전: 0,2, 벡터: 1,0, 이후: 1,2\n",
      "전 y,x:0,2 / 후 y,x:1,2\n",
      "이전: 0,2, 벡터: 0,-1, 이후: 0,1\n",
      "전 y,x:0,2 / 후 y,x:0,1\n",
      "이전: 0,2, 벡터: 0,1, 이후: 0,3\n",
      "deque([(2, 2)])\n",
      "이전: 2,2, 벡터: -1,0, 이후: 1,2\n",
      "전 y,x:2,2 / 후 y,x:1,2\n",
      "이전: 2,2, 벡터: 1,0, 이후: 3,2\n",
      "이전: 2,2, 벡터: 0,-1, 이후: 2,1\n",
      "전 y,x:2,2 / 후 y,x:2,1\n",
      "이전: 2,2, 벡터: 0,1, 이후: 2,3\n",
      "5\n"
     ]
    }
   ],
   "source": [
    "visited = [[False] * m for i in range(n)]\n",
    "\n",
    "# 상하좌우\n",
    "dy = [-1, 1, 0, 0] # idx[0] = i\n",
    "dx = [0, 0, -1, 1] # idx[1] = j\n",
    "\n",
    "bfs(maze, visited, 0, 0, dx, dy, n, m)\n",
    "print(maze[n-1][m-1])"
   ]
  }
 ],
 "metadata": {
  "kernelspec": {
   "display_name": "Python 3",
   "language": "python",
   "name": "python3"
  },
  "language_info": {
   "codemirror_mode": {
    "name": "ipython",
    "version": 3
   },
   "file_extension": ".py",
   "mimetype": "text/x-python",
   "name": "python",
   "nbconvert_exporter": "python",
   "pygments_lexer": "ipython3",
   "version": "3.7.6"
  }
 },
 "nbformat": 4,
 "nbformat_minor": 4
}
