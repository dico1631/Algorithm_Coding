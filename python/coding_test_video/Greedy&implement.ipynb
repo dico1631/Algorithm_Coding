{
 "cells": [
  {
   "cell_type": "markdown",
   "metadata": {},
   "source": [
    "- 그리디 알고리즘"
   ]
  },
  {
   "cell_type": "code",
   "execution_count": 5,
   "metadata": {},
   "outputs": [
    {
     "name": "stdout",
     "output_type": "stream",
     "text": [
      "02984\n"
     ]
    },
    {
     "data": {
      "text/plain": [
       "576"
      ]
     },
     "execution_count": 5,
     "metadata": {},
     "output_type": "execute_result"
    }
   ],
   "source": [
    "num_str = input()\n",
    "num_list = list(map(int, list(num_str)))\n",
    "result = num_list[0]\n",
    "for n in num_list[1:]:\n",
    "    result = max(result+n, result*n)\n",
    "result"
   ]
  },
  {
   "cell_type": "code",
   "execution_count": 16,
   "metadata": {},
   "outputs": [
    {
     "name": "stdout",
     "output_type": "stream",
     "text": [
      "2\n",
      "1 1\n"
     ]
    },
    {
     "data": {
      "text/plain": [
       "2"
      ]
     },
     "execution_count": 16,
     "metadata": {},
     "output_type": "execute_result"
    }
   ],
   "source": [
    "n = int(input())\n",
    "afraid = list(map(int, input().split()))\n",
    "\n",
    "\n",
    "afraid = sorted(afraid)\n",
    "answer = 0\n",
    "num_group = 0\n",
    "for i in afraid:\n",
    "    num_group += 1\n",
    "    if i <= num_group:\n",
    "        answer += 1\n",
    "        num_group = 0\n",
    "answer"
   ]
  },
  {
   "cell_type": "markdown",
   "metadata": {},
   "source": [
    "- 구현문제"
   ]
  },
  {
   "cell_type": "code",
   "execution_count": 22,
   "metadata": {
    "scrolled": true
   },
   "outputs": [
    {
     "name": "stdout",
     "output_type": "stream",
     "text": [
      "5\n",
      "RRRUDD\n"
     ]
    },
    {
     "data": {
      "text/plain": [
       "[3, 4]"
      ]
     },
     "execution_count": 22,
     "metadata": {},
     "output_type": "execute_result"
    }
   ],
   "source": [
    "n = int(input())\n",
    "move = input()\n",
    "\n",
    "dy = [-1, 1, 0, 0]\n",
    "dx = [0, 0, -1, 1]\n",
    "move_type = [\"L\", \"R\", \"U\", \"D\"]\n",
    "location = [1, 1]\n",
    "for m in move:\n",
    "    for i in range(len(move_type)):\n",
    "        if m == move_type[i]:\n",
    "            x = location[0] + dx[i]\n",
    "            y = location[1] + dy[i]\n",
    "    if 0 < x <= n and 0 < y <= n:\n",
    "        location[0] = x\n",
    "        location[1] = y\n",
    "location"
   ]
  },
  {
   "cell_type": "markdown",
   "metadata": {},
   "source": [
    "- 완전탐색 문제"
   ]
  },
  {
   "cell_type": "code",
   "execution_count": 2,
   "metadata": {},
   "outputs": [
    {
     "name": "stdout",
     "output_type": "stream",
     "text": [
      "1\n"
     ]
    },
    {
     "data": {
      "text/plain": [
       "5790"
      ]
     },
     "execution_count": 2,
     "metadata": {},
     "output_type": "execute_result"
    }
   ],
   "source": [
    "n = int(input())\n",
    "\n",
    "answer = 0\n",
    "time = 0\n",
    "while time <= n*10000 + 5959:\n",
    "    time += 1\n",
    "    if \"3\" in str(time):\n",
    "        answer += 1\n",
    "answer"
   ]
  },
  {
   "cell_type": "code",
   "execution_count": 14,
   "metadata": {},
   "outputs": [
    {
     "name": "stdout",
     "output_type": "stream",
     "text": [
      "a1\n"
     ]
    },
    {
     "data": {
      "text/plain": [
       "2"
      ]
     },
     "execution_count": 14,
     "metadata": {},
     "output_type": "execute_result"
    }
   ],
   "source": [
    "loc = input()\n",
    "\n",
    "\n",
    "location = [ord(loc[0]) - ord('a') + 1, int(loc[1])]\n",
    "move = [(1, 2),(1, -2),(-1, 2),(-1, -2),(2, 1),(-2, 1),(2, -1),(-2, -1)]\n",
    "count = 0\n",
    "for i in move:\n",
    "    moved = list(map(lambda a, b: a+b, location, i))\n",
    "    if 0 < moved[0] <= 8 and 0 < moved[1] <= 8:\n",
    "        count += 1\n",
    "count"
   ]
  },
  {
   "cell_type": "code",
   "execution_count": 30,
   "metadata": {},
   "outputs": [
    {
     "name": "stdout",
     "output_type": "stream",
     "text": [
      "K1KA3\n",
      "K\n",
      "1\n",
      "K\n",
      "A\n",
      "3\n"
     ]
    },
    {
     "data": {
      "text/plain": [
       "'AKK4'"
      ]
     },
     "execution_count": 30,
     "metadata": {},
     "output_type": "execute_result"
    }
   ],
   "source": [
    "data = input()\n",
    "\n",
    "num = 0\n",
    "chars = \"\"\n",
    "answer = \"\"\n",
    "for i in data:\n",
    "    print(i)\n",
    "    if 'A' <= i <= 'Z':\n",
    "        chars += i\n",
    "    else:\n",
    "        num += int(i)\n",
    "answer = ''.join(sorted(chars))+str(num)\n",
    "answer"
   ]
  },
  {
   "cell_type": "code",
   "execution_count": 20,
   "metadata": {},
   "outputs": [
    {
     "data": {
      "text/plain": [
       "'ab'"
      ]
     },
     "execution_count": 20,
     "metadata": {},
     "output_type": "execute_result"
    }
   ],
   "source": [
    "a = ['a','b']\n",
    "''.join(a)"
   ]
  }
 ],
 "metadata": {
  "kernelspec": {
   "display_name": "Python 3",
   "language": "python",
   "name": "python3"
  },
  "language_info": {
   "codemirror_mode": {
    "name": "ipython",
    "version": 3
   },
   "file_extension": ".py",
   "mimetype": "text/x-python",
   "name": "python",
   "nbconvert_exporter": "python",
   "pygments_lexer": "ipython3",
   "version": "3.7.6"
  }
 },
 "nbformat": 4,
 "nbformat_minor": 4
}
