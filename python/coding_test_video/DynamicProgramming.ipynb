{
 "cells": [
  {
   "cell_type": "markdown",
   "metadata": {},
   "source": [
    "# 다이나믹 프로그래밍\n",
    "- 이미 계산된 결과를 메모리에 저장해두고 재활용해서 수행시간을 줄이는 프로그래밍\n",
    "- Top-down / BottomUp (주로 BottomUp 사용하며, 반복문으로 구현)\n",
    "\n",
    "## 사용 조건\n",
    "1. 최적 부분 구조\n",
    "    - 큰 문제를 작은 문제로 나눌 수 있고, 작은 문제의 답을 모아 큰 문제를 해결 가능\n",
    "2. 중복되는 부분 문제\n",
    "    - 동일한 작은 문제를 반복적으로 해결"
   ]
  },
  {
   "cell_type": "markdown",
   "metadata": {},
   "source": [
    "## 예제\n",
    "1. 피보나치 수열 : 배열에 이전 값을 저장\n",
    "    - An = An-1 + An-2 (A1=1, A2=1)"
   ]
  },
  {
   "cell_type": "markdown",
   "metadata": {},
   "source": [
    "## Memoization (Caching)\n",
    "- 한 번 계산한 결과를 저장해두고 사용하는 방법\n",
    "- Top-down 방식\n",
    "- DP 테이블이라고 함"
   ]
  },
  {
   "cell_type": "markdown",
   "metadata": {},
   "source": [
    "# 문제풀이"
   ]
  },
  {
   "cell_type": "markdown",
   "metadata": {},
   "source": [
    "1. 개미 전사"
   ]
  },
  {
   "cell_type": "code",
   "execution_count": 14,
   "metadata": {},
   "outputs": [
    {
     "name": "stdout",
     "output_type": "stream",
     "text": [
      "4\n",
      "1 3 1 5\n"
     ]
    }
   ],
   "source": [
    "n = int(input())\n",
    "storage = list(map(int, input().split()))"
   ]
  },
  {
   "cell_type": "code",
   "execution_count": 16,
   "metadata": {},
   "outputs": [
    {
     "name": "stdout",
     "output_type": "stream",
     "text": [
      "8\n"
     ]
    }
   ],
   "source": [
    "dp = list()\n",
    "for i in range(len(storage)):\n",
    "    if i==0:\n",
    "        dp.append(storage[i])\n",
    "    elif i==1:\n",
    "        dp.append(max(storage[0], storage[i]))\n",
    "    else:\n",
    "        dp.append(max(dp[i-1], dp[i-2]+storage[i]))\n",
    "print(dp[-1])"
   ]
  },
  {
   "cell_type": "markdown",
   "metadata": {},
   "source": [
    "2. 1로 만들기"
   ]
  },
  {
   "cell_type": "code",
   "execution_count": 1,
   "metadata": {},
   "outputs": [
    {
     "name": "stdout",
     "output_type": "stream",
     "text": [
      "26\n"
     ]
    }
   ],
   "source": [
    "n = int(input())"
   ]
  },
  {
   "cell_type": "code",
   "execution_count": 3,
   "metadata": {},
   "outputs": [
    {
     "name": "stdout",
     "output_type": "stream",
     "text": [
      "3\n"
     ]
    }
   ],
   "source": [
    "dp = [0] * 30001 #0~30000까지\n",
    "\n",
    "for i in range(2, n+1):\n",
    "    dp[i] = dp[i-1] + 1\n",
    "    \n",
    "    if i%2 == 0:\n",
    "        dp[i] = min(dp[i], dp[i//2]+1)\n",
    "    if i%3 == 0:\n",
    "        dp[i] = min(dp[i], dp[i//3]+1)\n",
    "    if i%5 == 0:\n",
    "        dp[i] = min(dp[i], dp[i//5]+1)\n",
    "        \n",
    "print(dp[n])"
   ]
  },
  {
   "cell_type": "markdown",
   "metadata": {},
   "source": [
    "3. 효율적인 화폐 구성"
   ]
  },
  {
   "cell_type": "code",
   "execution_count": 18,
   "metadata": {},
   "outputs": [
    {
     "name": "stdout",
     "output_type": "stream",
     "text": [
      "2 15\n",
      "2\n",
      "3\n",
      "[2, 3]\n"
     ]
    }
   ],
   "source": [
    "n, m = map(int, input().split())\n",
    "data = sorted([int(input()) for i in range(n)])\n",
    "print(data)"
   ]
  },
  {
   "cell_type": "code",
   "execution_count": 19,
   "metadata": {
    "scrolled": true
   },
   "outputs": [
    {
     "name": "stdout",
     "output_type": "stream",
     "text": [
      "5\n"
     ]
    }
   ],
   "source": [
    "dp = [10001] * (m+1)\n",
    "dp[0] = 0\n",
    "\n",
    "for k in data:\n",
    "    for i in range(k, m+1):\n",
    "        if dp[i-k] != 10001:\n",
    "            dp[i] = min(dp[i], dp[i-k]+1)\n",
    "\n",
    "if dp[m] == 10001:\n",
    "    dp[m] = -1\n",
    "print(dp[m])"
   ]
  },
  {
   "cell_type": "markdown",
   "metadata": {},
   "source": [
    "4. 금광 문제"
   ]
  },
  {
   "cell_type": "code",
   "execution_count": 29,
   "metadata": {},
   "outputs": [
    {
     "name": "stdout",
     "output_type": "stream",
     "text": [
      "19\n"
     ]
    }
   ],
   "source": [
    "import copy\n",
    "\n",
    "t = int(input())\n",
    "results = list()\n",
    "for k in range(t):\n",
    "    n, m = map(int, input().split())\n",
    "    data = list(map(int, input().split()))\n",
    "    cave = list()\n",
    "    for i in range(n):\n",
    "        cave.append(data[i*m:i*m+4])\n",
    "\n",
    "    dp = copy.deepcopy(cave)\n",
    "\n",
    "    for j in range(1, m):\n",
    "        for i in range(n):\n",
    "            # 왼쪽 위에서 옴\n",
    "            if i==0: left_up=0 # 제일 윗줄\n",
    "            else: left_up=dp[i-1][j-1]\n",
    "            # 왼쪽 아래서 옴\n",
    "            if i==n-1: left_down=0\n",
    "            else: left_down=dp[i+1][j-1]\n",
    "            # 왼쪽에서 옴\n",
    "            left=dp[i][j-1]\n",
    "            dp[i][j] = cave[i][j] + max(left_up, left_down, left)\n",
    "\n",
    "    result = 0\n",
    "    for i in range(n):\n",
    "        result = max(result, dp[i][m-1])\n",
    "    results.append(result)\n",
    "\n",
    "for r in results: \n",
    "    print(r)"
   ]
  },
  {
   "cell_type": "markdown",
   "metadata": {},
   "source": [
    "5. 병사 배치하기"
   ]
  },
  {
   "cell_type": "code",
   "execution_count": 49,
   "metadata": {},
   "outputs": [
    {
     "name": "stdout",
     "output_type": "stream",
     "text": [
      "7\n",
      "15 11 4 8 5 2 4\n",
      "[15, 11, 4, 8, 5, 2, 4]\n"
     ]
    }
   ],
   "source": [
    "n = int(input())\n",
    "data = list(map(int,input().split()))\n",
    "print(data)"
   ]
  },
  {
   "cell_type": "code",
   "execution_count": 54,
   "metadata": {},
   "outputs": [
    {
     "name": "stdout",
     "output_type": "stream",
     "text": [
      "2\n"
     ]
    }
   ],
   "source": [
    "data.reverse()\n",
    "dp = [1] * n\n",
    "for i in range(len(data)):\n",
    "    for j in range(len(data[:i])):\n",
    "        if data[j] < data[i]:\n",
    "            dp[i] = max(dp[i], dp[j]+1)\n",
    "print(len(data) - max(dp))"
   ]
  }
 ],
 "metadata": {
  "kernelspec": {
   "display_name": "Python 3",
   "language": "python",
   "name": "python3"
  },
  "language_info": {
   "codemirror_mode": {
    "name": "ipython",
    "version": 3
   },
   "file_extension": ".py",
   "mimetype": "text/x-python",
   "name": "python",
   "nbconvert_exporter": "python",
   "pygments_lexer": "ipython3",
   "version": "3.7.6"
  }
 },
 "nbformat": 4,
 "nbformat_minor": 4
}
