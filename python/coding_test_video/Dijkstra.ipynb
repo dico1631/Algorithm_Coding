{
 "cells": [
  {
   "cell_type": "markdown",
   "metadata": {},
   "source": [
    "# 다익스트라 알고리즘\n",
    "> 최단경로 알고리즘\n",
    "\n",
    "- 특정 노드에서 다른 모든 노드로 가는 최단 경로의 비용을 출력하는 알고리즘\n",
    "- 사용방법\n",
    "    1. 출발 노드를 설정한다.\n",
    "    2. 최단 경로 테이블을 초기화한다.\n",
    "        - 출발 노드: 0 / 다른 노드: 무한대\n",
    "    3. 최단 경로 테이블을 갱신한다.\n",
    "        - min(cost[start] + cost[start to target], cost[target])\n",
    "    4. 최단 경로 테이블 중 제일 값이 작은 노드로 이동, visited 처리 후 3을 진행한다.\n",
    "    5. 마지막 노드를 방문할 때 까지 3,4를 반복한다.\n",
    "<br><br>\n",
    "\n",
    "- 결과: 출발 노드부터 다른 모든 노드로 가는 최단 경로 비용\n",
    "    - 경로를 알기 위해서는 코드 추가가 필요, but 그 정도 난이도로 문제가 나오지 않음"
   ]
  },
  {
   "cell_type": "code",
   "execution_count": 6,
   "metadata": {
    "scrolled": true
   },
   "outputs": [
    {
     "data": {
      "text/plain": [
       "[[0, 2, 5, 1, 99999, 99999],\n",
       " [99999, 0, 3, 2, 99999, 99999],\n",
       " [99999, 3, 0, 99999, 99999, 5],\n",
       " [99999, 99999, 3, 0, 1, 99999],\n",
       " [99999, 99999, 1, 99999, 0, 2],\n",
       " [99999, 99999, 99999, 99999, 99999, 0]]"
      ]
     },
     "execution_count": 6,
     "metadata": {},
     "output_type": "execute_result"
    }
   ],
   "source": [
    "INF = 99999\n",
    "graph = [\n",
    "    [0, 2, 5, 1, INF, INF],\n",
    "    [INF, 0, 3, 2, INF, INF],\n",
    "    [INF, 3, 0, INF, INF, 5],\n",
    "    [INF, INF, 3, 0, 1, INF],\n",
    "    [INF, INF, 1, INF, 0, 2],\n",
    "    [INF, INF, INF, INF, INF, 0]\n",
    "]\n",
    "graph"
   ]
  },
  {
   "cell_type": "code",
   "execution_count": 20,
   "metadata": {},
   "outputs": [],
   "source": [
    "visited = [False] * len(graph)\n",
    "distance = [INF] * len(graph)\n",
    "n = len(graph)\n",
    "\n",
    "def get_shortest(n):\n",
    "    min_value = INF\n",
    "    idx = 0\n",
    "    for i in range(n):\n",
    "        if not visited[i] and distance[i] < min_value:\n",
    "            min_value = distance[i]\n",
    "            idx = i\n",
    "    return idx\n",
    "\n",
    "def dijkstra(start, n):\n",
    "    distance[start] = 0\n",
    "    visited[start] = True\n",
    "    for idx, node in enumerate(graph[start]):\n",
    "        distance[idx] = node\n",
    "    \n",
    "    for i in range(1, n-1):\n",
    "        print(n-1, i)\n",
    "        now = get_shortest(n)\n",
    "        print(distance, now)\n",
    "        visited[now] = True\n",
    "        for idx, node in enumerate(graph[now]):\n",
    "            distance[idx] = min(distance[idx], distance[now]+node)\n",
    "            \n"
   ]
  },
  {
   "cell_type": "code",
   "execution_count": 21,
   "metadata": {},
   "outputs": [
    {
     "name": "stdout",
     "output_type": "stream",
     "text": [
      "5 1\n",
      "[0, 2, 5, 1, 99999, 99999] 3\n",
      "5 2\n",
      "[0, 2, 4, 1, 2, 99999] 1\n",
      "5 3\n",
      "[0, 2, 4, 1, 2, 99999] 4\n",
      "5 4\n",
      "[0, 2, 3, 1, 2, 4] 2\n"
     ]
    }
   ],
   "source": [
    "dijkstra(0, n)"
   ]
  },
  {
   "cell_type": "code",
   "execution_count": 22,
   "metadata": {
    "scrolled": true
   },
   "outputs": [
    {
     "name": "stdout",
     "output_type": "stream",
     "text": [
      "[True, True, True, True, True, False]\n",
      "[0, 2, 3, 1, 2, 4]\n"
     ]
    }
   ],
   "source": [
    "print(visited)\n",
    "print(distance)"
   ]
  },
  {
   "cell_type": "markdown",
   "metadata": {},
   "source": [
    "## 개선된 다익스트라 알고리즘\n",
    "- 다익스트라 알고리즘에서는 다음 노드 선택 시 순차 탐색을 하여 O(n^2) 시간복잡도가 나온다.\n",
    "- 이를 개선하기 위해 최소 비용을 가진 다음 노드를 선택 시 우선순위 큐를 이용해 O(NlogN)의 시간복잡도를 가지게 만든다.\n",
    "\n",
    "### 우선순위 큐란?\n",
    "- 우선순위가 높은 순으로 pop이 되는 큐이다. 최소힙/최대힙으로 구성되어 O(NlogN) 시간복잡도를 가진다."
   ]
  },
  {
   "cell_type": "code",
   "execution_count": 23,
   "metadata": {},
   "outputs": [
    {
     "name": "stdout",
     "output_type": "stream",
     "text": [
      "[1, 3, 7, 4]\n",
      "1\n",
      "[3, 4, 7]\n"
     ]
    }
   ],
   "source": [
    "# 힙 사용법\n",
    "#default로 최소힙이 구현되어있다. 따라서 오름차순 정렬\n",
    "import heapq \n",
    "\n",
    "heap = []\n",
    "heapq.heappush(heap, 4)\n",
    "heapq.heappush(heap, 1)\n",
    "heapq.heappush(heap, 7)\n",
    "heapq.heappush(heap, 3)\n",
    "print(heap)\n",
    "print(heapq.heappop(heap))\n",
    "print(heap)"
   ]
  },
  {
   "cell_type": "code",
   "execution_count": 24,
   "metadata": {},
   "outputs": [
    {
     "name": "stdout",
     "output_type": "stream",
     "text": [
      "[1, 3, 5, 4, 8, 7]\n"
     ]
    }
   ],
   "source": [
    "# 기존 리스트를 힙으로 변환\n",
    "heap = [4, 1, 7, 3, 8, 5]\n",
    "heapq.heapify(heap)\n",
    "print(heap)"
   ]
  },
  {
   "cell_type": "code",
   "execution_count": 27,
   "metadata": {},
   "outputs": [
    {
     "name": "stdout",
     "output_type": "stream",
     "text": [
      "[(-8, 8), (-7, 7), (-5, 5), (-1, 1), (-3, 3), (-4, 4)]\n",
      "8\n",
      "7\n",
      "5\n",
      "4\n",
      "3\n",
      "1\n"
     ]
    }
   ],
   "source": [
    "# 최대힙(내림차순)은 push 시 -를 붙여서 넣고 pop 한 다음 -를 다시 붙인다.\n",
    "import heapq\n",
    "\n",
    "nums = [4, 1, 7, 3, 8, 5]\n",
    "heap = []\n",
    "\n",
    "for num in nums:\n",
    "    heapq.heappush(heap, (-num, num))  # (우선 순위, 값)\n",
    "print(heap)\n",
    "\n",
    "while heap:\n",
    "    print(heapq.heappop(heap)[1])  # index 1"
   ]
  },
  {
   "cell_type": "markdown",
   "metadata": {},
   "source": [
    "### 개선된 다익스트라 알고리즘"
   ]
  },
  {
   "cell_type": "code",
   "execution_count": 29,
   "metadata": {},
   "outputs": [
    {
     "name": "stdout",
     "output_type": "stream",
     "text": [
      "6 11\n",
      "0\n",
      "1 2 2\n",
      "1 3 5\n",
      "1 4 1\n",
      "2 4 2\n",
      "2 3 3\n",
      "3 2 3\n",
      "3 6 5\n",
      "4 3 3\n",
      "4 5 1\n",
      "5 3 1\n",
      "5 6 2\n"
     ]
    }
   ],
   "source": [
    "import heapq\n",
    "\n",
    "INF = int(1e9)\n",
    "\n",
    "# 노드의 개수, 간선의 개수 입력받기\n",
    "n, m = map(int, input().split())\n",
    "\n",
    "# 시작 노드 번호 입력받기\n",
    "start = int(input())\n",
    "# 각 노드에 연결되어 있는 노드에 대한 정보를 담는 리스트 생성\n",
    "graph = [[] for i in range(n)]\n",
    "# 최단 거리 테이블 초기화\n",
    "distance = [INF]*n\n",
    "# 간선 정보 받기\n",
    "for _ in range(m):\n",
    "    a, b, c = map(int, input().split())\n",
    "    # a번 노드에서 b번 노드로 가는 비용이 c\n",
    "    graph[a].append((b, c))"
   ]
  },
  {
   "cell_type": "code",
   "execution_count": 32,
   "metadata": {},
   "outputs": [
    {
     "name": "stdout",
     "output_type": "stream",
     "text": [
      "0 1 2\n",
      "0 2 5\n",
      "0 3 1\n",
      "1 3 2\n",
      "1 2 3\n",
      "2 1 3\n",
      "2 5 5\n",
      "3 2 3\n",
      "3 4 1\n",
      "4 2 1\n",
      "4 5 2\n"
     ]
    }
   ],
   "source": [
    "for _ in range(m):\n",
    "    a, b, c = map(int, input().split())\n",
    "    # a번 노드에서 b번 노드로 가는 비용이 c\n",
    "    graph[a].append((b, c))"
   ]
  },
  {
   "cell_type": "code",
   "execution_count": 33,
   "metadata": {},
   "outputs": [
    {
     "data": {
      "text/plain": [
       "[[(2, 2), (1, 2), (2, 5), (3, 1)],\n",
       " [(2, 2), (3, 5), (4, 1), (3, 2), (2, 3)],\n",
       " [(4, 2), (3, 3), (1, 3), (5, 5)],\n",
       " [(2, 3), (6, 5), (2, 3), (4, 1)],\n",
       " [(3, 3), (5, 1), (2, 1), (5, 2)],\n",
       " [(3, 1), (6, 2)]]"
      ]
     },
     "execution_count": 33,
     "metadata": {},
     "output_type": "execute_result"
    }
   ],
   "source": [
    "graph"
   ]
  },
  {
   "cell_type": "code",
   "execution_count": 39,
   "metadata": {},
   "outputs": [
    {
     "name": "stdout",
     "output_type": "stream",
     "text": [
      "0로 가는 데에는 0 비용이 든다.\n",
      "1로 가는 데에는 2 비용이 든다.\n",
      "2로 가는 데에는 2 비용이 든다.\n",
      "3로 가는 데에는 1 비용이 든다.\n",
      "4로는 못 간다.\n",
      "5로는 못 간다.\n"
     ]
    }
   ],
   "source": [
    "def dijkstra(start):\n",
    "    q = []\n",
    "    heapq.heappush(q, (0, start))\n",
    "    distance[start] = 0\n",
    "    while q:\n",
    "        dist, now = heapq.heappop(q)\n",
    "        if dist > distance[now]:\n",
    "            continue\n",
    "        for i in graph[now]:\n",
    "            cost = dist+i[1]\n",
    "            if cost < distance[i[0]]:\n",
    "                distance[i[0]] = cost\n",
    "                heapq.heappush(q, (cost, i[0]))\n",
    "                \n",
    "dijkstra(start)\n",
    "\n",
    "for i in range(n):\n",
    "    if distance[i] == INF:\n",
    "        print(f\"{i}로는 못 간다.\")\n",
    "    else:\n",
    "        print(f\"{i}로 가는 데에는 {distance[i]} 비용이 든다.\")"
   ]
  },
  {
   "cell_type": "markdown",
   "metadata": {},
   "source": [
    "# 플로이드 워셜 알고리즘\n",
    "- 모든 노드에서 모든 노드로 가는 최단 경로 비용을 구하는 알고리즘\n",
    "- O(N^2)으로 노드 개수가 적을 때 사용 가능하다.(많으면 다익스트라)\n",
    "<br><br>\n",
    "- 사용방법\n",
    "    1. 이차원 그래프에 간선 정보를 입력한다.\n",
    "    2. 현재 노드 k를 기준으로 그래프의 값과 k를 거쳐가는 방법의 비용 중 더 적은 비용의 값으로 갱신한다. (점화식)\n",
    "    3. 2를 모든 노드 n만큼 반복한다.\n",
    "    <br><br>\n",
    "- 점화식 : Dab = min(Dab, Dak + Dkb)"
   ]
  },
  {
   "cell_type": "code",
   "execution_count": 51,
   "metadata": {},
   "outputs": [
    {
     "name": "stdout",
     "output_type": "stream",
     "text": [
      "4\n",
      "0 4 999 6\n",
      "3 0 7 999\n",
      "5 999 0 4\n",
      "999 999 2 0\n"
     ]
    }
   ],
   "source": [
    "# 노드 개수, 간선 개수\n",
    "n = int(input())\n",
    "graph = []\n",
    "\n",
    "for i in range(n):\n",
    "    row = list(map(int, input().split()))\n",
    "    graph.append(row)"
   ]
  },
  {
   "cell_type": "code",
   "execution_count": 52,
   "metadata": {},
   "outputs": [
    {
     "data": {
      "text/plain": [
       "[[0, 4, 999, 6], [3, 0, 7, 999], [5, 999, 0, 4], [999, 999, 2, 0]]"
      ]
     },
     "execution_count": 52,
     "metadata": {},
     "output_type": "execute_result"
    }
   ],
   "source": [
    "graph"
   ]
  },
  {
   "cell_type": "code",
   "execution_count": 54,
   "metadata": {},
   "outputs": [
    {
     "data": {
      "text/plain": [
       "[[0, 4, 8, 6], [3, 0, 7, 9], [5, 9, 0, 4], [7, 11, 2, 0]]"
      ]
     },
     "execution_count": 54,
     "metadata": {},
     "output_type": "execute_result"
    }
   ],
   "source": [
    "for k in range(n):\n",
    "    for i in range(n):\n",
    "        for j in range(n):\n",
    "            graph[i][j] = min(graph[i][j], graph[i][k] + graph[k][j])\n",
    "graph"
   ]
  },
  {
   "cell_type": "markdown",
   "metadata": {},
   "source": [
    "### 문제 풀이"
   ]
  },
  {
   "cell_type": "markdown",
   "metadata": {},
   "source": [
    "1. 전보"
   ]
  },
  {
   "cell_type": "code",
   "execution_count": 56,
   "metadata": {},
   "outputs": [
    {
     "name": "stdout",
     "output_type": "stream",
     "text": [
      "3 2 1\n",
      "1 2 4\n",
      "1 3 2\n"
     ]
    }
   ],
   "source": [
    "import heapq\n",
    "\n",
    "n, m, c = map(int, input().split())\n",
    "graph = [[] for i in range(n+1)]\n",
    "\n",
    "for i in range(m):\n",
    "    x, y, z = map(int, input().split())\n",
    "    graph[x].append((y, z))"
   ]
  },
  {
   "cell_type": "code",
   "execution_count": 60,
   "metadata": {},
   "outputs": [
    {
     "data": {
      "text/plain": [
       "[[], [(2, 4), (3, 2)], [], []]"
      ]
     },
     "execution_count": 60,
     "metadata": {},
     "output_type": "execute_result"
    }
   ],
   "source": [
    "graph"
   ]
  },
  {
   "cell_type": "code",
   "execution_count": 62,
   "metadata": {},
   "outputs": [
    {
     "data": {
      "text/plain": [
       "[9999, 9999, 9999, 9999]"
      ]
     },
     "execution_count": 62,
     "metadata": {},
     "output_type": "execute_result"
    }
   ],
   "source": [
    "distance"
   ]
  },
  {
   "cell_type": "code",
   "execution_count": 75,
   "metadata": {},
   "outputs": [
    {
     "name": "stdout",
     "output_type": "stream",
     "text": [
      "2 4\n"
     ]
    }
   ],
   "source": [
    "INF = 9999\n",
    "distance = [INF]*(n+1)\n",
    "\n",
    "def dijkstra(start):\n",
    "    q = []\n",
    "    heapq.heappush(q, (start, 0))\n",
    "    \n",
    "    while q:\n",
    "        now, dist = heapq.heappop(q)\n",
    "#         print(now, dist)\n",
    "        if dist > distance[now]:\n",
    "            continue\n",
    "        for i in graph[now]:\n",
    "            cost = dist + i[1]\n",
    "#             print(cost, distance[i[0]])\n",
    "            if distance[i[0]] > cost:\n",
    "                distance[i[0]] = cost\n",
    "                heapq.heappush(q, (i[0], cost))\n",
    "                \n",
    "dijkstra(c)\n",
    "\n",
    "cities = len(distance) - distance.count(INF)\n",
    "max_time = 0\n",
    "for i in distance:\n",
    "    if i != INF and i > max_time:\n",
    "        max_time = i\n",
    "        \n",
    "print(f\"{cities} {max_time}\")"
   ]
  },
  {
   "cell_type": "markdown",
   "metadata": {},
   "source": [
    "2. 미래 도시"
   ]
  },
  {
   "cell_type": "code",
   "execution_count": 79,
   "metadata": {},
   "outputs": [
    {
     "name": "stdout",
     "output_type": "stream",
     "text": [
      "5 7\n",
      "1 2\n",
      "1 3\n",
      "1 4\n",
      "2 4\n",
      "3 4\n",
      "3 5\n",
      "4 5\n",
      "4 5\n"
     ]
    },
    {
     "data": {
      "text/plain": [
       "[[0, 999999, 999999, 999999, 999999, 999999],\n",
       " [999999, 0, 1, 1, 1, 2],\n",
       " [999999, 1, 0, 2, 1, 2],\n",
       " [999999, 1, 2, 0, 1, 1],\n",
       " [999999, 1, 1, 1, 0, 1],\n",
       " [999999, 2, 2, 1, 1, 0]]"
      ]
     },
     "execution_count": 79,
     "metadata": {},
     "output_type": "execute_result"
    }
   ],
   "source": [
    "n, m = map(int, input().split())\n",
    "INF = 999999\n",
    "graph = [[INF]*(n+1) for i in range(n+1)]\n",
    "\n",
    "for i in range(n+1):\n",
    "    graph[i][i] = 0\n",
    "\n",
    "for i in range(m):\n",
    "    a, b = map(int, input().split())\n",
    "    graph[a][b] = 1\n",
    "    graph[b][a] = 1\n",
    "    \n",
    "start = 1\n",
    "x_end, k_mid = map(int, input().split())\n",
    "\n",
    "for k in range(n+1):\n",
    "    for i in range(n+1):\n",
    "        for j in range(n+1):\n",
    "            graph[i][j] = min(graph[i][j], graph[i][k] + graph[k][j])\n",
    "graph"
   ]
  },
  {
   "cell_type": "code",
   "execution_count": 80,
   "metadata": {},
   "outputs": [
    {
     "name": "stdout",
     "output_type": "stream",
     "text": [
      "3\n"
     ]
    }
   ],
   "source": [
    "answer = graph[1][k_mid] + graph[k_mid][x_end]\n",
    "if answer >= INF:\n",
    "    print(-1)\n",
    "else:\n",
    "    print(answer)"
   ]
  }
 ],
 "metadata": {
  "kernelspec": {
   "display_name": "Python 3",
   "language": "python",
   "name": "python3"
  },
  "language_info": {
   "codemirror_mode": {
    "name": "ipython",
    "version": 3
   },
   "file_extension": ".py",
   "mimetype": "text/x-python",
   "name": "python",
   "nbconvert_exporter": "python",
   "pygments_lexer": "ipython3",
   "version": "3.8.5"
  }
 },
 "nbformat": 4,
 "nbformat_minor": 4
}
