{
 "cells": [
  {
   "cell_type": "markdown",
   "metadata": {},
   "source": [
    "# 이진 탐색\n",
    "- 정렬된 리스트에서 특정 원소의 존재 여부 및 위치를 찾는 탐색 방법\n",
    "- 시간복잡도 : O(logN)"
   ]
  },
  {
   "cell_type": "markdown",
   "metadata": {},
   "source": [
    "1. 반복문으로 구현"
   ]
  },
  {
   "cell_type": "code",
   "execution_count": 30,
   "metadata": {},
   "outputs": [],
   "source": [
    "a = [1, 3, 5, 7, 9, 11, 13, 15, 17, 19]"
   ]
  },
  {
   "cell_type": "code",
   "execution_count": 31,
   "metadata": {},
   "outputs": [
    {
     "name": "stdout",
     "output_type": "stream",
     "text": [
      "6은 리스트에 없습니다.\n"
     ]
    }
   ],
   "source": [
    "start = 0\n",
    "end = len(a)-1\n",
    "target = 6\n",
    "result = False\n",
    "\n",
    "while start <= end:\n",
    "    mid = (start+end)//2\n",
    "    if a[mid] == target:\n",
    "        result = mid\n",
    "        break\n",
    "    elif a[mid] < target:\n",
    "        start = mid+1\n",
    "    else:\n",
    "        end = mid-1\n",
    "        \n",
    "if result:\n",
    "    print(f\"{target}은 {result} 위치에 있습니다.\")\n",
    "else:\n",
    "    print(f\"{target}은 리스트에 없습니다.\")"
   ]
  },
  {
   "cell_type": "markdown",
   "metadata": {},
   "source": [
    "2. 재귀함수로 구현"
   ]
  },
  {
   "cell_type": "code",
   "execution_count": 27,
   "metadata": {},
   "outputs": [],
   "source": [
    "a = [1, 3, 5, 7, 9, 11, 13, 15, 17, 19]"
   ]
  },
  {
   "cell_type": "code",
   "execution_count": 28,
   "metadata": {},
   "outputs": [],
   "source": [
    "def binary_search(array, start, end, target):\n",
    "    if start > end:\n",
    "        return False\n",
    "    mid = (start+end)//2\n",
    "    \n",
    "    if a[mid] == target:\n",
    "        return mid\n",
    "    elif a[mid] < target:\n",
    "        return binary_search(array, mid + 1, end, target)\n",
    "    else:\n",
    "        return binary_search(array, start, mid - 1, target)"
   ]
  },
  {
   "cell_type": "code",
   "execution_count": 29,
   "metadata": {
    "scrolled": true
   },
   "outputs": [
    {
     "name": "stdout",
     "output_type": "stream",
     "text": [
      "5은 2 위치에 있습니다.\n"
     ]
    }
   ],
   "source": [
    "result = binary_search(a, 0, len(a)-1, 5)\n",
    "if result:\n",
    "    print(f\"{target}은 {result} 위치에 있습니다.\")\n",
    "else:\n",
    "    print(f\"{target}은 리스트에 없습니다.\")"
   ]
  },
  {
   "cell_type": "markdown",
   "metadata": {},
   "source": [
    "## 유용한 이진 탐색 라이브러리"
   ]
  },
  {
   "cell_type": "code",
   "execution_count": 32,
   "metadata": {},
   "outputs": [
    {
     "name": "stdout",
     "output_type": "stream",
     "text": [
      "4는 2개 입니다.\n",
      "-1에서 3 사이의 값 개수는 6개 입니다.\n"
     ]
    }
   ],
   "source": [
    "from bisect import bisect_left, bisect_right\n",
    "\n",
    "a = [1, 2, 3, 3, 3, 3, 4, 4, 8, 9]\n",
    "\n",
    "# 리스트 내에 4의 개수\n",
    "right_idx = bisect_right(a, 4)\n",
    "left_idx = bisect_left(a, 4)\n",
    "count_4 = right_idx - left_idx\n",
    "\n",
    "# 리스트 내에서 -1부터 3 사이의 값 개수\n",
    "right_idx = bisect_right(a, 3)\n",
    "left_idx = bisect_left(a, -1)\n",
    "count_range = right_idx - left_idx\n",
    "\n",
    "print(f\"4는 {count_4}개 입니다.\")\n",
    "print(f\"-1에서 3 사이의 값 개수는 {count_range}개 입니다.\")"
   ]
  },
  {
   "cell_type": "markdown",
   "metadata": {},
   "source": [
    "# 파라메트릭 서치\n",
    "- 최적한 문제(함수의 값을 최대 혹은 최소로 만드는 문제)를 결정 문제(yes/no 문제)로 바꿔서 해결하는 기법\n",
    "> ex) 특정 조건을 만족하는 가장 알맞은 값을 찾는 문제"
   ]
  },
  {
   "cell_type": "markdown",
   "metadata": {},
   "source": [
    "### 문제 풀이"
   ]
  },
  {
   "cell_type": "markdown",
   "metadata": {},
   "source": [
    "1. 떡볶이 떡 만들기"
   ]
  },
  {
   "cell_type": "code",
   "execution_count": 67,
   "metadata": {
    "scrolled": true
   },
   "outputs": [
    {
     "name": "stdout",
     "output_type": "stream",
     "text": [
      "4 7\n",
      "19 14 10 17\n"
     ]
    }
   ],
   "source": [
    "n, m = map(int, input().split())\n",
    "lengths = list(map(int, input().split()))"
   ]
  },
  {
   "cell_type": "code",
   "execution_count": 73,
   "metadata": {},
   "outputs": [
    {
     "name": "stdout",
     "output_type": "stream",
     "text": [
      "손님의 요청은 7cm 이며,\n",
      "14cm로 자르면 손님은 8cm 떡을 가져갑니다.\n"
     ]
    }
   ],
   "source": [
    "start = 0\n",
    "end = max(lengths)\n",
    "\n",
    "answer = 0\n",
    "left_answer = 0\n",
    "while True:\n",
    "    if start > end:\n",
    "        break\n",
    "    mid = (start+end)//2\n",
    "    left = 0\n",
    "    for i in lengths:\n",
    "        if i > mid:\n",
    "            left += (i-mid)\n",
    "\n",
    "    if m == left:\n",
    "        answer = mid\n",
    "        left_answer = left\n",
    "        break\n",
    "    elif m > left:\n",
    "        end = mid - 1\n",
    "    else:\n",
    "        answer = mid\n",
    "        left_answer = left\n",
    "        start = mid + 1\n",
    "\n",
    "print(f\"손님의 요청은 {m}cm 이며,\")\n",
    "print(f\"{answer}cm로 자르면 손님은 {left_answer}cm 떡을 가져갑니다.\")"
   ]
  }
 ],
 "metadata": {
  "kernelspec": {
   "display_name": "Python 3",
   "language": "python",
   "name": "python3"
  },
  "language_info": {
   "codemirror_mode": {
    "name": "ipython",
    "version": 3
   },
   "file_extension": ".py",
   "mimetype": "text/x-python",
   "name": "python",
   "nbconvert_exporter": "python",
   "pygments_lexer": "ipython3",
   "version": "3.7.6"
  }
 },
 "nbformat": 4,
 "nbformat_minor": 4
}
