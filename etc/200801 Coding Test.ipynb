{
 "cells": [
  {
   "cell_type": "markdown",
   "metadata": {},
   "source": [
    "# 200801 Test\n",
    "- 100분, 7문제"
   ]
  },
  {
   "cell_type": "markdown",
   "metadata": {},
   "source": [
    "## 1. 1은 2가 좋지만 2는 생각이 없다.\n",
    "1) 1과 2호 구성된 문자열의 유효성을 판별하기<br>\n",
    "2) 아래 규칙에 성립하면 True, 아니면 False 출력\n",
    "<br><br>\n",
    "3) 규칙\n",
    "    - 문자열은 1, 2로만 이루어짐\n",
    "    - 1 뒤에는 항상 2 (1로 끝나는 것도 안됨)\n",
    "    - 2 뒤는 1 혹은 2 가능"
   ]
  },
  {
   "cell_type": "code",
   "execution_count": 155,
   "metadata": {},
   "outputs": [
    {
     "name": "stdout",
     "output_type": "stream",
     "text": [
      "12\n",
      "True\n"
     ]
    }
   ],
   "source": [
    "user_input = input()\n",
    "\n",
    "length = len(a)\n",
    "answer = True\n",
    "for i in range(length):\n",
    "    if a[i] == \"1\":\n",
    "        if i == (length-1) or a[i+1] != \"2\":\n",
    "            answer = False\n",
    "            break\n",
    "print(answer)"
   ]
  },
  {
   "cell_type": "markdown",
   "metadata": {},
   "source": [
    "## 2. 내가 주운 로또 복권이 가짜인가\n",
    "1) 로또 번호 문자열의 유효성을 판별하기<br>\n",
    "2) 아래 규칙에 성립하면 True, 아니면 False 출력<br>\n",
    "3) 숫자 사이에는 공백이 있음 (ex-1 2 3)\n",
    "<br><br>\n",
    "4) 규칙\n",
    "    - 중복되지 않는 6개 숫자로 구성\n",
    "    - 각 번호는 1~45 사이 숫자\n",
    "    - 오름차순으로 정렬"
   ]
  },
  {
   "cell_type": "code",
   "execution_count": 157,
   "metadata": {},
   "outputs": [
    {
     "name": "stdout",
     "output_type": "stream",
     "text": [
      "True\n"
     ]
    }
   ],
   "source": [
    "user_input = input()\n",
    "\n",
    "inputs = user_input.split(' ')\n",
    "inputs = list(map(int, inputs)) # 배열의 문자열 숫자를 int로 변경\n",
    "sorted_inputs = sorted(inputs) # 오름차순 여부 확인을 위한 배열\n",
    "\n",
    "\n",
    "answer = True\n",
    "if len(set(inputs)) != 6: # 중복없이 숫자 6개인지 확인\n",
    "    answer = False\n",
    "    \n",
    "elif inputs != sorted_inputs: # 오름차순인지 확인\n",
    "    answer = False\n",
    "\n",
    "else:\n",
    "    for n in inputs: # 모든 숫자가 1~45 사이인지 확인\n",
    "        if n > 46 or n < 0:\n",
    "            answer = False\n",
    "            break\n",
    "            \n",
    "print(answer)"
   ]
  },
  {
   "cell_type": "code",
   "execution_count": 53,
   "metadata": {
    "scrolled": true
   },
   "outputs": [
    {
     "name": "stdout",
     "output_type": "stream",
     "text": [
      "False\n"
     ]
    }
   ],
   "source": [
    "# 배열 비교 > 순서도 다르면 다른 배열로 인식\n",
    "a = [\"1\", \"2\"]\n",
    "b = [\"2\", \"1\"]\n",
    "print(a==b)"
   ]
  },
  {
   "cell_type": "markdown",
   "metadata": {},
   "source": [
    "## 3. 초고속 응답 함수\n",
    "1) 중복이 2개 이상 포함된 n개의 정수가 주어졌을 때 함수를 이용하여 n초 미만으로 테스트 케이스를 통과하는 코드를 작성해주십시오.\n",
    "<br><br>\n",
    "2) 규칙\n",
    "    - compute(int n) 의 함수가 주어졌다.\n",
    "    - 주어진 compute 함수는 정수를 받아서 정수를 반환하지만, 1초가 걸린다.\n",
    "    - compute 함수는 동일한 인자가 주어지면 항상 동일한 수를 리턴한다."
   ]
  },
  {
   "cell_type": "code",
   "execution_count": 178,
   "metadata": {},
   "outputs": [],
   "source": [
    "# compute는 알려주지 않았기에 자체적으로 만듬\n",
    "def compute(n):\n",
    "    return(n*100)"
   ]
  },
  {
   "cell_type": "code",
   "execution_count": 174,
   "metadata": {},
   "outputs": [
    {
     "name": "stdout",
     "output_type": "stream",
     "text": [
      "1 2 3\n"
     ]
    }
   ],
   "source": [
    "user_input = input().split(\" \")\n",
    "user_input = list(map(int, user_input))"
   ]
  },
  {
   "cell_type": "code",
   "execution_count": 175,
   "metadata": {},
   "outputs": [
    {
     "name": "stdout",
     "output_type": "stream",
     "text": [
      "100 200 300 "
     ]
    }
   ],
   "source": [
    "for i in user_input: # n초\n",
    "    compute(i)"
   ]
  },
  {
   "cell_type": "code",
   "execution_count": 187,
   "metadata": {},
   "outputs": [
    {
     "name": "stdout",
     "output_type": "stream",
     "text": [
      "100 200 300 "
     ]
    }
   ],
   "source": [
    "# 중복일 경우엔 함수를 거치지 않고 이전 것을 사용\n",
    "\n",
    "computed_hash = {}\n",
    "input_length = len(user_input)\n",
    "for i in user_input:\n",
    "    keys = computed_hash.keys()\n",
    "    if i in keys:\n",
    "        print(computed_hash[i], end=' ')\n",
    "    else:\n",
    "        computed_hash[i] = compute(i)\n",
    "        print(computed_hash[i], end=' ')"
   ]
  },
  {
   "cell_type": "markdown",
   "metadata": {},
   "source": [
    "## 4. 단기 기억상실증\n",
    "1) 최근 사용한 결제수단 순으로 화면에 표시하려고 한다.\n",
    "<br><br>\n",
    "2) 규칙\n",
    "    - 기억할 수 있는 결제수단은 최근 5 종류 결제수단이다.\n",
    "    - 주어진 input은 사용 순으로 나열된 것이다.(마지막 값이 제일 최근)\n",
    "    - 주어진 input을 기준으로 매 결제수단 사용시 최근 5개 결제수단을 출력하기."
   ]
  },
  {
   "cell_type": "code",
   "execution_count": 188,
   "metadata": {
    "scrolled": true
   },
   "outputs": [
    {
     "name": "stdout",
     "output_type": "stream",
     "text": [
      "['우리']\n",
      "['우리']\n",
      "['우리']\n",
      "['하나', '우리']\n",
      "['우리', '하나']\n",
      "['국민', '우리', '하나']\n",
      "['삼성', '국민', '우리', '하나']\n",
      "['농협', '삼성', '국민', '우리', '하나']\n",
      "['농협', '삼성', '국민', '우리', '하나']\n",
      "['농협', '삼성', '국민', '우리', '하나']\n",
      "['국민', '농협', '삼성', '우리', '하나']\n",
      "['저축', '국민', '농협', '삼성', '우리']\n"
     ]
    }
   ],
   "source": [
    "user_input = \"우리 우리 우리 하나 우리 국민 삼성 농협 농협 농협 국민 저축\"\n",
    "\n",
    "inputs = user_input.split(' ')\n",
    "answer = []\n",
    "for i in inputs:\n",
    "    if i in answer:\n",
    "        del(answer[answer.index(i)])\n",
    "    answer.append(i)\n",
    "    if len(answer) >= 5:\n",
    "        print(list(reversed(answer))[:5])\n",
    "    else:\n",
    "        print(list(reversed(answer)))"
   ]
  },
  {
   "cell_type": "markdown",
   "metadata": {},
   "source": [
    "## 5. 김씨와 이씨\n",
    "1) 김씨가 당일 이씨에게 줘야 할 금액을 출력하는 코드를 작성해라.\n",
    "<br><br>\n",
    "2) 규칙\n",
    "    - 김씨는 이씨에게 매일 특정 금액을 줘야한다.\n",
    "    - 이씨는 김씨에게 매일 특정 금액을 줘야한다.\n",
    "    - 두 명은 서로 주는 게 귀찮아, 항상 김씨가 이씨에게 받을 금액을 감안해서 이씨에게 돈을 준다."
   ]
  },
  {
   "cell_type": "code",
   "execution_count": 243,
   "metadata": {},
   "outputs": [],
   "source": [
    "Kim_toLee = [100, 300, 10, 0, 40, 0, 0, 70, 65]\n",
    "Lee_toKim = [40, 300, 20, 10, 10, 20, 100, 10, 0]"
   ]
  },
  {
   "cell_type": "code",
   "execution_count": 244,
   "metadata": {},
   "outputs": [
    {
     "name": "stdout",
     "output_type": "stream",
     "text": [
      "[60, 0, 0, 0, 10, 0, 0, 0, 5]\n"
     ]
    }
   ],
   "source": [
    "left = 0\n",
    "\n",
    "def minus(a, b):\n",
    "    global left\n",
    "    result = a - b\n",
    "    if result <= 0:\n",
    "        left += result\n",
    "        result = 0\n",
    "    elif left < 0:\n",
    "        check = result + left\n",
    "        if check >= 0:\n",
    "            left = 0\n",
    "            result = check\n",
    "        else:\n",
    "            left = check\n",
    "            result = 0\n",
    "    return result\n",
    "\n",
    "answer = list(map(minus, Kim_toLee, Lee_toKim))\n",
    "print(answer)"
   ]
  },
  {
   "cell_type": "markdown",
   "metadata": {},
   "source": [
    "## 6. 카페 바 테이블 둘레 구하기\n",
    "1) 카페에 설치된 테이블의 둘레를 구하라.\n",
    "<br><br>\n",
    "2) 규칙\n",
    "    - 입력은 0, 1로 이루어진 문자열이다.\n",
    "    - 0은 빈 공간, 1은 테이블이 있는 공간이다.\n",
    "    - 1이 상하좌우 어디든 연속적이면 그 두 영역은 연결된 영역이다.\n",
    "    - 각 문자는 공백 한 칸으로, 각 줄은 세미콜론(;)으로 구분된다.\n",
    "    - 입력 데이터가 nxm 일 때 모든 행은 동일한 길이를 가진다.\n",
    "    - 입력 테이블은 하나의 연속된 테이블 정보를 나타내고 있다.\n",
    "    - 테이블 둘레는 바깥 둘레 뿐만 아니라 안쪽 둘레까지 구해야하며, 한 테이블의 한 면(가로, 세로) 길이는 1이다.\n",
    "    - 인풋 데이터 최소 크기는 3x3이며, 각 상하좌우 끝은 0으로 둘러싸여 있다."
   ]
  },
  {
   "cell_type": "code",
   "execution_count": 302,
   "metadata": {},
   "outputs": [],
   "source": [
    "user_input = \"0 0 0 0 0;0 1 1 1 0;0 1 0 1 0;0 1 1 1 0;0 0 0 0\""
   ]
  },
  {
   "cell_type": "code",
   "execution_count": 303,
   "metadata": {},
   "outputs": [
    {
     "name": "stdout",
     "output_type": "stream",
     "text": [
      "16\n"
     ]
    }
   ],
   "source": [
    "row_length = user_input.index(\";\") // 2 + 1\n",
    "table = user_input.replace(\";\", \" \").split(\" \")\n",
    "\n",
    "now = 4\n",
    "answer = 0\n",
    "around = []\n",
    "\n",
    "for i in range(row_length, len(table) - row_length):\n",
    "    idx = i % row_length\n",
    "    if idx not in [0, row_length-1]:\n",
    "        # 테이블이 있을 수 있는 영역\n",
    "        if table[i] == \"1\":\n",
    "            # 현 위치의 상하좌우\n",
    "            around = [table[i-1], table[i+1], table[i-row_length], table[i-row_length]]\n",
    "            answer += now - around.count(\"1\") # 현 위치의 둘레\n",
    "print(answer)"
   ]
  },
  {
   "cell_type": "markdown",
   "metadata": {},
   "source": [
    "## 7. 유효 데이터 복사하기\n",
    "1) 메모리 상에 있는 데이터를 유효한 데이터만 남겨두고 정리하려고 한다. 아래 규칙을 따르는 데이터가 공간 A에 있다고 가정할 때 유효 데이터를 차례대로 새 공간 B에 옮기는 코드를 작성해라.\n",
    "<br><br>\n",
    "2) 규칙\n",
    "    - 공간 A, B는 동일하게 크기가 8이다.\n",
    "    - 각 공간의 주소는 0부터 7까지의 주소로 표현한다.\n",
    "    - 각 공간의 크기와 별개로 공간의 가장 앞 자리에는 해당 공간의 첫 유효한 데이터의 주소를 나타내는 Starting Pointer가 들어간다.\n",
    "    - 하나의 데이터는 크기가 항상 2이며 첫 번째 자리에는 데이터의 형식, 두 번째 자리에는 그 값이 들어간다.\n",
    "    - 각 포인터가 가리키는 대상 데이터는 유효한 데이터이므로 새로운 공간으로 옮겨져야 한다.\n",
    "    - 새로운 공간의 Starting Pointer는 항상 0이다.\n",
    "    - 새로운 공간으로 옮겨질 떄는 각 유효 테이터가 기존 공간에서 유효한 데이터의 순서대로 새로운 공간에 연속적인 공간에 놓여져야 하며, 남는 공간이 있다면 0으로 채워야한다.\n",
    "<br><br>\n",
    "3) 데이터\n",
    "    - 첫 자리에 0이면 그 다음 자리는 포인터를 의미\n",
    "        ex: 0 6 > 주소 6을 나타내는 포인터\n",
    "    - 첫 자리에 1이면 그 다음 자리는 숫가 값를 의미\n",
    "        ex: 1 30 > 숫자 값 30\n",
    "<br><br>\n",
    "4) 예제<br><br>\n",
    "1. input : \n",
    "```4; 1 30 0 6 0 2 1 3```\n",
    "2. Starting Pointer 4는 주소 4를 가리킨다. \n",
    "- 주소 4의 데이터는 유효하기에 (0 2) 는 유효, 0으로 시작하기에 2는 포인터<br>\n",
    "```4; 1 30 0 6 (0 2) 1 3```\n",
    "- 주소 2의 데이터는 유효하기에 (0 6) 은 유효, 0으로 시작하기에 6은 포인터<br>\n",
    "```4; 1 30 (0 6) (0 2) 1 3```\n",
    "- 주소 6의 데이터는 유효하기에 (1 3) 은 유효, 1로 시작하기에 3은 숫자 값<br>\n",
    "```4; 1 30 (0 6) (0 2) (1 3)```\n",
    "- 더 이상 유효 데이터가 없으므로 새 공간에 차례로 옮긴다.\n",
    "<br>\n",
    "- 새 공간의 Staring Pointer는 항상 0이므로 첫 유효 데이터 (0 2)를 주소 0, 1 위치로 옮긴다.<br>\n",
    "```0; 0 2```\n",
    "- 두 번째 유효 데이터 (0 6)을 주소 2, 3에 복사하고, 이 유효 데이터는 포인터이므로 다음 세 번째 유효 데이터를 가리키도록 (0 4)로 변경한다.<br>\n",
    "```0; 0 2 0 4```\n",
    "- 마지막 세 번째 유효 데이터는 (1 3)으로 주소 4, 5에 복사하고 남은 주소 6, 7에는 0을 채운다.<br>\n",
    "```0; 0 2 0 4 1 3 0 0```"
   ]
  },
  {
   "cell_type": "code",
   "execution_count": 133,
   "metadata": {},
   "outputs": [],
   "source": [
    "user_input = \"4; 1 30 0 6 0 2 1 3\""
   ]
  },
  {
   "cell_type": "code",
   "execution_count": 135,
   "metadata": {},
   "outputs": [
    {
     "name": "stdout",
     "output_type": "stream",
     "text": [
      "data_type:  0 data_value:  2 counter:  1\n",
      "data_type:  0 data_value:  6 counter:  2\n",
      "data_type:  1 data_value:  30 counter:  2\n"
     ]
    }
   ],
   "source": [
    "pointer = int(user_input[0])\n",
    "data = list(map(int, user_input[3:].split(\" \")))\n",
    "\n",
    "data_type = 0\n",
    "data_value = 0\n",
    "counter = 0\n",
    "new_place = [0,0,0,0,0,0,0,0]\n",
    "\n",
    "while data_type == 0:\n",
    "    data_type = data[pointer]\n",
    "    data_value = data[pointer + 1]\n",
    "    if data_type == 0:\n",
    "        pointer = data_value\n",
    "        counter += 1\n",
    "    print(\"data_type: \", data_type, \"data_value: \", data_value, \"counter: \", counter)"
   ]
  },
  {
   "cell_type": "code",
   "execution_count": 136,
   "metadata": {},
   "outputs": [],
   "source": [
    "idx = 1\n",
    "for i in range(counter):\n",
    "    new_place[idx] = idx+1\n",
    "    idx += 2\n",
    "    \n",
    "new_place[idx-1] = 1\n",
    "new_place[idx] = data_value\n",
    "new_place = list(map(str, new_place))\n",
    "answer = \" \".join(new_place)\n",
    "answer = \"0; \" + answer\n",
    "print(answer)"
   ]
  }
 ],
 "metadata": {
  "kernelspec": {
   "display_name": "Python 3",
   "language": "python",
   "name": "python3"
  },
  "language_info": {
   "codemirror_mode": {
    "name": "ipython",
    "version": 3
   },
   "file_extension": ".py",
   "mimetype": "text/x-python",
   "name": "python",
   "nbconvert_exporter": "python",
   "pygments_lexer": "ipython3",
   "version": "3.7.6"
  }
 },
 "nbformat": 4,
 "nbformat_minor": 4
}
