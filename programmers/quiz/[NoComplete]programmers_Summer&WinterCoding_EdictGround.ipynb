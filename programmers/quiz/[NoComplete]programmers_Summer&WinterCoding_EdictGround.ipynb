{
 "cells": [
  {
   "cell_type": "markdown",
   "metadata": {},
   "source": [
    "# 프로그래머스 문제\n",
    "\n",
    "## 7. 지형편집\n",
    "- 지형의 구조인 NxN 배열, 블럭 추가 비용 P, 블럭 삭제 비용 Q가 주어질 때, 평평한 지형을 만들기 위한 최소비용을 구하시오.\n",
    " \n",
    "### 제한사항\n",
    "- 블럭은 1X1 크기로 되어있다.\n",
    "- 지형은 2차원 배열로 주어진다.\n",
    "- 모든 땅의 높이가 동일해지도록 만들어야한다."
   ]
  },
  {
   "cell_type": "markdown",
   "metadata": {},
   "source": [
    "*** 효율성에서 실패***"
   ]
  },
  {
   "cell_type": "code",
   "execution_count": 29,
   "metadata": {},
   "outputs": [],
   "source": [
    "land = [[1, 2], [2, 3]]\n",
    "P = 3\n",
    "Q = 2"
   ]
  },
  {
   "cell_type": "code",
   "execution_count": 33,
   "metadata": {},
   "outputs": [],
   "source": [
    "land = [[4, 4, 3], [3, 2, 2], [ 2, 1, 0 ]]\n",
    "P = 5\n",
    "Q = 3"
   ]
  },
  {
   "cell_type": "code",
   "execution_count": 32,
   "metadata": {},
   "outputs": [
    {
     "data": {
      "text/plain": [
       "33"
      ]
     },
     "execution_count": 32,
     "metadata": {},
     "output_type": "execute_result"
    }
   ],
   "source": [
    "import numpy as np\n",
    "\n",
    "land = np.array(land)\n",
    "land_1arr = land.flatten()\n",
    "# [n for row in land for n in row]\n",
    "min_level = min(land_1arr)\n",
    "max_level = max(land_1arr)\n",
    "cost_sum = 0\n",
    "answer = 0\n",
    "\n",
    "while min_level != max_level:\n",
    "    mid = (min_level + max_level)//2\n",
    "    lefts = land_1arr-mid\n",
    "    rights = land_1arr-(mid+1)\n",
    "    \n",
    "    left_cost = lefts.apply(lambda c: if c>0 )\n",
    "    right_cost = int(sum([c*Q if (c>0) else c*-1*P for c in rights]))\n",
    "    \n",
    "    if left_cost < right_cost:\n",
    "        answer = left_cost\n",
    "        max_level = mid\n",
    "    else:\n",
    "        answer = right_cost\n",
    "        min_level = mid+1\n",
    "answer"
   ]
  }
 ],
 "metadata": {
  "kernelspec": {
   "display_name": "Python 3",
   "language": "python",
   "name": "python3"
  },
  "language_info": {
   "codemirror_mode": {
    "name": "ipython",
    "version": 3
   },
   "file_extension": ".py",
   "mimetype": "text/x-python",
   "name": "python",
   "nbconvert_exporter": "python",
   "pygments_lexer": "ipython3",
   "version": "3.7.6"
  }
 },
 "nbformat": 4,
 "nbformat_minor": 4
}
