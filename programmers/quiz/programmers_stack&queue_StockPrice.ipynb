{
 "cells": [
  {
   "cell_type": "markdown",
   "metadata": {},
   "source": [
    "# 프로그래머스 문제\n",
    "\n",
    "## 4. 주식가격\n",
    "- 초당 주식가격이 담긴 prices 배열이 있을 때, 가격이 몇 초동안 떨어지지 않는지를 구하라.\n",
    " \n",
    "### 제한사항\n",
    "- 가격이 유지 혹은 상승할 동안의 초를 구하는 것이다.\n",
    "<br>\n",
    "<br>\n",
    "\n",
    "#### 효율성 통과가 관건인 문제였음!"
   ]
  },
  {
   "cell_type": "markdown",
   "metadata": {},
   "source": [
    "< 효율성 향상을 위한 방법 >\n",
    "1. list.append보다 list comprehension으로 배열 생성 후 값을 바꾸는 게 더 빠르다.\n",
    "2. list slicing보다 range(시작, 끝)으로 돌리는 게 빠르다."
   ]
  },
  {
   "cell_type": "markdown",
   "metadata": {},
   "source": [
    "1) 이중 for문 사용\n",
    "- 정확성 만족, 효율성 0점"
   ]
  },
  {
   "cell_type": "code",
   "execution_count": 2,
   "metadata": {},
   "outputs": [
    {
     "data": {
      "text/plain": [
       "[4, 3, 1, 1, 0]"
      ]
     },
     "execution_count": 2,
     "metadata": {},
     "output_type": "execute_result"
    }
   ],
   "source": [
    "prices = [1,2,3,2,3]\n",
    "answer = []\n",
    "\n",
    "for p in range(len(prices)):\n",
    "    count = 0\n",
    "    for target in prices[p+1:]:\n",
    "        count += 1\n",
    "        if target < prices[p]:\n",
    "            break\n",
    "    answer.append(count)\n",
    "answer"
   ]
  },
  {
   "cell_type": "markdown",
   "metadata": {},
   "source": [
    "2) 이중 for문 사용, 최적화\n",
    "- 정확성 만족, 효율성 만족"
   ]
  },
  {
   "cell_type": "code",
   "execution_count": 127,
   "metadata": {},
   "outputs": [
    {
     "data": {
      "text/plain": [
       "[4, 3, 1, 1, 0]"
      ]
     },
     "execution_count": 127,
     "metadata": {},
     "output_type": "execute_result"
    }
   ],
   "source": [
    "prices = [1,2,3,2,3]\n",
    "answer = [0 for i in range(len(prices))]\n",
    "plen = len(prices)\n",
    "for p in range(plen-1):\n",
    "    for target in range(p+1, plen):\n",
    "        answer[p] += 1\n",
    "        if prices[target] < prices[p]:\n",
    "            break\n",
    "answer"
   ]
  }
 ],
 "metadata": {
  "kernelspec": {
   "display_name": "Python 3",
   "language": "python",
   "name": "python3"
  },
  "language_info": {
   "codemirror_mode": {
    "name": "ipython",
    "version": 3
   },
   "file_extension": ".py",
   "mimetype": "text/x-python",
   "name": "python",
   "nbconvert_exporter": "python",
   "pygments_lexer": "ipython3",
   "version": "3.7.6"
  }
 },
 "nbformat": 4,
 "nbformat_minor": 4
}
