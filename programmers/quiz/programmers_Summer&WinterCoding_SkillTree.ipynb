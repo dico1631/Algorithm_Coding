{
 "cells": [
  {
   "cell_type": "markdown",
   "metadata": {},
   "source": [
    "# 프로그래머스 문제\n",
    "\n",
    "## 8. 스킬트리\n",
    "- 선행 스킬 순서 skill과 유저들이 만든 스킬트리가 담긴 skill_trees가 주어질 때 가능한 스킬트리를 선택한 유저의 수를 출력하다.\n",
    " \n",
    "### 제한사항\n",
    "- 모두 알파벳 대문자로 되어있다.\n",
    "- 스킬은 중복되지 않는다.\n",
    "- skill_trees의 원소는 2 이상 26 이하이다."
   ]
  },
  {
   "cell_type": "code",
   "execution_count": 70,
   "metadata": {},
   "outputs": [],
   "source": [
    "skill = \"CBD\"\n",
    "skill_trees = [\"BACDE\", \"CBADF\", \"AECB\", \"BDA\"]"
   ]
  },
  {
   "cell_type": "code",
   "execution_count": 71,
   "metadata": {},
   "outputs": [],
   "source": [
    "answer = 0\n",
    "for tree in skill_trees:\n",
    "    no_skill = len(tree)+1\n",
    "    one_user = [tree.find(s) if tree.find(s)!=-1 else no_skill for s in skill]\n",
    "    for i in range(1, len(one_user)):\n",
    "        if max(one_user[:i]) > one_user[i]:\n",
    "            break\n",
    "    else:\n",
    "        answer += 1"
   ]
  },
  {
   "cell_type": "code",
   "execution_count": 72,
   "metadata": {},
   "outputs": [
    {
     "data": {
      "text/plain": [
       "2"
      ]
     },
     "execution_count": 72,
     "metadata": {},
     "output_type": "execute_result"
    }
   ],
   "source": [
    "answer"
   ]
  }
 ],
 "metadata": {
  "kernelspec": {
   "display_name": "Python 3",
   "language": "python",
   "name": "python3"
  },
  "language_info": {
   "codemirror_mode": {
    "name": "ipython",
    "version": 3
   },
   "file_extension": ".py",
   "mimetype": "text/x-python",
   "name": "python",
   "nbconvert_exporter": "python",
   "pygments_lexer": "ipython3",
   "version": "3.7.6"
  }
 },
 "nbformat": 4,
 "nbformat_minor": 4
}
